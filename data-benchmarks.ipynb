{
 "cells": [
  {
   "cell_type": "markdown",
   "metadata": {},
   "source": [
    "# How fast is data access?\n",
    "\n",
    "When it comes to data, the performance of the CPU/Memory, disk and database are key. This script measures how fast your system performs on these parameters.\n",
    "\n",
    "The whole script should run under a minute on most reasonably fast systems."
   ]
  },
  {
   "cell_type": "code",
   "execution_count": 1,
   "metadata": {
    "collapsed": false
   },
   "outputs": [],
   "source": [
    "from __future__ import print_function\n",
    "\n",
    "import io\n",
    "import time\n",
    "import sqlalchemy\n",
    "import numpy as np\n",
    "import pandas as pd\n",
    "from pathlib import Path\n",
    "\n",
    "class Timer:\n",
    "    def __init__(self, msg):\n",
    "        self.msg = msg\n",
    "\n",
    "    def __enter__(self):\n",
    "        self.start = time.clock()\n",
    "\n",
    "    def __exit__(self, *args):\n",
    "        self.end = time.clock()\n",
    "        print('{:0.3f}s {:s}'.format(self.end - self.start, self.msg))"
   ]
  },
  {
   "cell_type": "markdown",
   "metadata": {},
   "source": [
    "### CPU / RAM\n",
    "\n",
    "This is a pure numerical computation on values in memory that computes the [eigenvalues](http://docs.scipy.org/doc/numpy-1.10.0/reference/generated/numpy.linalg.eig.html) of a random dataset."
   ]
  },
  {
   "cell_type": "code",
   "execution_count": 2,
   "metadata": {
    "collapsed": false
   },
   "outputs": [
    {
     "name": "stdout",
     "output_type": "stream",
     "text": [
      "1.991s computation\n"
     ]
    }
   ],
   "source": [
    "# Initialise the same data every time\n",
    "np.random.seed(0)\n",
    "data = np.random.random((1000, 1000))\n",
    "\n",
    "# Time the computation\n",
    "with Timer('computation'):\n",
    "    np.linalg.eig(data)"
   ]
  },
  {
   "cell_type": "markdown",
   "metadata": {},
   "source": [
    "### Disk\n",
    "\n",
    "Let's time sequential writes and reads on the disk.\n",
    "\n",
    "The best way to do this is via [disktt](https://www.google.com/search?q=disktt) on Windows and [dd on Linux](https://www.thomas-krenn.com/en/wiki/Linux_I/O_Performance_Tests_using_dd).\n",
    "\n",
    "Below is a crude approximation in Python. Note: this is heavily influenced by OS disk caching."
   ]
  },
  {
   "cell_type": "code",
   "execution_count": 3,
   "metadata": {
    "collapsed": true
   },
   "outputs": [],
   "source": [
    "# Change this to any folder in the drive you want to test\n",
    "folder = Path('D:/')"
   ]
  },
  {
   "cell_type": "code",
   "execution_count": 4,
   "metadata": {
    "collapsed": false
   },
   "outputs": [
    {
     "name": "stdout",
     "output_type": "stream",
     "text": [
      "18.606s sequential disk write\n",
      "0.632s sequential disk read\n"
     ]
    }
   ],
   "source": [
    "# Test the speed of the hard disk at this folder\n",
    "# ... with this string data\n",
    "data = bytes('0123456789') * 100000000\n",
    "\n",
    "# Run the test\n",
    "path = folder / 'tempfile'\n",
    "with path.open(mode='wb', buffering=0) as handle:\n",
    "    with Timer('sequential disk write'):\n",
    "        handle.write(data)\n",
    "        \n",
    "with path.open(mode='rb', buffering=0) as handle:\n",
    "    with Timer('sequential disk read'):\n",
    "        handle.read()\n",
    "        \n",
    "path.unlink()"
   ]
  },
  {
   "cell_type": "markdown",
   "metadata": {},
   "source": [
    "### Database\n",
    "\n",
    "This script tests the speed of MySQL. It assumes that a MySQL instance running on localhost and a database called `test` accessible to user `root` with no password. You can [change the connection string](http://docs.sqlalchemy.org/en/latest/core/engines.html#mysql) based on your configuration.\n"
   ]
  },
  {
   "cell_type": "code",
   "execution_count": 5,
   "metadata": {
    "collapsed": false
   },
   "outputs": [],
   "source": [
    "# This is for a local MySQL database called test that you can connect to as root with no password\n",
    "engine = sqlalchemy.create_engine('mysql://root@localhost/test')\n",
    "\n",
    "# Test the connection\n",
    "connection = engine.connect()"
   ]
  },
  {
   "cell_type": "code",
   "execution_count": 6,
   "metadata": {
    "collapsed": false
   },
   "outputs": [],
   "source": [
    "# Setup the data structures\n",
    "data = pd.DataFrame(np.random.randint(0, 1000, (1000000, 3)))\n",
    "\n",
    "metadata = sqlalchemy.MetaData(bind=engine)\n",
    "metadata.reflect()\n",
    "\n",
    "# Drop benchmark table\n",
    "if 'benchmark' in metadata.tables:\n",
    "    metadata.tables['benchmark'].drop()\n",
    "\n",
    "# Create benchmark table again as MyISAM\n",
    "table = sqlalchemy.Table(\n",
    "    'benchmark', metadata,\n",
    "    sqlalchemy.Column('0', sqlalchemy.Integer),\n",
    "    sqlalchemy.Column('1', sqlalchemy.Integer),\n",
    "    sqlalchemy.Column('2', sqlalchemy.Integer),\n",
    "    extend_existing=True,\n",
    "    mysql_engine='MyISAM',\n",
    ")\n",
    "metadata.create_all()"
   ]
  },
  {
   "cell_type": "code",
   "execution_count": 7,
   "metadata": {
    "collapsed": false
   },
   "outputs": [
    {
     "name": "stdout",
     "output_type": "stream",
     "text": [
      "15.506s database write\n",
      "4.576s database read\n"
     ]
    }
   ],
   "source": [
    "with Timer('database write'):\n",
    "    data.to_sql('benchmark', con=engine, if_exists='append', index=False)\n",
    "    \n",
    "with Timer('database read'):\n",
    "    data = pd.read_sql('benchmark', con=engine)"
   ]
  }
 ],
 "metadata": {
  "kernelspec": {
   "display_name": "Python 2",
   "language": "python",
   "name": "python2"
  },
  "language_info": {
   "codemirror_mode": {
    "name": "ipython",
    "version": 2
   },
   "file_extension": ".py",
   "mimetype": "text/x-python",
   "name": "python",
   "nbconvert_exporter": "python",
   "pygments_lexer": "ipython2",
   "version": "2.7.10"
  }
 },
 "nbformat": 4,
 "nbformat_minor": 0
}
