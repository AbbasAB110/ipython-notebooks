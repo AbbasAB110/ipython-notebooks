{
 "metadata": {
  "name": ""
 },
 "nbformat": 3,
 "nbformat_minor": 0,
 "worksheets": [
  {
   "cells": [
    {
     "cell_type": "markdown",
     "metadata": {},
     "source": [
      "# Updating a dictionary\n",
      "\n",
      "Often, we want to create a copy of a dictionary and update it. For example, we have a default set of parameters. We want to update them, but without disturbing the original parameter list.\n",
      "\n",
      "There are 2 ways of doing this.\n",
      "\n",
      "1. Make a copy of the dictionary and update it with the new dictionary. **This is twice as fast**\n",
      "2. Add the `.items()` list if both dictionaries, and make a new `dict` out of it.\n",
      "\n",
      "Here is the benchmark:\n",
      "\n",
      "                                    update    append\n",
      "    1. make a copy and update       1.64\u00b5s    1.72\u00b5s\n",
      "    2. add .items() and dictify     2.99\u00b5s    3.58\u00b5s"
     ]
    },
    {
     "cell_type": "code",
     "collapsed": false,
     "input": [
      "base = {x:x for x in range(20)}\n",
      "same = {x:x for x in range(20)}\n",
      "incr = {x:x for x in range(20, 40)}\n",
      "\n",
      "%timeit y=dict(base); y.update(same)\n",
      "%timeit y=dict(base); y.update(incr)\n",
      "\n",
      "base = base.items()\n",
      "same = same.items()\n",
      "incr = incr.items()\n",
      "\n",
      "%timeit dict(base + same)\n",
      "%timeit dict(base + incr)"
     ],
     "language": "python",
     "metadata": {},
     "outputs": [
      {
       "output_type": "stream",
       "stream": "stdout",
       "text": [
        "1000000 loops, best of 3: 1.64 \u00b5s per loop\n",
        "1000000 loops, best of 3: 1.72 \u00b5s per loop"
       ]
      },
      {
       "output_type": "stream",
       "stream": "stdout",
       "text": [
        "\n",
        "100000 loops, best of 3: 2.99 \u00b5s per loop"
       ]
      },
      {
       "output_type": "stream",
       "stream": "stdout",
       "text": [
        "\n",
        "100000 loops, best of 3: 3.58 \u00b5s per loop"
       ]
      },
      {
       "output_type": "stream",
       "stream": "stdout",
       "text": [
        "\n"
       ]
      }
     ],
     "prompt_number": 1
    },
    {
     "cell_type": "markdown",
     "metadata": {},
     "source": [
      "# Large string creation\n",
      "\n",
      "Array joins are faster than successive appending\n",
      "\n",
      "                     1,000    10,000    100,000  1,000,000\n",
      "      appending      226\u00b5s    2.87ms     15.8ms      484ms\n",
      "    array joins      116\u00b5s    1.11ms     11.2ms      146ms"
     ]
    },
    {
     "cell_type": "code",
     "collapsed": false,
     "input": [
      "def string_append(s, count):\n",
      "    result = ''\n",
      "    for x in range(count):\n",
      "        result += s\n",
      "\n",
      "def array_join(s, count):\n",
      "    result = []\n",
      "    for x in range(count):\n",
      "        result.append(s)\n",
      "    result = ''.join(result)\n",
      "\n",
      "for count in [1000, 10000, 100000, 1000000]:\n",
      "    print count, 'concatenations'\n",
      "    %timeit string_append('abc', count)\n",
      "    %timeit array_join('abc', count)"
     ],
     "language": "python",
     "metadata": {},
     "outputs": [
      {
       "output_type": "stream",
       "stream": "stdout",
       "text": [
        "1000 concatenations\n",
        "1000 loops, best of 3: 226 \u00b5s per loop"
       ]
      },
      {
       "output_type": "stream",
       "stream": "stdout",
       "text": [
        "\n",
        "10000 loops, best of 3: 116 \u00b5s per loop"
       ]
      },
      {
       "output_type": "stream",
       "stream": "stdout",
       "text": [
        "\n",
        "10000 concatenations\n",
        "1000 loops, best of 3: 2.87 ms per loop"
       ]
      },
      {
       "output_type": "stream",
       "stream": "stdout",
       "text": [
        "\n",
        "1000 loops, best of 3: 1.11 ms per loop"
       ]
      },
      {
       "output_type": "stream",
       "stream": "stdout",
       "text": [
        "\n",
        "100000 concatenations\n",
        "100 loops, best of 3: 15.8 ms per loop"
       ]
      },
      {
       "output_type": "stream",
       "stream": "stdout",
       "text": [
        "\n",
        "100 loops, best of 3: 11.2 ms per loop"
       ]
      },
      {
       "output_type": "stream",
       "stream": "stdout",
       "text": [
        "\n",
        "1000000 concatenations\n",
        "1 loops, best of 3: 484 ms per loop"
       ]
      },
      {
       "output_type": "stream",
       "stream": "stdout",
       "text": [
        "\n",
        "10 loops, best of 3: 146 ms per loop"
       ]
      },
      {
       "output_type": "stream",
       "stream": "stdout",
       "text": [
        "\n"
       ]
      }
     ],
     "prompt_number": 4
    },
    {
     "cell_type": "markdown",
     "metadata": {},
     "source": [
      "# Date parsing\n",
      "\n",
      "Date parsing in Python is quite slow, especially for large arrays.\n",
      "Here's a benchmark of various approaches.\n",
      "\n",
      "    to_datetime: 5799 ms\n",
      "    dateutil:    5162 ms\n",
      "    strptime:    1651 ms\n",
      "    manual:       242 ms\n",
      "    lookup:        32 ms\n",
      "\n",
      "Manual string-array-based parsing of dates is significantly faster.\n",
      "If there aren't many dates, lookups are *MUCH* faster."
     ]
    },
    {
     "cell_type": "code",
     "collapsed": false,
     "input": [
      "import time\n",
      "import datetime\n",
      "import dateutil.parser\n",
      "import pandas as pd\n",
      "\n",
      "s = pd.Series(['01-31-2012']*100000)"
     ],
     "language": "python",
     "metadata": {},
     "outputs": [],
     "prompt_number": 2
    },
    {
     "cell_type": "code",
     "collapsed": false,
     "input": [
      "# Use Pandas' built-in to_datetime\n",
      "timeit pd.to_datetime(s)"
     ],
     "language": "python",
     "metadata": {},
     "outputs": [
      {
       "output_type": "stream",
       "stream": "stdout",
       "text": [
        "1 loops, best of 3: 6.39 s per loop\n"
       ]
      }
     ],
     "prompt_number": 3
    },
    {
     "cell_type": "code",
     "collapsed": false,
     "input": [
      "# Use dateutil.parser\n",
      "timeit s.apply(dateutil.parser.parse)"
     ],
     "language": "python",
     "metadata": {},
     "outputs": [
      {
       "output_type": "stream",
       "stream": "stdout",
       "text": [
        "1 loops, best of 3: 5.45 s per loop\n"
       ]
      }
     ],
     "prompt_number": 4
    },
    {
     "cell_type": "code",
     "collapsed": false,
     "input": [
      "# Parse using datetime.strptime\n",
      "timeit s.apply(lambda v: datetime.datetime.strptime(v, '%m-%d-%Y'))"
     ],
     "language": "python",
     "metadata": {},
     "outputs": [
      {
       "output_type": "stream",
       "stream": "stdout",
       "text": [
        "1 loops, best of 3: 1.84 s per loop\n"
       ]
      }
     ],
     "prompt_number": 5
    },
    {
     "cell_type": "code",
     "collapsed": false,
     "input": [
      "# Manually parse the date\n",
      "timeit s.apply(lambda v: datetime.datetime(int(v[6:10]), int(v[0:2]), int(v[3:5])))"
     ],
     "language": "python",
     "metadata": {},
     "outputs": [
      {
       "output_type": "stream",
       "stream": "stdout",
       "text": [
        "1 loops, best of 3: 284 ms per loop\n"
       ]
      }
     ],
     "prompt_number": 6
    },
    {
     "cell_type": "code",
     "collapsed": false,
     "input": [
      "def lookup(s):\n",
      "    \"\"\"\n",
      "    This is an extremely fast approach to datetime parsing.\n",
      "    For large data, the same dates are often repeated. Rather than\n",
      "    re-parse these, we store all unique dates, parse them, and\n",
      "    use a lookup to convert all dates.\n",
      "    \"\"\"\n",
      "    dates = {date:pd.to_datetime(date) for date in s.unique()}\n",
      "    return s.apply(lambda v: dates[v])\n",
      "\n",
      "%timeit lookup(s)"
     ],
     "language": "python",
     "metadata": {},
     "outputs": [
      {
       "output_type": "stream",
       "stream": "stdout",
       "text": [
        "10 loops, best of 3: 45.1 ms per loop\n"
       ]
      }
     ],
     "prompt_number": 8
    },
    {
     "cell_type": "markdown",
     "metadata": {},
     "source": [
      "# Mean vs Median\n",
      "\n",
      "Mean is *much (~100 times) faster* to calculate than median."
     ]
    },
    {
     "cell_type": "code",
     "collapsed": false,
     "input": [
      "import time\n",
      "import numpy\n",
      "\n",
      "data = numpy.random.rand(50000000)"
     ],
     "language": "python",
     "metadata": {},
     "outputs": [],
     "prompt_number": 9
    },
    {
     "cell_type": "code",
     "collapsed": false,
     "input": [
      "timeit numpy.mean(data)"
     ],
     "language": "python",
     "metadata": {},
     "outputs": [
      {
       "output_type": "stream",
       "stream": "stdout",
       "text": [
        "10 loops, best of 3: 61.7 ms per loop\n"
       ]
      }
     ],
     "prompt_number": 10
    },
    {
     "cell_type": "code",
     "collapsed": false,
     "input": [
      "timeit numpy.median(data)"
     ],
     "language": "python",
     "metadata": {},
     "outputs": [
      {
       "output_type": "stream",
       "stream": "stdout",
       "text": [
        "1 loops, best of 3: 6.13 s per loop\n"
       ]
      }
     ],
     "prompt_number": 11
    },
    {
     "cell_type": "markdown",
     "metadata": {},
     "source": [
      "# Reading data\n",
      "\n",
      "HDF5 is the fastest way of reading tabular data.\n",
      "\n",
      "    csv.DictReader:         2.78 s\n",
      "    pickle:                 2.41 s\n",
      "    json:                   2.39 s\n",
      "    json-array:               799 ms\n",
      "    csv.reader:               478 ms\n",
      "    pd.read_csv               355 ms\n",
      "    pd.read_pickle:           319 ms\n",
      "    pd.read_hdf (table)       169 ms\n",
      "    pd.read_hdf (stored)      123 ms"
     ]
    },
    {
     "cell_type": "code",
     "collapsed": false,
     "input": [
      "# First, create a set of data files\n",
      "words = 'ad adipisicing aliqua aliquip amet anim aute cillum commodo consectetur consequat culpa cupidatat deserunt do dolor dolore duis ea eiusmod elit enim esse est et eu ex excepteur exercitation fugiat id in incididunt ipsum irure labore laboris laborum lorem magna minim mollit nisi non nostrud nulla occaecat officia pariatur proident qui quis reprehenderit sed sint sit sunt tempor ullamco ut velit veniam voluptate'.split()\n",
      "\n",
      "# Create the data in memory\n",
      "data = []\n",
      "for row in range(0, 1000000):\n",
      "    data.append({\n",
      "        'A': words[row % len(words)],\n",
      "        'B': chr(64 + (row % 62)),\n",
      "        'C': row,\n",
      "        'D': row + 1,\n",
      "        'E': row + 2,\n",
      "        'F': row + 3,\n",
      "    })\n",
      "\n",
      "# Save CSV\n",
      "import csv\n",
      "keys = sorted(data[0].keys())\n",
      "out = csv.DictWriter(open('sample.data.csv', 'w'),\n",
      "    fieldnames=keys,\n",
      "    lineterminator='\\n')\n",
      "out.writerow(dict(zip(keys, keys)))\n",
      "out.writerows(data)\n",
      "\n",
      "# Save JSON\n",
      "import json\n",
      "json.dump(data, open('sample.data.json', 'w'), separators= (',', ':'))\n",
      "\n",
      "# Save JSON-array\n",
      "import json\n",
      "json.dump([data[0].keys()] + [row.values() for row in data],\n",
      "    open('sample.data-array.json', 'w'),\n",
      "    separators= (',', ':'))\n",
      "\n",
      "# Save pickle\n",
      "import cPickle as pickle\n",
      "pickle.dump(data, open('sample.data.pickle', 'wb'), pickle.HIGHEST_PROTOCOL)\n",
      "\n",
      "# Save pandas pickle\n",
      "import pandas as pd\n",
      "df = pd.DataFrame(data, columns=data[0].keys())\n",
      "df.to_pickle('sample.data.pandas')\n",
      "\n",
      "# Save HDF5\n",
      "df.to_hdf('sample.data.h5', 'stored')\n",
      "df.to_hdf('sample.data.h5', 'table', table=True)"
     ],
     "language": "python",
     "metadata": {},
     "outputs": [],
     "prompt_number": 1
    },
    {
     "cell_type": "code",
     "collapsed": false,
     "input": [
      "import time\n",
      "import csv\n",
      "import json\n",
      "import cPickle as pickle\n",
      "import pandas as pd\n",
      "\n",
      "%timeit list(csv.DictReader(open('sample.data.csv')))\n",
      "%timeit pickle.load(open('sample.data.pickle', 'rb'))\n",
      "%timeit json.load(open('sample.data.json'))\n",
      "%timeit json.load(open('sample.data-array.json'))\n",
      "%timeit list(csv.reader(open('sample.data.csv')))\n",
      "%timeit pd.read_csv('sample.data.csv')\n",
      "%timeit pd.read_pickle('sample.data.pandas')\n",
      "%timeit pd.read_hdf('sample.data.h5', 'table')\n",
      "%timeit pd.read_hdf('sample.data.h5', 'stored')"
     ],
     "language": "python",
     "metadata": {},
     "outputs": [
      {
       "output_type": "stream",
       "stream": "stdout",
       "text": [
        "1 loops, best of 3: 7.31 s per loop\n",
        "1 loops, best of 3: 6.24 s per loop"
       ]
      },
      {
       "output_type": "stream",
       "stream": "stdout",
       "text": [
        "\n",
        "1 loops, best of 3: 7.41 s per loop"
       ]
      },
      {
       "output_type": "stream",
       "stream": "stdout",
       "text": [
        "\n",
        "1 loops, best of 3: 2.21 s per loop"
       ]
      },
      {
       "output_type": "stream",
       "stream": "stdout",
       "text": [
        "\n",
        "1 loops, best of 3: 1.13 s per loop"
       ]
      },
      {
       "output_type": "stream",
       "stream": "stdout",
       "text": [
        "\n",
        "1 loops, best of 3: 833 ms per loop"
       ]
      },
      {
       "output_type": "stream",
       "stream": "stdout",
       "text": [
        "\n",
        "1 loops, best of 3: 713 ms per loop"
       ]
      },
      {
       "output_type": "stream",
       "stream": "stdout",
       "text": [
        "\n",
        "1 loops, best of 3: 405 ms per loop"
       ]
      },
      {
       "output_type": "stream",
       "stream": "stdout",
       "text": [
        "\n",
        "1 loops, best of 3: 288 ms per loop"
       ]
      },
      {
       "output_type": "stream",
       "stream": "stdout",
       "text": [
        "\n"
       ]
      }
     ],
     "prompt_number": 2
    },
    {
     "cell_type": "markdown",
     "metadata": {},
     "source": [
      "# Templates vs lxml vs cElementTree\n",
      "\n",
      "This is the time taken to generate a bar chart, in \u00b5s. The output could either be xml (etree) or text.\n",
      "\n",
      "                  xml text\n",
      "    template       68   35\n",
      "    lxml           73   87\n",
      "    cElementTree   23  247\n",
      "\n",
      "For string output, tornado templates are extremely fast. Even for etree, it's faster than using lxml directly. However, if you only want etree output and not string, cElementTree is faster.\n",
      "\n",
      "To me, the template approach with lxml.fromstring appears optimal."
     ]
    },
    {
     "cell_type": "code",
     "collapsed": false,
     "input": [
      "from IPython.display import HTML\n",
      "from tornado import template\n",
      "\n",
      "using_template = template.Template('''\n",
      "<svg width=\"100\" height=\"50\">\n",
      "  {% for i, x in enumerate(series) %}\n",
      "    <rect x=\"{{ 10 * i }}\" width=\"10\" y=\"{{ 50 - 10 * x }}\" height=\"{{ 10 * x }}\" fill=\"#88f\" stroke=\"#fff\"/>\n",
      "  {% end %}\n",
      "</svg>\n",
      "''', autoescape=None).generate\n",
      "\n",
      "HTML(using_template(series=[1,2,3,4,3,2,1]))"
     ],
     "language": "python",
     "metadata": {},
     "outputs": [
      {
       "html": [
        "\n",
        "<svg width=\"100\" height=\"50\">\n",
        "  \n",
        "    <rect x=\"0\" width=\"10\" y=\"40\" height=\"10\" fill=\"#88f\" stroke=\"#fff\"/>\n",
        "  \n",
        "    <rect x=\"10\" width=\"10\" y=\"30\" height=\"20\" fill=\"#88f\" stroke=\"#fff\"/>\n",
        "  \n",
        "    <rect x=\"20\" width=\"10\" y=\"20\" height=\"30\" fill=\"#88f\" stroke=\"#fff\"/>\n",
        "  \n",
        "    <rect x=\"30\" width=\"10\" y=\"10\" height=\"40\" fill=\"#88f\" stroke=\"#fff\"/>\n",
        "  \n",
        "    <rect x=\"40\" width=\"10\" y=\"20\" height=\"30\" fill=\"#88f\" stroke=\"#fff\"/>\n",
        "  \n",
        "    <rect x=\"50\" width=\"10\" y=\"30\" height=\"20\" fill=\"#88f\" stroke=\"#fff\"/>\n",
        "  \n",
        "    <rect x=\"60\" width=\"10\" y=\"40\" height=\"10\" fill=\"#88f\" stroke=\"#fff\"/>\n",
        "  \n",
        "</svg>\n"
       ],
       "metadata": {},
       "output_type": "pyout",
       "prompt_number": 1,
       "text": [
        "<IPython.core.display.HTML at 0x88dd630>"
       ]
      }
     ],
     "prompt_number": 1
    },
    {
     "cell_type": "code",
     "collapsed": false,
     "input": [
      "from lxml import etree\n",
      "\n",
      "def using_lxml(series):\n",
      "    root = etree.Element('svg', width=\"100\", height=\"50\")\n",
      "    for i, x in enumerate(series):\n",
      "        rect = etree.SubElement(root, 'rect',\n",
      "            x      = '%d' % (10 * i),\n",
      "            width  = '10',\n",
      "            y      = '%d' % (50 - 10 * x),\n",
      "            height = '%d' % (10 * x),\n",
      "            fill   = '#88f',\n",
      "            stroke = '#fff')\n",
      "    return root\n",
      "\n",
      "HTML(etree.tostring(using_lxml(series=[1,2,3,4,3,2,1])))"
     ],
     "language": "python",
     "metadata": {},
     "outputs": [
      {
       "html": [
        "<svg height=\"50\" width=\"100\"><rect fill=\"#88f\" height=\"10\" stroke=\"#fff\" width=\"10\" x=\"0\" y=\"40\"/><rect fill=\"#88f\" height=\"20\" stroke=\"#fff\" width=\"10\" x=\"10\" y=\"30\"/><rect fill=\"#88f\" height=\"30\" stroke=\"#fff\" width=\"10\" x=\"20\" y=\"20\"/><rect fill=\"#88f\" height=\"40\" stroke=\"#fff\" width=\"10\" x=\"30\" y=\"10\"/><rect fill=\"#88f\" height=\"30\" stroke=\"#fff\" width=\"10\" x=\"40\" y=\"20\"/><rect fill=\"#88f\" height=\"20\" stroke=\"#fff\" width=\"10\" x=\"50\" y=\"30\"/><rect fill=\"#88f\" height=\"10\" stroke=\"#fff\" width=\"10\" x=\"60\" y=\"40\"/></svg>"
       ],
       "metadata": {},
       "output_type": "pyout",
       "prompt_number": 2,
       "text": [
        "<IPython.core.display.HTML at 0x89ae978>"
       ]
      }
     ],
     "prompt_number": 2
    },
    {
     "cell_type": "code",
     "collapsed": false,
     "input": [
      "import xml.etree.cElementTree as cElementTree\n",
      "\n",
      "def using_cElementTree(series):\n",
      "    root = cElementTree.Element('svg', width=\"100\", height=\"50\")\n",
      "    for i, x in enumerate(series):\n",
      "        rect = cElementTree.SubElement(root, 'rect',\n",
      "            x      = '%d' % (10 * i),\n",
      "            width  = '10',\n",
      "            y      = '%d' % (50 - 10 * x),\n",
      "            height = '%d' % (10 * x),\n",
      "            fill   = '#88f',\n",
      "            stroke = '#fff')\n",
      "    return root\n",
      "\n",
      "HTML(cElementTree.tostring(using_cElementTree(series=[1,2,3,4,3,2,1])))"
     ],
     "language": "python",
     "metadata": {},
     "outputs": [
      {
       "html": [
        "<svg height=\"50\" width=\"100\"><rect fill=\"#88f\" height=\"10\" stroke=\"#fff\" width=\"10\" x=\"0\" y=\"40\" /><rect fill=\"#88f\" height=\"20\" stroke=\"#fff\" width=\"10\" x=\"10\" y=\"30\" /><rect fill=\"#88f\" height=\"30\" stroke=\"#fff\" width=\"10\" x=\"20\" y=\"20\" /><rect fill=\"#88f\" height=\"40\" stroke=\"#fff\" width=\"10\" x=\"30\" y=\"10\" /><rect fill=\"#88f\" height=\"30\" stroke=\"#fff\" width=\"10\" x=\"40\" y=\"20\" /><rect fill=\"#88f\" height=\"20\" stroke=\"#fff\" width=\"10\" x=\"50\" y=\"30\" /><rect fill=\"#88f\" height=\"10\" stroke=\"#fff\" width=\"10\" x=\"60\" y=\"40\" /></svg>"
       ],
       "metadata": {},
       "output_type": "pyout",
       "prompt_number": 3,
       "text": [
        "<IPython.core.display.HTML at 0x88d5860>"
       ]
      }
     ],
     "prompt_number": 3
    },
    {
     "cell_type": "code",
     "collapsed": false,
     "input": [
      "# Create etree output\n",
      "%timeit etree.fromstring(using_template(series=[1,2,3,4,3,2,1]))\n",
      "%timeit using_lxml(series=[1,2,3,4,3,2,1])\n",
      "%timeit using_cElementTree(series=[1,2,3,4,3,2,1])\n",
      "\n",
      "# Create string output\n",
      "%timeit using_template(series=[1,2,3,4,3,2,1])\n",
      "%timeit etree.tostring(using_lxml(series=[1,2,3,4,3,2,1]))\n",
      "%timeit cElementTree.tostring(using_cElementTree(series=[1,2,3,4,3,2,1]))"
     ],
     "language": "python",
     "metadata": {},
     "outputs": [
      {
       "output_type": "stream",
       "stream": "stdout",
       "text": [
        "10000 loops, best of 3: 67.5 \u00b5s per loop\n",
        "10000 loops, best of 3: 72.8 \u00b5s per loop"
       ]
      },
      {
       "output_type": "stream",
       "stream": "stdout",
       "text": [
        "\n",
        "10000 loops, best of 3: 22.6 \u00b5s per loop"
       ]
      },
      {
       "output_type": "stream",
       "stream": "stdout",
       "text": [
        "\n",
        "10000 loops, best of 3: 34.6 \u00b5s per loop"
       ]
      },
      {
       "output_type": "stream",
       "stream": "stdout",
       "text": [
        "\n",
        "10000 loops, best of 3: 87.2 \u00b5s per loop"
       ]
      },
      {
       "output_type": "stream",
       "stream": "stdout",
       "text": [
        "\n",
        "1000 loops, best of 3: 247 \u00b5s per loop"
       ]
      },
      {
       "output_type": "stream",
       "stream": "stdout",
       "text": [
        "\n"
       ]
      }
     ],
     "prompt_number": 6
    },
    {
     "cell_type": "markdown",
     "metadata": {},
     "source": [
      "# Range search\n",
      "\n",
      "Here, we're trying to find where a value fits in a list of numbers. For example, in the list [1, 3, 7, 9], the number 4 would be just after the 2nd element 3.\n",
      "\n",
      "The summary is: use `numpy.searchsorted()` -- it's blazingly fast.\n",
      "\n",
      "     37,000 \u00b5s  For loop    \n",
      "      5,790 \u00b5s  Numpy filtering\n",
      "      2,270 \u00b5s  Numpy filtering on sorted values\n",
      "      1,850 \u00b5s  Numpy index search on sorted values\n",
      "          1 \u00b5s  numpy.searchsorted()\n",
      "\n",
      "Having read [this post](http://blog.clifreeder.com/blog/2013/04/21/ruby-is-too-slow-for-programming-competitions/) on Ruby being slow, I thought I'd check the same with Python. I got it running fairly fast, but there was one piece that was taking a fair bit of time: *counting numbers in a range*. Here's the slow version:"
     ]
    },
    {
     "cell_type": "code",
     "collapsed": false,
     "input": [
      "values = range(1000000)\n",
      "def count(values, a, b):\n",
      "    count = 0\n",
      "    for x in values:\n",
      "        if a <= x <= b:\n",
      "            count += 1\n",
      "    return count\n",
      "\n",
      "%timeit count(values, 250000, 750000)"
     ],
     "language": "python",
     "metadata": {},
     "outputs": [
      {
       "output_type": "stream",
       "stream": "stdout",
       "text": [
        "10 loops, best of 3: 37 ms per loop\n"
       ]
      }
     ],
     "prompt_number": 1
    },
    {
     "cell_type": "markdown",
     "metadata": {},
     "source": [
      "Of course, running a loop in Python for numbers is never a good idea. Let's move this to NumPy."
     ]
    },
    {
     "cell_type": "code",
     "collapsed": false,
     "input": [
      "values = numpy.random.rand(1000000)\n",
      "%timeit ((.25 <= values) & (values <= .75)).sum()"
     ],
     "language": "python",
     "metadata": {},
     "outputs": [
      {
       "output_type": "stream",
       "stream": "stdout",
       "text": [
        "100 loops, best of 3: 5.79 ms per loop\n"
       ]
      }
     ],
     "prompt_number": 2
    },
    {
     "cell_type": "markdown",
     "metadata": {},
     "source": [
      "That's not bad, but it could get a lot better. First, let's sort the values and try it."
     ]
    },
    {
     "cell_type": "code",
     "collapsed": false,
     "input": [
      "values.sort()\n",
      "%timeit ((.25 <= values) & (values <= .75)).sum()"
     ],
     "language": "python",
     "metadata": {},
     "outputs": [
      {
       "output_type": "stream",
       "stream": "stdout",
       "text": [
        "100 loops, best of 3: 2.27 ms per loop\n"
       ]
      }
     ],
     "prompt_number": 3
    },
    {
     "cell_type": "markdown",
     "metadata": {},
     "source": [
      "Just like that, it's faster. But we can do much better. Given that it's already sorted, what if we just found the index?"
     ]
    },
    {
     "cell_type": "code",
     "collapsed": false,
     "input": [
      "%timeit (values <= .75).argmin() - (.25 <= values).argmax()"
     ],
     "language": "python",
     "metadata": {},
     "outputs": [
      {
       "output_type": "stream",
       "stream": "stdout",
       "text": [
        "1000 loops, best of 3: 1.85 ms per loop\n"
       ]
      }
     ],
     "prompt_number": 4
    },
    {
     "cell_type": "markdown",
     "metadata": {},
     "source": [
      "A bit faster. It's wasteful of memory, though -- having to create 2 new arrays just to find the position of these two numbers. What if we searched for these?"
     ]
    },
    {
     "cell_type": "code",
     "collapsed": false,
     "input": [
      "%timeit numpy.searchsorted(values, .75) - numpy.searchsorted(values, .25)"
     ],
     "language": "python",
     "metadata": {},
     "outputs": [
      {
       "output_type": "stream",
       "stream": "stdout",
       "text": [
        "1000000 loops, best of 3: 1.45 \u00b5s per loop\n"
       ]
      }
     ],
     "prompt_number": 5
    },
    {
     "cell_type": "markdown",
     "metadata": {},
     "source": [
      "That's 1.45 *micro*seconds. It's *25 thousand* times faster than the original code, and *four thousand* times faster than the original NumPy code.\n",
      "\n",
      "If there's one thing I keep re-learning, it's that there's always a faster way of doing it, and if you really want to, you'll probably find it."
     ]
    },
    {
     "cell_type": "markdown",
     "metadata": {},
     "source": [
      "# Next power of 10\n",
      "\n",
      "The next power of 10 for 4 is 10^1. For 40, it's 10^2. For 400, it's 10^3. For 0.04, it's 10^-1. And so on.\n",
      "\n",
      "Most methods of calculating it are fast enough."
     ]
    },
    {
     "cell_type": "code",
     "collapsed": false,
     "input": [
      "data = pd.Series(10 ** (6 * np.random.rand(10000) - 3))"
     ],
     "language": "python",
     "metadata": {},
     "outputs": [],
     "prompt_number": 1
    },
    {
     "cell_type": "code",
     "collapsed": false,
     "input": [
      "def iterative(v):\n",
      "    i = 1\n",
      "    if v > 1:\n",
      "        n = 0\n",
      "        while i < v:\n",
      "            i, n = i * 10, n + 1\n",
      "    else:\n",
      "        n = 1\n",
      "        while i > v:\n",
      "            i, n = i / 10., n - 1\n",
      "    return n\n",
      "\n",
      "%timeit data.apply(iterative)"
     ],
     "language": "python",
     "metadata": {},
     "outputs": [
      {
       "output_type": "stream",
       "stream": "stdout",
       "text": [
        "100 loops, best of 3: 16.3 ms per loop\n"
       ]
      }
     ],
     "prompt_number": 2
    },
    {
     "cell_type": "code",
     "collapsed": false,
     "input": [
      "%timeit numpy.ceil(numpy.log10(data))"
     ],
     "language": "python",
     "metadata": {},
     "outputs": [
      {
       "output_type": "stream",
       "stream": "stdout",
       "text": [
        "10000 loops, best of 3: 124 \u00b5s per loop\n"
       ]
      }
     ],
     "prompt_number": 3
    },
    {
     "cell_type": "code",
     "collapsed": false,
     "input": [
      "%timeit data.apply(lambda v: numpy.ceil(numpy.log10(v)))"
     ],
     "language": "python",
     "metadata": {},
     "outputs": [
      {
       "output_type": "stream",
       "stream": "stdout",
       "text": [
        "100 loops, best of 3: 19.2 ms per loop\n"
       ]
      }
     ],
     "prompt_number": 4
    },
    {
     "cell_type": "markdown",
     "metadata": {},
     "source": [
      "# Hierarchical subtotals\n",
      "\n",
      "Given a DataFrame like this:\n",
      "\n",
      "    A  B  C  val\n",
      "    X  X  X    0\n",
      "    X  X  Y    1\n",
      "    X  Y  X    2\n",
      "    X  Y  Y    3\n",
      "    Y  X  X    4\n",
      "    Y  X  Y    5\n",
      "    Y  Y  X    6\n",
      "    Y  Y  Y    7\n",
      "\n",
      "... create a DataFrame like this, with subtotals.\n",
      "\n",
      "    A  B  C  val level\n",
      "    na na na  28     0\n",
      "    X  na na   6     1\n",
      "    X  X  na   1     2\n",
      "    X  X  X    0     3\n",
      "    X  X  Y    1     3\n",
      "    X  Y  na   5     2\n",
      "    X  Y  X    2     3\n",
      "    X  Y  Y    3     3\n",
      "    Y  na na  22     1\n",
      "    Y  X  na   9     2\n",
      "    Y  X  X    4     3\n",
      "    Y  X  Y    5     3\n",
      "    Y  Y  na  13     2\n",
      "    Y  Y  X    6     3\n",
      "    Y  Y  Y    7     3"
     ]
    },
    {
     "cell_type": "code",
     "collapsed": false,
     "input": [
      "data = pd.DataFrame({'A': list('XXXXYYYY'), 'B': list('XXYYXXYY'), 'C': list('XYXYXYXY'), 'val': range(8)})"
     ],
     "language": "python",
     "metadata": {},
     "outputs": [],
     "prompt_number": 57
    },
    {
     "cell_type": "code",
     "collapsed": false,
     "input": [
      "groups = ['A', 'B', 'C']\n",
      "\n",
      "def subtotal(data, groups, agg):\n",
      "    frames = []\n",
      "    for level in range(1, 1 + len(groups)):\n",
      "        frame = data.groupby(groups[:level], sort=False, as_index=False).agg(agg)\n",
      "        frame['level'] = level\n",
      "        frames.append(frame)\n",
      "    df = pd.concat(frames)\n",
      "    for group in groups:\n",
      "        df[group].fillna('', inplace=True)\n",
      "    return df.sort(groups).set_index(groups)\n",
      "\n",
      "print subtotal(data, groups=groups, agg={'val': 'sum'})"
     ],
     "language": "python",
     "metadata": {},
     "outputs": [
      {
       "output_type": "stream",
       "stream": "stdout",
       "text": [
        "       level  val\n",
        "A B C            \n",
        "X          1    6\n",
        "  X        2    1\n",
        "    X      3    0\n",
        "    Y      3    1\n",
        "  Y        2    5\n",
        "    X      3    2\n",
        "    Y      3    3\n",
        "Y          1   22\n",
        "  X        2    9\n",
        "    X      3    4\n",
        "    Y      3    5\n",
        "  Y        2   13\n",
        "    X      3    6\n",
        "    Y      3    7\n"
       ]
      }
     ],
     "prompt_number": 85
    },
    {
     "cell_type": "markdown",
     "metadata": {},
     "source": [
      "This is faster than the existing `layout.hierarchy`"
     ]
    },
    {
     "cell_type": "code",
     "collapsed": false,
     "input": [
      "import layout\n",
      "odi = pd.read_csv('d:/site/gramener.com/viz/autolyse/data/odi-batting.csv', dtype={'Runs':float})\n",
      "groups = ['Weekday', 'Country', 'Player']\n",
      "agg = {'Runs': 'sum'}\n",
      "%timeit subtotal(odi, groups, agg)\n",
      "%timeit list(layout.hierarchy(odi, groups, agg=agg, size=lambda df: df['Runs'].sum()))"
     ],
     "language": "python",
     "metadata": {},
     "outputs": [
      {
       "output_type": "stream",
       "stream": "stdout",
       "text": [
        "10 loops, best of 3: 23.9 ms per loop\n",
        "1 loops, best of 3: 294 ms per loop"
       ]
      },
      {
       "output_type": "stream",
       "stream": "stdout",
       "text": [
        "\n"
       ]
      }
     ],
     "prompt_number": 91
    },
    {
     "cell_type": "code",
     "collapsed": false,
     "input": [
      "# stack(series, groupby)"
     ],
     "language": "python",
     "metadata": {},
     "outputs": []
    },
    {
     "cell_type": "markdown",
     "metadata": {},
     "source": [
      "# Numba\n",
      "\n",
      "I'm trying to see how fast numba is. `autojit(fn)` makes `fn` faster. `numpy.sum` and `@autojit` take about the same time. Python loops are much slower.\n",
      "\n",
      "Looks like @autojit is a decent replacement for `numpy.vectorize`."
     ]
    },
    {
     "cell_type": "code",
     "collapsed": false,
     "input": [
      "from numba import autojit\n",
      "\n",
      "def slow_sum(arr):\n",
      "    M, N = arr.shape\n",
      "    result = 0.0\n",
      "    for i in range(M):\n",
      "        for j in range(N):\n",
      "            result += arr[i,j]\n",
      "    return result\n",
      "\n",
      "fast_sum = autojit(slow_sum)"
     ],
     "language": "python",
     "metadata": {},
     "outputs": [],
     "prompt_number": 2
    },
    {
     "cell_type": "code",
     "collapsed": false,
     "input": [
      "%timeit numpy.sum(numpy.random.rand(1000,1000))\n",
      "%timeit fast_sum(numpy.random.rand(1000,1000))\n",
      "%timeit slow_sum(numpy.random.rand(1000,1000))"
     ],
     "language": "python",
     "metadata": {},
     "outputs": [
      {
       "output_type": "stream",
       "stream": "stdout",
       "text": [
        "10 loops, best of 3: 20.5 ms per loop\n"
       ]
      },
      {
       "output_type": "stream",
       "stream": "stdout",
       "text": [
        "1 loops, best of 3: 25 ms per loop\n",
        "1 loops, best of 3: 426 ms per loop"
       ]
      },
      {
       "output_type": "stream",
       "stream": "stdout",
       "text": [
        "\n"
       ]
      }
     ],
     "prompt_number": 3
    },
    {
     "cell_type": "markdown",
     "metadata": {},
     "source": [
      "# Shifting a Numpy array\n",
      "\n",
      "If you have an array like this: `[3,4,5,6,7]` and you want to move it to the right dropping the last, filling left with nans: `[nan,3,4,5,6]`, what's the fastest way?\n",
      "\n",
      "Answer:\n",
      "\n",
      "    result = numpy.roll(array, 1)\n",
      "    result[0] = numpy.nan"
     ]
    },
    {
     "cell_type": "code",
     "collapsed": false,
     "input": [
      "data = numpy.random.rand(1001)\n",
      "\n",
      "%timeit result = numpy.insert(data, 0, numpy.nan)[:-2]\n",
      "%timeit result = numpy.roll(data, 1); result[:1] = numpy.nan"
     ],
     "language": "python",
     "metadata": {},
     "outputs": [
      {
       "output_type": "stream",
       "stream": "stdout",
       "text": [
        "10000 loops, best of 3: 127 \u00b5s per loop\n",
        "100000 loops, best of 3: 14.3 \u00b5s per loop"
       ]
      },
      {
       "output_type": "stream",
       "stream": "stdout",
       "text": [
        "\n"
       ]
      }
     ],
     "prompt_number": 10
    },
    {
     "cell_type": "markdown",
     "metadata": {},
     "source": [
      "# Voronoi diagrams\n",
      "\n",
      "[Voronoi diagrams](http://en.wikipedia.org/wiki/Voronoi_diagram) takes a set of points, and creates polygons enclosing the space closer to each point than any other. This is the dual of [Delaunay triangulation](http://en.wikipedia.org/wiki/Delaunay_triangulation), which matplotlib and scipy provide by default, and can also be created directly on NumPy.\n",
      "\n",
      "Here's the speed generating via various methods:\n",
      "\n",
      "                                           Method  Time (10K)    Time (100K)\n",
      "    matplotlib.delaunay.triangulate.Triangulation  16.5ms        222ms\n",
      "                        voronoi() using the above  41.9ms        793ms\n",
      "                           scipy.spatial.Delaunay  51.4ms        797ms"
     ]
    },
    {
     "cell_type": "code",
     "collapsed": false,
     "input": [
      "scale = .9\n",
      "small = (1 - scale)/2 + scale * numpy.random.rand(2, 10000)\n",
      "large = (1 - scale)/2 + scale * numpy.random.rand(2, 100000)"
     ],
     "language": "python",
     "metadata": {},
     "outputs": [],
     "prompt_number": 1
    },
    {
     "cell_type": "code",
     "collapsed": false,
     "input": [
      "import matplotlib.delaunay.triangulate as tri\n",
      "%timeit tri.Triangulation(*small)\n",
      "%timeit tri.Triangulation(*large)"
     ],
     "language": "python",
     "metadata": {},
     "outputs": [
      {
       "output_type": "stream",
       "stream": "stdout",
       "text": [
        "100 loops, best of 3: 16.5 ms per loop\n",
        "1 loops, best of 3: 222 ms per loop"
       ]
      },
      {
       "output_type": "stream",
       "stream": "stdout",
       "text": [
        "\n"
       ]
      }
     ],
     "prompt_number": 2
    },
    {
     "cell_type": "code",
     "collapsed": false,
     "input": [
      "def voronoi(X, Y):\n",
      "    ''' Return line segments describing the voronoi diagram of X and Y '''\n",
      "\n",
      "    # Get the points X, Y into a matrix P.\n",
      "    P = numpy.zeros((X.size+4, 2))\n",
      "    P[:X.size, 0], P[:Y.size, 1] = X, Y\n",
      "\n",
      "    # Add four points at (pseudo) \"infinity\"\n",
      "    m = max(numpy.abs(X).max(), numpy.abs(Y).max()) * 1e5\n",
      "    P[X.size:, 0] = -m, -m, +m, +m\n",
      "    P[Y.size:, 1] = -m, +m, -m, +m\n",
      "\n",
      "    # Delaunay triangulate, and get the circumcenters\n",
      "    D = tri.Triangulation(P[:, 0], P[:, 1])\n",
      "    C = D.circumcenters\n",
      "\n",
      "    # D.triangle_neighbours = 3 neighbours.\n",
      "    # Each neighbourhood represents a line.\n",
      "\n",
      "    n = len(C)\n",
      "    tgt = D.triangle_neighbors\n",
      "    src = (numpy.zeros_like(tgt).T + numpy.arange(n)).T\n",
      "\n",
      "    # Remove all -1s\n",
      "    positives = tgt >= 0\n",
      "    n = positives.sum()\n",
      "    src = src[positives].reshape(n)\n",
      "    tgt = tgt[positives].reshape(n)\n",
      "\n",
      "    # TODO: Clip to get polygons\n",
      "    # --------------------------\n",
      "\n",
      "    # Get areas\n",
      "    # ---------\n",
      "    # http://www.mathopenref.com/coordpolygonarea.html\n",
      "    csrc = C[src]\n",
      "    ctgt = C[tgt]\n",
      "    areas = csrc[:,0] * ctgt[:,1] - csrc[:,1] * ctgt[:,0]\n",
      "    # print areas\n",
      "    # Now add up the areas by the indices given in src\n",
      "\n",
      "    # Get the circumcenters\n",
      "    return numpy.concatenate((C[tgt].reshape(n, 1, 2), C[src].reshape(n, 1, 2)), axis=1)\n",
      "\n",
      "%timeit voronoi(small[0,:], small[1,:])\n",
      "%timeit voronoi(large[0,:], large[1,:])"
     ],
     "language": "python",
     "metadata": {},
     "outputs": [
      {
       "output_type": "stream",
       "stream": "stdout",
       "text": [
        "10 loops, best of 3: 41.9 ms per loop\n",
        "1 loops, best of 3: 793 ms per loop"
       ]
      },
      {
       "output_type": "stream",
       "stream": "stdout",
       "text": [
        "\n"
       ]
      }
     ],
     "prompt_number": 3
    },
    {
     "cell_type": "code",
     "collapsed": false,
     "input": [
      "from scipy.spatial import Delaunay\n",
      "%timeit Delaunay(small.T)\n",
      "%timeit Delaunay(large.T)"
     ],
     "language": "python",
     "metadata": {},
     "outputs": [
      {
       "output_type": "stream",
       "stream": "stdout",
       "text": [
        "10 loops, best of 3: 51.4 ms per loop\n",
        "1 loops, best of 3: 797 ms per loop"
       ]
      },
      {
       "output_type": "stream",
       "stream": "stdout",
       "text": [
        "\n"
       ]
      }
     ],
     "prompt_number": 4
    }
   ],
   "metadata": {}
  }
 ]
}