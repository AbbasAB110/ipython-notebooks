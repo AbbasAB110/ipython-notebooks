{
 "metadata": {
  "celltoolbar": "Slideshow",
  "name": "",
  "signature": "sha256:fd5deeca3d597a16aea6520089325802007ca8fafb8f3544075ab3362383b7b2"
 },
 "nbformat": 3,
 "nbformat_minor": 0,
 "worksheets": [
  {
   "cells": [
    {
     "cell_type": "markdown",
     "metadata": {
      "slideshow": {
       "slide_type": "slide"
      }
     },
     "source": [
      "# Faster data processing in Python\n",
      "\n",
      "Working with data in Python requires making a number of choices.\n",
      "\n",
      "- What format should I save data in? CSV? JSON? Pickle?\n",
      "- What library should I read data with?\n",
      "- How should I parse dates?\n",
      "- How to make my program restartable?\n",
      "- How do I run a function in parallel?\n",
      "\n",
      "Let's discuss how to make these choices with the aim of running code faster."
     ]
    },
    {
     "cell_type": "markdown",
     "metadata": {
      "slideshow": {
       "slide_type": "slide"
      }
     },
     "source": [
      "# Visualising the elections\n",
      "\n",
      "This is the story of the back-end optimisations we were making during the CNN-IBN - Microsoft election visualisations in May 2014."
     ]
    },
    {
     "cell_type": "code",
     "collapsed": false,
     "input": [
      "from IPython.display import YouTubeVideo"
     ],
     "language": "python",
     "metadata": {
      "slideshow": {
       "slide_type": "skip"
      }
     },
     "outputs": [],
     "prompt_number": 1
    },
    {
     "cell_type": "code",
     "collapsed": false,
     "input": [
      "YouTubeVideo('bMicxDcxefs', width=853, height=480, start=30)"
     ],
     "language": "python",
     "metadata": {},
     "outputs": [
      {
       "html": [
        "\n",
        "        <iframe\n",
        "            width=\"853\"\n",
        "            height=480\"\n",
        "            src=\"https://www.youtube.com/embed/bMicxDcxefs?start=30\"\n",
        "            frameborder=\"0\"\n",
        "            allowfullscreen\n",
        "        ></iframe>\n",
        "        "
       ],
       "metadata": {},
       "output_type": "pyout",
       "prompt_number": 2,
       "text": [
        "<IPython.lib.display.YouTubeVideo at 0x9a6fba8>"
       ]
      }
     ],
     "prompt_number": 2
    },
    {
     "cell_type": "markdown",
     "metadata": {
      "slideshow": {
       "slide_type": "slide"
      }
     },
     "source": [
      "# Loading data\n",
      "\n",
      "The first step in data processing is to load the data. We'd scraped the results of [assembly elections](https://gramener.com/election/cartogram) to see which consitituency had the largest number of candidates, votes, etc. This is what the raw data file looks like:"
     ]
    },
    {
     "cell_type": "code",
     "collapsed": false,
     "input": [
      "assembly_results = 'D:/site/gramener.com/viz/election/assembly.csv'\n",
      "print open(assembly_results).read(350)"
     ],
     "language": "python",
     "metadata": {
      "slideshow": {
       "slide_type": "-"
      }
     },
     "outputs": [
      {
       "output_type": "stream",
       "stream": "stdout",
       "text": [
        "ST_NAME,YEAR,AC_NO,#,AC_NAME,AC_TYPE,NAME,SEX,AGE,CATEGORY,PARTY,VOTES\n",
        "Andhra Pradesh,1955,1,1,ICHCHAPURAM,GEN,UPPADA RANGABABU,M,,,KLP,14565\n",
        "Andhra Pradesh,1955,1,2,ICHCHAPURAM,GEN,HARIHARA PATNAIK,M,,,IND,7408\n",
        "Andhra Pradesh,1955,1,3,ICHCHAPURAM,GEN,PUDI LOKANADHAM,M,,,IND,6508\n",
        "Andhra Pradesh,1955,1,4,ICHCHAPURAM,GEN,KALLA BALARAMA SWAMY,M,,,IND,\n"
       ]
      }
     ],
     "prompt_number": 3
    },
    {
     "cell_type": "markdown",
     "metadata": {
      "slideshow": {
       "slide_type": "slide"
      }
     },
     "source": [
      "# Who got the most votes?\n",
      "\n",
      "An \"entrance exam\" question we have at Gramener is to ask candidates to load a CSV file and sort it in descending order of a given column. For example, when told \"Write a program to find out who got the most votes in Bangalore South, ever\", here's the most common response we get:"
     ]
    },
    {
     "cell_type": "code",
     "collapsed": false,
     "input": [
      "data = []                                       # Store results\n",
      "row = 0                                         # Row number in data file\n",
      "for line in open(assembly_results):             # Loop through each line\n",
      "    if row > 0:                                 # Ignore the first line\n",
      "        csv_row = line.split(',')               #   Split by commas\n",
      "        if csv_row[4] == 'BANGALORE SOUTH':     #   AC_NAME is in 5th column\n",
      "            name = csv_row[6]                   #   name is the 7th column\n",
      "            votes = int(csv_row[11].strip())    #   votes (12th) may have trailing \\n\n",
      "            data.append([name, votes])          # 6 = NAME, 11 = VOTES\n",
      "    row += 1                                    # Increment row counter\n",
      "\n",
      "import operator\n",
      "sorted(data, key=operator.itemgetter(1), reverse=True)    # Sort in descending order of votes"
     ],
     "language": "python",
     "metadata": {
      "slideshow": {
       "slide_type": "-"
      }
     },
     "outputs": [
      {
       "metadata": {},
       "output_type": "pyout",
       "prompt_number": 4,
       "text": [
        "[['M. KRISHNAPPA', 102207],\n",
        " ['R. PRABHAKARA REDDY', 72045],\n",
        " ['M KRISHNAPPA', 71114],\n",
        " ['DR.TEJASWINI GOWDA', 63849],\n",
        " ['SADANANDA M', 36979],\n",
        " ['C MANJUNATH', 33529],\n",
        " ['H P RAJAGOPALA REDDY', 17726],\n",
        " ['D. MUNICHINNAPPA', 17441],\n",
        " ['A. V. NARASIMHA REDDY', 13702],\n",
        " ['R. RANGAPPA REDDY', 13452],\n",
        " ['B. BASAVALINGAPPA (SC)', 12365],\n",
        " ['B. BASAVALINGAPPA', 11540],\n",
        " ['B. T. KEMPA RAJ (SC)', 5449],\n",
        " ['C. BASAVIAH', 5333],\n",
        " ['JAGADISH REDDY', 3936],\n",
        " ['SHIVARUDRAPPA', 2610],\n",
        " ['K. CHIKKANNA', 2561],\n",
        " ['KRISHNAMA RAJU', 2509],\n",
        " ['R MANJUNATH', 2300],\n",
        " ['P. S. CHINNAPPA', 2229],\n",
        " ['MURALI MOHAN', 1975],\n",
        " ['A SOMASHEKAR', 1755],\n",
        " ['M. NARAYANAPPA', 1494],\n",
        " ['N S RAVICHANDRA', 1494],\n",
        " ['VASANTH', 1363],\n",
        " ['G.A. GREGORY', 1347],\n",
        " ['E KRISHNAPPA', 1040],\n",
        " ['M KRISHNAPPA', 990],\n",
        " ['LOKESH M R', 771],\n",
        " ['A. CHOWARAPPA', 691],\n",
        " ['T.N KAMAL', 639],\n",
        " ['N.S. RAVICHANDRA', 509],\n",
        " ['JAYARAMA Y', 410],\n",
        " ['K GURURAJ', 407],\n",
        " ['ASHISH KAPUR', 394],\n",
        " ['SUNDARAPPA', 335]]"
       ]
      }
     ],
     "prompt_number": 4
    },
    {
     "cell_type": "markdown",
     "metadata": {
      "slideshow": {
       "slide_type": "slide"
      }
     },
     "source": [
      "## First, time it\n",
      "\n",
      "But let's see how we can make the program faster. The first step towards that is to see how long it takes."
     ]
    },
    {
     "cell_type": "code",
     "collapsed": false,
     "input": [
      "import operator\n",
      "\n",
      "def most_votes(ac_name='BANGALORE SOUTH'):\n",
      "    data = []\n",
      "    row = 0\n",
      "    for line in open(assembly_results):\n",
      "        if row > 0:\n",
      "            csv_row = line.split(',')\n",
      "            if csv_row[4] == ac_name:\n",
      "                name = csv_row[6]\n",
      "                votes = int(csv_row[11].strip())\n",
      "                data.append([name, votes])\n",
      "        row += 1\n",
      "\n",
      "    return sorted(data, key=operator.itemgetter(1), reverse=True)\n",
      "\n",
      "%timeit most_votes('BANGALORE_SOUTH')               # %timeit is IPython's timing magic"
     ],
     "language": "python",
     "metadata": {
      "slideshow": {
       "slide_type": "-"
      }
     },
     "outputs": [
      {
       "output_type": "stream",
       "stream": "stdout",
       "text": [
        "1 loops, best of 3: 456 ms per loop\n"
       ]
      }
     ],
     "prompt_number": 5
    },
    {
     "cell_type": "markdown",
     "metadata": {
      "slideshow": {
       "slide_type": "slide"
      }
     },
     "source": [
      "# Is it fast enough?\n",
      "\n",
      "That's a fairly slow function. But what's taking up so much time? Can we narrow down to the line that takes up the most time?\n",
      "\n",
      "At this time, I'd like to quote Calvin.\n",
      "\n",
      "![Do I even care?](http://picayune.uclick.com/comics/ch/1993/ch930108.gif)\n",
      "\n",
      "Premature optimisation is the root of all evil. Make sure you get the functionality right first. Then ask the question, \"Do you even care that it's slow?\" Only if the answer is yes do we proceed.\n",
      "\n",
      "At this point, **find and optimise the slowest part. *Only* the slowest part.**"
     ]
    },
    {
     "cell_type": "markdown",
     "metadata": {
      "slideshow": {
       "slide_type": "slide"
      }
     },
     "source": [
      "## Find the slowest part\n",
      "\n",
      "For this, we'll use the `line_profiler` module.\n",
      "\n",
      "    pip install line_profiler"
     ]
    },
    {
     "cell_type": "markdown",
     "metadata": {
      "slideshow": {
       "slide_type": "skip"
      }
     },
     "source": [
      "You'll need some more setup to make this an extension. See http://pynash.org/2013/03/06/timing-and-profiling.html for details.\n",
      "\n",
      "Once set up, you can load it like this:"
     ]
    },
    {
     "cell_type": "code",
     "collapsed": false,
     "input": [
      "%load_ext line_profiler\n",
      "\n",
      "%lprun -f most_votes most_votes()"
     ],
     "language": "python",
     "metadata": {
      "slideshow": {
       "slide_type": "skip"
      }
     },
     "outputs": [],
     "prompt_number": 6
    },
    {
     "cell_type": "markdown",
     "metadata": {
      "slideshow": {
       "slide_type": "skip"
      }
     },
     "source": [
      "This displays it in a separate window in IPython Notebook. So let's create a new function that displays it as output."
     ]
    },
    {
     "cell_type": "code",
     "collapsed": false,
     "input": [
      "import line_profiler\n",
      "\n",
      "def lprun(func, *args, **kwargs):\n",
      "    profile = line_profiler.LineProfiler(func)\n",
      "    profile.runcall(func, *args, **kwargs)\n",
      "    profile.print_stats()"
     ],
     "language": "python",
     "metadata": {
      "slideshow": {
       "slide_type": "skip"
      }
     },
     "outputs": [],
     "prompt_number": 7
    },
    {
     "cell_type": "code",
     "collapsed": false,
     "input": [
      "lprun(most_votes)"
     ],
     "language": "python",
     "metadata": {
      "slideshow": {
       "slide_type": "-"
      }
     },
     "outputs": [
      {
       "output_type": "stream",
       "stream": "stdout",
       "text": [
        "Timer unit: 4.66511e-07 s\n",
        "\n",
        "Total time: 2.06904 s\n",
        "File: <ipython-input-5-c203a8cadf2a>\n",
        "Function: most_votes at line 3\n",
        "\n",
        "Line #      Hits         Time  Per Hit   % Time  Line Contents\n",
        "==============================================================\n",
        "     3                                           def most_votes(ac_name='BANGALORE SOUTH'):\n",
        "     4         1           15     15.0      0.0      data = []\n",
        "     5         1            8      8.0      0.0      row = 0\n",
        "     6    398704       855617      2.1     19.3      for line in open(assembly_results):\n",
        "     7    398703       618753      1.6     14.0          if row > 0:\n",
        "     8    398702      1436492      3.6     32.4              csv_row = line.split(',')\n",
        "     9    398702       844096      2.1     19.0              if csv_row[4] == ac_name:\n",
        "    10        36           59      1.6      0.0                  name = csv_row[6]\n",
        "    11        36          180      5.0      0.0                  votes = int(csv_row[11].strip())\n",
        "    12        36          107      3.0      0.0                  data.append([name, votes])\n",
        "    13    398703       679762      1.7     15.3          row += 1\n",
        "    14                                           \n",
        "    15         1           61     61.0      0.0      return sorted(data, key=operator.itemgetter(1), reverse=True)\n",
        "\n"
       ]
      }
     ],
     "prompt_number": 8
    },
    {
     "cell_type": "markdown",
     "metadata": {
      "slideshow": {
       "slide_type": "slide"
      }
     },
     "source": [
      "# Pick your battle\n",
      "\n",
      "Now that we know what's taking time, there are two approaches to pick what to optimise:\n",
      "\n",
      "1. Eliminate what's obviously redundant\n",
      "2. Optimise what takes the most time\n",
      "    1. Reduce the number of Hits\n",
      "    2. Reduce the time per hit"
     ]
    },
    {
     "cell_type": "markdown",
     "metadata": {
      "slideshow": {
       "slide_type": "slide"
      }
     },
     "source": [
      "## Eliminate the obviously redundant\n",
      "\n",
      "Let's look at whether anything is obviously redundant. Consider the line:\n",
      "\n",
      "    if row > 0\n",
      "\n",
      "That's being checked 398,703 times. But in reality, it needs to be checked only once. We just want to ignore the first row. So let's refactor the function:"
     ]
    },
    {
     "cell_type": "code",
     "collapsed": false,
     "input": [
      "def most_votes_skip_first(ac_name='BANGALORE SOUTH'):\n",
      "    data = []\n",
      "    handle = open(assembly_results)\n",
      "    handle.next()  # Skip the header\n",
      "    for line in handle:\n",
      "        csv_row = line.split(',')\n",
      "        if csv_row[4] == ac_name:\n",
      "            name = csv_row[6]\n",
      "            votes = int(csv_row[11].strip())\n",
      "            data.append([name, votes])\n",
      "\n",
      "    return sorted(data, key=operator.itemgetter(1), reverse=True)\n",
      "\n",
      "time1 = %timeit -o most_votes()\n",
      "time2 = %timeit -o most_votes_skip_first()\n",
      "ms = lambda time: 1000. * mean(time.all_runs) / time.loops\n",
      "print '{:.1%} faster'.format(ms(time1) / ms(time2) - 1)"
     ],
     "language": "python",
     "metadata": {
      "slideshow": {
       "slide_type": "-"
      }
     },
     "outputs": [
      {
       "output_type": "stream",
       "stream": "stdout",
       "text": [
        "1 loops, best of 3: 478 ms per loop\n",
        "1 loops, best of 3: 442 ms per loop"
       ]
      },
      {
       "output_type": "stream",
       "stream": "stdout",
       "text": [
        "\n",
        "8.6% faster\n"
       ]
      }
     ],
     "prompt_number": 9
    },
    {
     "cell_type": "markdown",
     "metadata": {
      "slideshow": {
       "slide_type": "slide"
      }
     },
     "source": [
      "# Optimise what takes most time\n",
      "\n",
      "Now, let's see what takes the most time:"
     ]
    },
    {
     "cell_type": "code",
     "collapsed": false,
     "input": [
      "lprun(most_votes_skip_first)"
     ],
     "language": "python",
     "metadata": {
      "slideshow": {
       "slide_type": "-"
      }
     },
     "outputs": [
      {
       "output_type": "stream",
       "stream": "stdout",
       "text": [
        "Timer unit: 4.66511e-07 s\n",
        "\n",
        "Total time: 1.39475 s\n",
        "File: <ipython-input-9-d705bafdeeb8>\n",
        "Function: most_votes_skip_first at line 1\n",
        "\n",
        "Line #      Hits         Time  Per Hit   % Time  Line Contents\n",
        "==============================================================\n",
        "     1                                           def most_votes_skip_first(ac_name='BANGALORE SOUTH'):\n",
        "     2         1            5      5.0      0.0      data = []\n",
        "     3         1          238    238.0      0.0      handle = open(assembly_results)\n",
        "     4         1          129    129.0      0.0      handle.next()  # Skip the header\n",
        "     5    398703       825965      2.1     27.6      for line in handle:\n",
        "     6    398702      1369980      3.4     45.8          csv_row = line.split(',')\n",
        "     7    398702       793027      2.0     26.5          if csv_row[4] == ac_name:\n",
        "     8        36           57      1.6      0.0              name = csv_row[6]\n",
        "     9        36          183      5.1      0.0              votes = int(csv_row[11].strip())\n",
        "    10        36          110      3.1      0.0              data.append([name, votes])\n",
        "    11                                           \n",
        "    12         1           58     58.0      0.0      return sorted(data, key=operator.itemgetter(1), reverse=True)\n",
        "\n"
       ]
      }
     ],
     "prompt_number": 10
    },
    {
     "cell_type": "markdown",
     "metadata": {
      "slideshow": {
       "slide_type": "slide"
      }
     },
     "source": [
      "## Reduce the number of hits\n",
      "\n",
      "The bulk of the time is going into splitting the ','. This is called 398,702 times, once for each row.\n",
      "\n",
      "However, we are only interested in those rows where the constituency name matches. So let's check for the name first, without bothering to split."
     ]
    },
    {
     "cell_type": "code",
     "collapsed": false,
     "input": [
      "def most_votes_check_first(ac_name='BANGALORE SOUTH'):\n",
      "    data = []\n",
      "    handle = open(assembly_results)\n",
      "    handle.next()\n",
      "    for line in handle:\n",
      "        # Check for a match first, before split\n",
      "        if line.find(ac_name) >= 0:\n",
      "            csv_row = line.split(',')\n",
      "            name = csv_row[6]\n",
      "            votes = int(csv_row[11].strip())\n",
      "            data.append([name, votes])\n",
      "\n",
      "    return sorted(data, key=operator.itemgetter(1), reverse=True)\n",
      "\n",
      "time3 = %timeit -o most_votes_check_first()\n",
      "print '{:.1%} faster'.format(ms(time2) / ms(time3) - 1)"
     ],
     "language": "python",
     "metadata": {
      "slideshow": {
       "slide_type": "-"
      }
     },
     "outputs": [
      {
       "output_type": "stream",
       "stream": "stdout",
       "text": [
        "1 loops, best of 3: 236 ms per loop\n",
        "87.2% faster\n"
       ]
      }
     ],
     "prompt_number": 11
    },
    {
     "cell_type": "markdown",
     "metadata": {
      "slideshow": {
       "slide_type": "slide"
      }
     },
     "source": [
      "So now, the bulk of the time is going into just checking if the `ac_name` is in the string. "
     ]
    },
    {
     "cell_type": "code",
     "collapsed": false,
     "input": [
      "lprun(most_votes_check_first)"
     ],
     "language": "python",
     "metadata": {
      "slideshow": {
       "slide_type": "-"
      }
     },
     "outputs": [
      {
       "output_type": "stream",
       "stream": "stdout",
       "text": [
        "Timer unit: 4.66511e-07 s\n",
        "\n",
        "Total time: 0.887145 s\n",
        "File: <ipython-input-11-6ceaa1572cb1>\n",
        "Function: most_votes_check_first at line 1\n",
        "\n",
        "Line #      Hits         Time  Per Hit   % Time  Line Contents\n",
        "==============================================================\n",
        "     1                                           def most_votes_check_first(ac_name='BANGALORE SOUTH'):\n",
        "     2         1           15     15.0      0.0      data = []\n",
        "     3         1          632    632.0      0.0      handle = open(assembly_results)\n",
        "     4         1          406    406.0      0.0      handle.next()\n",
        "     5    398703       887373      2.2     46.7      for line in handle:\n",
        "     6                                                   # Check for a match first, before split\n",
        "     7    398702      1012660      2.5     53.3          if line.find(ac_name) >= 0:\n",
        "     8        36          155      4.3      0.0              csv_row = line.split(',')\n",
        "     9        36           68      1.9      0.0              name = csv_row[6]\n",
        "    10        36          174      4.8      0.0              votes = int(csv_row[11].strip())\n",
        "    11        36          110      3.1      0.0              data.append([name, votes])\n",
        "    12                                           \n",
        "    13         1           68     68.0      0.0      return sorted(data, key=operator.itemgetter(1), reverse=True)\n",
        "\n"
       ]
      }
     ],
     "prompt_number": 12
    },
    {
     "cell_type": "markdown",
     "metadata": {
      "slideshow": {
       "slide_type": "slide"
      }
     },
     "source": [
      "## Reduce the time per hit\n",
      "\n",
      "So how exactly can we make something as simple as `line.find(ac_name) >= 0` faster?\n",
      "\n",
      "Let's loop at the op code."
     ]
    },
    {
     "cell_type": "code",
     "collapsed": false,
     "input": [
      "def check(line, ac_name):\n",
      "    return line.find(ac_name) >= 0\n",
      "\n",
      "import dis\n",
      "dis.disassemble(check.func_code)"
     ],
     "language": "python",
     "metadata": {
      "slideshow": {
       "slide_type": "-"
      }
     },
     "outputs": [
      {
       "output_type": "stream",
       "stream": "stdout",
       "text": [
        "  2           0 LOAD_FAST                0 (line)\n",
        "              3 LOAD_ATTR                0 (find)\n",
        "              6 LOAD_FAST                1 (ac_name)\n",
        "              9 CALL_FUNCTION            1\n",
        "             12 LOAD_CONST               1 (0)\n",
        "             15 COMPARE_OP               5 (>=)\n",
        "             18 RETURN_VALUE        \n"
       ]
      }
     ],
     "prompt_number": 13
    },
    {
     "cell_type": "markdown",
     "metadata": {
      "slideshow": {
       "slide_type": "-"
      }
     },
     "source": [
      "There are a number of steps involved here:\n",
      "\n",
      "1. Load `line`\n",
      "2. Load `find`\n",
      "3. Load `ac_name`\n",
      "4. Then call the `line.find` function with `ac_name` as a parameter\n",
      "5. Load the constant `0`\n",
      "6. Compare the result with that constant"
     ]
    },
    {
     "cell_type": "markdown",
     "metadata": {
      "slideshow": {
       "slide_type": "slide"
      }
     },
     "source": [
      "It's generally recognised that functions in Python are slow. Let's replace this with an operator and see how well that works."
     ]
    },
    {
     "cell_type": "code",
     "collapsed": false,
     "input": [
      "def check(line, ac_name):\n",
      "    return ac_name in line\n",
      "\n",
      "dis.disassemble(check.func_code)"
     ],
     "language": "python",
     "metadata": {
      "slideshow": {
       "slide_type": "-"
      }
     },
     "outputs": [
      {
       "output_type": "stream",
       "stream": "stdout",
       "text": [
        "  2           0 LOAD_FAST                1 (ac_name)\n",
        "              3 LOAD_FAST                0 (line)\n",
        "              6 COMPARE_OP               6 (in)\n",
        "              9 RETURN_VALUE        \n"
       ]
      }
     ],
     "prompt_number": 14
    },
    {
     "cell_type": "markdown",
     "metadata": {
      "slideshow": {
       "slide_type": "-"
      }
     },
     "source": [
      "This appears to be doing a *lot less* than before. Let's try this out."
     ]
    },
    {
     "cell_type": "code",
     "collapsed": false,
     "input": [
      "def most_votes_using_in(ac_name='BANGALORE SOUTH'):\n",
      "    data = []\n",
      "    handle = open(assembly_results)\n",
      "    handle.next()\n",
      "    for line in handle:\n",
      "        # Use `in` instead of `.find()`\n",
      "        if ac_name in line:\n",
      "            csv_row = line.split(',')\n",
      "            name = csv_row[6]\n",
      "            votes = int(csv_row[11].strip())\n",
      "            data.append([name, votes])\n",
      "\n",
      "    return sorted(data, key=operator.itemgetter(1), reverse=True)\n",
      "\n",
      "time4 = %timeit -o most_votes_using_in()\n",
      "print '{:.1%} faster'.format(ms(time3) / ms(time4) - 1)"
     ],
     "language": "python",
     "metadata": {
      "slideshow": {
       "slide_type": "slide"
      }
     },
     "outputs": [
      {
       "output_type": "stream",
       "stream": "stdout",
       "text": [
        "10 loops, best of 3: 145 ms per loop\n",
        "62.7% faster\n"
       ]
      }
     ],
     "prompt_number": 15
    },
    {
     "cell_type": "markdown",
     "metadata": {
      "slideshow": {
       "slide_type": "slide"
      }
     },
     "source": [
      "So, overall, here's our overall improvement:"
     ]
    },
    {
     "cell_type": "code",
     "collapsed": false,
     "input": [
      "print '{:,.0f} ms: original version'.format(ms(time1))\n",
      "print '{:,.0f} ms: remove redundant if row > 0'.format(ms(time2))\n",
      "print '{:,.0f} ms: reduce # times .split() is called'.format(ms(time3))\n",
      "print '{:,.0f} ms: use operator instead of function'.format(ms(time4))\n",
      "print '{:,.1f}x improvement'.format(ms(time1) / ms(time4))"
     ],
     "language": "python",
     "metadata": {
      "slideshow": {
       "slide_type": "-"
      }
     },
     "outputs": [
      {
       "output_type": "stream",
       "stream": "stdout",
       "text": [
        "481 ms: original version\n",
        "443 ms: remove redundant if row > 0\n",
        "237 ms: reduce # times .split() is called\n",
        "145 ms: use operator instead of function\n",
        "3.3x improvement\n"
       ]
      }
     ],
     "prompt_number": 16
    },
    {
     "cell_type": "markdown",
     "metadata": {
      "slideshow": {
       "slide_type": "slide"
      }
     },
     "source": [
      "## Reject dogmas\n",
      "\n",
      "By now, you'd wonder, \"Why not use NumPy? Pandas? That's got to be faster.\" And it often is.\n",
      "\n",
      "So let's try it. We'll use Pandas to achieve the same result:"
     ]
    },
    {
     "cell_type": "code",
     "collapsed": false,
     "input": [
      "import pandas as pd\n",
      "\n",
      "def most_votes_pandas(ac_name='BANGALORE SOUTH'):\n",
      "    data = pd.read_csv(assembly_results, low_memory=False)\n",
      "    return data[data.AC_NAME.str.contains(ac_name)].sort('VOTES', ascending=False)\n",
      "\n",
      "time5 = %timeit -o most_votes_pandas()\n",
      "print '{:.1%} faster'.format(ms(time4) / ms(time5) - 1)"
     ],
     "language": "python",
     "metadata": {
      "slideshow": {
       "slide_type": "-"
      }
     },
     "outputs": [
      {
       "output_type": "stream",
       "stream": "stdout",
       "text": [
        "1 loops, best of 3: 1.11 s per loop\n",
        "-87.0% faster\n"
       ]
      }
     ],
     "prompt_number": 17
    },
    {
     "cell_type": "markdown",
     "metadata": {
      "slideshow": {
       "slide_type": "-"
      }
     },
     "source": [
      "Shocking as it is, using Pandas is slower in this particular scenario.\n",
      "\n",
      "In fact, we can evaluate how fast long it takes for various storage methods. Below, we create a set of dummy data files in a variety of formats (CSV, JSON, pickle, HDF5) and load them to see how long each takes."
     ]
    },
    {
     "cell_type": "markdown",
     "metadata": {
      "slideshow": {
       "slide_type": "slide"
      }
     },
     "source": [
      "# Which is the fastest data format?"
     ]
    },
    {
     "cell_type": "code",
     "collapsed": false,
     "input": [
      "%run sample.data.py"
     ],
     "language": "python",
     "metadata": {
      "slideshow": {
       "slide_type": "skip"
      }
     },
     "outputs": [],
     "prompt_number": 18
    },
    {
     "cell_type": "code",
     "collapsed": false,
     "input": [
      "from timeit import timeit\n",
      "print '{:,.3f}s: csv.DictReader'.format(timeit(\"list(csv.DictReader(open('sample.data.csv')))\", setup=\"import csv\", number=1))\n",
      "print '{:,.3f}s: pickle.load'.format(timeit(\"pickle.load(open('sample.data.pickle', 'rb'))\", setup=\"import cPickle as pickle\", number=1))\n",
      "print '{:,.3f}s: json.load (array of dict)'.format(timeit(\"json.load(open('sample.data.json'))\", setup=\"import json\", number=1))\n",
      "print '{:,.3f}s: json.load (array of arrays)'.format(timeit(\"json.load(open('sample.data-array.json'))\", setup=\"import json\", number=1))\n",
      "print '{:,.3f}s: csv.reader'.format(timeit(\"list(csv.reader(open('sample.data.csv')))\", setup=\"import csv\", number=1))\n",
      "print '{:,.3f}s: pandas.read_csv'.format(timeit(\"pd.read_csv('sample.data.csv')\", setup=\"import pandas as pd\", number=1))\n",
      "print '{:,.3f}s: pandas.read_pickle'.format(timeit(\"pd.read_pickle('sample.data.pandas')\", setup=\"import pandas as pd\", number=1))\n",
      "print '{:,.3f}s: HDF5 table'.format(timeit(\"pd.read_hdf('sample.data.h5', 'table')\", setup=\"import pandas as pd\", number=1))\n",
      "print '{:,.3f}s: HDF5 stored'.format(timeit(\"pd.read_hdf('sample.data.h5', 'stored')\", setup=\"import pandas as pd\", number=1))"
     ],
     "language": "python",
     "metadata": {
      "slideshow": {
       "slide_type": "-"
      }
     },
     "outputs": [
      {
       "output_type": "stream",
       "stream": "stdout",
       "text": [
        "7.871s: csv.DictReader\n",
        "6.074s: pickle.load"
       ]
      },
      {
       "output_type": "stream",
       "stream": "stdout",
       "text": [
        "\n",
        "7.657s: json.load (array of dict)"
       ]
      },
      {
       "output_type": "stream",
       "stream": "stdout",
       "text": [
        "\n",
        "2.212s: json.load (array of arrays)"
       ]
      },
      {
       "output_type": "stream",
       "stream": "stdout",
       "text": [
        "\n",
        "1.433s: csv.reader"
       ]
      },
      {
       "output_type": "stream",
       "stream": "stdout",
       "text": [
        "\n",
        "0.810s: pandas.read_csv"
       ]
      },
      {
       "output_type": "stream",
       "stream": "stdout",
       "text": [
        "\n",
        "0.720s: pandas.read_pickle"
       ]
      },
      {
       "output_type": "stream",
       "stream": "stdout",
       "text": [
        "\n",
        "0.417s: HDF5 table"
       ]
      },
      {
       "output_type": "stream",
       "stream": "stdout",
       "text": [
        "\n",
        "0.299s: HDF5 stored"
       ]
      },
      {
       "output_type": "stream",
       "stream": "stdout",
       "text": [
        "\n"
       ]
      }
     ],
     "prompt_number": 20
    },
    {
     "cell_type": "markdown",
     "metadata": {
      "slideshow": {
       "slide_type": "-"
      }
     },
     "source": [
      "Only the HDF5 format comes close to the speed at which our custom algorithm performed, and even then, does not quite meet it.\n",
      "\n",
      "So remember: **the best optimiser is your head**. But all else being equal, prefer HDF5 as a format."
     ]
    },
    {
     "cell_type": "markdown",
     "metadata": {
      "slideshow": {
       "slide_type": "slide"
      }
     },
     "source": [
      "# Make your programs restartable\n",
      "\n",
      "If you're running a large computation, two things become critical:\n",
      "\n",
      "1. Break it into pieces and process them separately (effectively, map-reduce-ability)\n",
      "2. Cache the results so that re-computations are avoided\n",
      "\n",
      "The latter, caching, is the key to the \"restartability\" of a program -- where it can pick up an run fom where it stopped the last time.\n",
      "\n",
      "All of the assembly election data was scraped from the [ECI results](http://eci.nic.in/eci_main1/ElectionStatistics.aspx) page. Here's a fairly typical scraping sequence:\n",
      "\n",
      "    for url in list_of_urls:\n",
      "        tree = parse(url)\n",
      "        # ... do more with the tree\n",
      "\n",
      "The slowest step in this is not the computation, but fetching the URL. Can we cache it?"
     ]
    },
    {
     "cell_type": "markdown",
     "metadata": {
      "slideshow": {
       "slide_type": "slide"
      }
     },
     "source": [
      "# Cache slow operations transparently\n",
      "\n",
      "One way is to define a method that loads the URL only if it has not already been created. Here's one simple possibility:"
     ]
    },
    {
     "cell_type": "code",
     "collapsed": false,
     "input": [
      "import os\n",
      "from urllib import urlretrieve\n",
      "\n",
      "def get(url):\n",
      "    '''Like open(url), but cached'''\n",
      "    filename = 'sample.file.name'         # We need a unique filename per URL\n",
      "    if not os.path.exists(filename):\n",
      "        urlretrieve(url, filename)\n",
      "    return open(filename)\n",
      "\n",
      "!rm -f sample.file.name\n",
      "eci_url = 'http://eci.nic.in/eci_main1/ElectionStatistics.aspx'\n",
      "%timeit -n1 -r1 get(eci_url)\n",
      "%timeit -n1 -r1 get(eci_url)"
     ],
     "language": "python",
     "metadata": {},
     "outputs": [
      {
       "output_type": "stream",
       "stream": "stdout",
       "text": [
        "1 loops, best of 1: 1.38 s per loop\n",
        "1 loops, best of 1: 338 \u00b5s per loop\n"
       ]
      }
     ],
     "prompt_number": 21
    },
    {
     "cell_type": "markdown",
     "metadata": {},
     "source": [
      "The file gets saved the first time. The second time, it's loaded from the disk, which is *thousands of times* faster."
     ]
    },
    {
     "cell_type": "markdown",
     "metadata": {
      "slideshow": {
       "slide_type": "slide"
      }
     },
     "source": [
      "# Cache each URL as a unique key\n",
      "\n",
      "But in our last example, the filename was not unique. We need a way of getting a unique filename for each URL. There are several options for this."
     ]
    },
    {
     "cell_type": "markdown",
     "metadata": {
      "slideshow": {
       "slide_type": "fragment"
      }
     },
     "source": [
      "**1. Use the URL as the filename.** But not all URL characters are valid for files."
     ]
    },
    {
     "cell_type": "markdown",
     "metadata": {
      "slideshow": {
       "slide_type": "fragment"
      }
     },
     "source": [
      "**2. Remove special characters from the URL.** But some special characters have meaning. `?x=1` is different from `/x/1`"
     ]
    },
    {
     "cell_type": "markdown",
     "metadata": {
      "slideshow": {
       "slide_type": "fragment"
      }
     },
     "source": [
      "**3. Use a hashing function**. Which begs the question, which one? And since this is a session on speed, let's time them."
     ]
    },
    {
     "cell_type": "markdown",
     "metadata": {
      "slideshow": {
       "slide_type": "slide"
      }
     },
     "source": [
      "# Hashing efficiently\n",
      "\n",
      "My first impulse is to use the `hashlib` built-in library. Here's how the various algorithms perform."
     ]
    },
    {
     "cell_type": "code",
     "collapsed": false,
     "input": [
      "import hashlib\n",
      "for algo in hashlib.algorithms:\n",
      "    duration = timeit('hashlib.%s(\"%s\").hexdigest()' % (algo, eci_url), setup='import hashlib')\n",
      "    print '{:,.3f}s: {:s}'.format(duration, algo)"
     ],
     "language": "python",
     "metadata": {},
     "outputs": [
      {
       "output_type": "stream",
       "stream": "stdout",
       "text": [
        "1.729s: md5\n",
        "1.772s: sha1"
       ]
      },
      {
       "output_type": "stream",
       "stream": "stdout",
       "text": [
        "\n",
        "2.134s: sha224"
       ]
      },
      {
       "output_type": "stream",
       "stream": "stdout",
       "text": [
        "\n",
        "2.133s: sha256"
       ]
      },
      {
       "output_type": "stream",
       "stream": "stdout",
       "text": [
        "\n",
        "2.849s: sha384"
       ]
      },
      {
       "output_type": "stream",
       "stream": "stdout",
       "text": [
        "\n",
        "2.881s: sha512"
       ]
      },
      {
       "output_type": "stream",
       "stream": "stdout",
       "text": [
        "\n"
       ]
      }
     ],
     "prompt_number": 22
    },
    {
     "cell_type": "markdown",
     "metadata": {},
     "source": [
      "These are the results for 1 million operations, so the time taken per hash is a few microseconds. So we really *should not* be optimising this, and should just randomly pick an algorithm."
     ]
    },
    {
     "cell_type": "markdown",
     "metadata": {
      "slideshow": {
       "slide_type": "slide"
      }
     },
     "source": [
      "# The built-in `hash` function\n",
      "\n",
      "However, let me just remind you of the built-in `hash()` function."
     ]
    },
    {
     "cell_type": "code",
     "collapsed": false,
     "input": [
      "hash(eci_url)"
     ],
     "language": "python",
     "metadata": {},
     "outputs": [
      {
       "metadata": {},
       "output_type": "pyout",
       "prompt_number": 23,
       "text": [
        "1159908681"
       ]
      }
     ],
     "prompt_number": 23
    },
    {
     "cell_type": "markdown",
     "metadata": {},
     "source": [
      "It converts any hashable object into a signed long. We can just add `2 ** 32` to convert this into an unsigned long, which is a perfectly valid filename in almost every OS. This is what Python internally uses for dictionary keys. So it's likely to be fast. In fact, let's measure it:"
     ]
    },
    {
     "cell_type": "code",
     "collapsed": false,
     "input": [
      "duration = timeit('hash(\"%s\") + 2**32')\n",
      "print '{:,.3f}s: hash'.format(duration)"
     ],
     "language": "python",
     "metadata": {},
     "outputs": [
      {
       "output_type": "stream",
       "stream": "stdout",
       "text": [
        "0.287s: hash\n"
       ]
      }
     ],
     "prompt_number": 24
    },
    {
     "cell_type": "markdown",
     "metadata": {
      "slideshow": {
       "slide_type": "slide"
      }
     },
     "source": [
      "# Transforming data\n",
      "\n",
      "We were exploring views to show [every assembly election in India](https://gramener.com/election/assembly). Since we have the dates of every election, and the people that were Chief Ministers after each election, we decided to put these together as a set of visualisations.\n",
      "\n",
      "The slowest step when processing this data was parsing the dates. For example, let's create a dummy data file that saves dates. To make it realistic, we'll use multiple formats."
     ]
    },
    {
     "cell_type": "code",
     "collapsed": false,
     "input": [
      "import random\n",
      "import datetime\n",
      "\n",
      "formats = ['%d-%b-%Y', '%d %m %Y', '%b %d %Y', '%Y-%m-%d']\n",
      "today = datetime.date.today()\n",
      "with open('sample.dates.csv', 'w') as out:\n",
      "    for x in range(100000):\n",
      "        date = today - datetime.timedelta(random.randint(0, 100))\n",
      "        out.write(date.strftime(random.choice(formats)) + '\\n')\n",
      "\n",
      "!head sample.dates.csv"
     ],
     "language": "python",
     "metadata": {
      "slideshow": {
       "slide_type": "-"
      }
     },
     "outputs": [
      {
       "output_type": "stream",
       "stream": "stdout",
       "text": [
        "2014-06-28\n",
        "2014-07-07\n",
        "2014-09-21\n",
        "27-Aug-2014\n",
        "2014-07-06\n",
        "15-Sep-2014\n",
        "23 09 2014\n",
        "Jul 18 2014\n",
        "2014-07-11\n",
        "2014-06-23\n"
       ]
      }
     ],
     "prompt_number": 25
    },
    {
     "cell_type": "markdown",
     "metadata": {
      "slideshow": {
       "slide_type": "slide"
      }
     },
     "source": [
      "Since the dates are in multiple formats, we need a good library to parse it. [dateutil](https://labix.org/python-dateutil) is the most popular flexible date processor. Let's see how long that takes."
     ]
    },
    {
     "cell_type": "code",
     "collapsed": false,
     "input": [
      "from dateutil.parser import parse\n",
      "\n",
      "# Read the data first into a list\n",
      "lines = [line.strip() for line in open('sample.dates.csv')]\n",
      "\n",
      "# Convert it into dates\n",
      "def convert(lines):\n",
      "    result = []\n",
      "    for line in lines:\n",
      "        date = parse(line, dayfirst=True)\n",
      "        result.append(date)\n",
      "\n",
      "%timeit convert(lines)"
     ],
     "language": "python",
     "metadata": {
      "slideshow": {
       "slide_type": "-"
      }
     },
     "outputs": [
      {
       "output_type": "stream",
       "stream": "stdout",
       "text": [
        "1 loops, best of 3: 5.96 s per loop\n"
       ]
      }
     ],
     "prompt_number": 26
    },
    {
     "cell_type": "markdown",
     "metadata": {
      "slideshow": {
       "slide_type": "-"
      }
     },
     "source": [
      "# Where do *you* think the problem is?"
     ]
    },
    {
     "cell_type": "markdown",
     "metadata": {
      "slideshow": {
       "slide_type": "slide"
      }
     },
     "source": [
      "The entire problem is in the date parsing function."
     ]
    },
    {
     "cell_type": "code",
     "collapsed": false,
     "input": [
      "lprun(convert, lines)"
     ],
     "language": "python",
     "metadata": {
      "slideshow": {
       "slide_type": "-"
      }
     },
     "outputs": [
      {
       "output_type": "stream",
       "stream": "stdout",
       "text": [
        "Timer unit: 4.66511e-07 s\n",
        "\n",
        "Total time: 24.9886 s\n",
        "File: <ipython-input-26-10962859084c>\n",
        "Function: convert at line 7\n",
        "\n",
        "Line #      Hits         Time  Per Hit   % Time  Line Contents\n",
        "==============================================================\n",
        "     7                                           def convert(lines):\n",
        "     8         1            4      4.0      0.0      result = []\n",
        "     9    100001       111803      1.1      0.2      for line in lines:\n",
        "    10    100000     53220565    532.2     99.4          date = parse(line, dayfirst=True)\n",
        "    11    100000       232570      2.3      0.4          result.append(date)\n",
        "\n"
       ]
      }
     ],
     "prompt_number": 27
    },
    {
     "cell_type": "markdown",
     "metadata": {
      "slideshow": {
       "slide_type": "slide"
      }
     },
     "source": [
      "# Evaluate alternatives\n",
      "\n",
      "Let's see whether we have options to make date parsing faster. Suppose we take a single date, and see how long that takes to parse.\n",
      "\n",
      "Let's start with Pandas' `to_datetime` method (which internally uses `dateutil.parser.parse`)."
     ]
    },
    {
     "cell_type": "code",
     "collapsed": false,
     "input": [
      "s = pd.Series(['01-31-2012']*100000)\n",
      "\n",
      "%timeit pd.to_datetime(s)"
     ],
     "language": "python",
     "metadata": {
      "slideshow": {
       "slide_type": "-"
      }
     },
     "outputs": [
      {
       "output_type": "stream",
       "stream": "stdout",
       "text": [
        "1 loops, best of 3: 6.12 s per loop\n"
       ]
      }
     ],
     "prompt_number": 28
    },
    {
     "cell_type": "markdown",
     "metadata": {
      "slideshow": {
       "slide_type": "-"
      }
     },
     "source": [
      "That wasn't fast. Let's see if the native `dateutil.parser.parse` is any faster."
     ]
    },
    {
     "cell_type": "code",
     "collapsed": false,
     "input": [
      "%timeit [parse(v) for v in s]"
     ],
     "language": "python",
     "metadata": {
      "slideshow": {
       "slide_type": "-"
      }
     },
     "outputs": [
      {
       "output_type": "stream",
       "stream": "stdout",
       "text": [
        "1 loops, best of 3: 5.3 s per loop\n"
       ]
      }
     ],
     "prompt_number": 29
    },
    {
     "cell_type": "markdown",
     "metadata": {
      "slideshow": {
       "slide_type": "slide"
      }
     },
     "source": [
      "But wait... in this case, we *already know the string format*. Can't we just use `datetime.strptime()`?"
     ]
    },
    {
     "cell_type": "code",
     "collapsed": false,
     "input": [
      "%timeit [datetime.datetime.strptime(v, '%m-%d-%Y') for v in s]"
     ],
     "language": "python",
     "metadata": {
      "slideshow": {
       "slide_type": "-"
      }
     },
     "outputs": [
      {
       "output_type": "stream",
       "stream": "stdout",
       "text": [
        "1 loops, best of 3: 1.78 s per loop\n"
       ]
      }
     ],
     "prompt_number": 30
    },
    {
     "cell_type": "markdown",
     "metadata": {
      "slideshow": {
       "slide_type": "-"
      }
     },
     "source": [
      "Looking much better. But what if the overhead of `datetime.strptime()` is high. Let's try parsing it raw."
     ]
    },
    {
     "cell_type": "code",
     "collapsed": false,
     "input": [
      "%timeit [datetime.datetime(int(v[6:10]), int(v[0:2]), int(v[3:5])) for v in s]"
     ],
     "language": "python",
     "metadata": {
      "slideshow": {
       "slide_type": "-"
      }
     },
     "outputs": [
      {
       "output_type": "stream",
       "stream": "stdout",
       "text": [
        "1 loops, best of 3: 238 ms per loop\n"
       ]
      }
     ],
     "prompt_number": 31
    },
    {
     "cell_type": "markdown",
     "metadata": {
      "slideshow": {
       "slide_type": "-"
      }
     },
     "source": [
      "So we've gotten it to be over *20 times faster*, but this is at the expense of flexibility. We can only parse one date format, and that too only if it has integers."
     ]
    },
    {
     "cell_type": "markdown",
     "metadata": {
      "slideshow": {
       "slide_type": "slide"
      }
     },
     "source": [
      "# Cache anything that's slow\n",
      "\n",
      "But let's take a different approach. So far, we were trying to make the function faster. But what if we tried to call it fewer times? Often, the number of dates to be parsed are few. There's no reason not to cache it."
     ]
    },
    {
     "cell_type": "code",
     "collapsed": false,
     "input": [
      "def lookup(s):\n",
      "    # Parse only the unique dates\n",
      "    dates = {date: parse(date, dayfirst=True) for date in unique(s)}\n",
      "    # Look up the parsed dates\n",
      "    return [dates[v] for v in s]\n",
      "\n",
      "%timeit lookup(s)"
     ],
     "language": "python",
     "metadata": {
      "slideshow": {
       "slide_type": "-"
      }
     },
     "outputs": [
      {
       "output_type": "stream",
       "stream": "stdout",
       "text": [
        "100 loops, best of 3: 13.7 ms per loop\n"
       ]
      }
     ],
     "prompt_number": 32
    },
    {
     "cell_type": "markdown",
     "metadata": {
      "slideshow": {
       "slide_type": "-"
      }
     },
     "source": [
      "Now, this is a substantial improvement, and comes without any loss of flexibility."
     ]
    },
    {
     "cell_type": "markdown",
     "metadata": {
      "slideshow": {
       "slide_type": "slide"
      }
     },
     "source": [
      "# Avoid loops and custom functions\n",
      "\n",
      "You'll notice that I've switched over to using list comprehensions in favour of loops. That's because loops and functions both have an overhead in Python -- so where possible, it's best to avoid them. Let me show you how this works."
     ]
    },
    {
     "cell_type": "code",
     "collapsed": false,
     "input": [
      "data = [random.randint(0, 100) for x in range(100000)]\n",
      "\n",
      "def square(value):\n",
      "    return value * value\n",
      "\n",
      "def square_all(data):\n",
      "    result = []\n",
      "    for value in data:\n",
      "        squared = square(value)\n",
      "        result.append(squared)\n",
      "    return result\n",
      "\n",
      "time1 = %timeit -o square_all(data)"
     ],
     "language": "python",
     "metadata": {
      "slideshow": {
       "slide_type": "-"
      }
     },
     "outputs": [
      {
       "output_type": "stream",
       "stream": "stdout",
       "text": [
        "10 loops, best of 3: 28.5 ms per loop\n"
       ]
      }
     ],
     "prompt_number": 33
    },
    {
     "cell_type": "markdown",
     "metadata": {
      "slideshow": {
       "slide_type": "slide"
      }
     },
     "source": [
      "# Inline functions are faster\n",
      "\n",
      "Now, let's take the same function, but avoid the overhead of calling a function. We'll inline the `square` function."
     ]
    },
    {
     "cell_type": "code",
     "collapsed": false,
     "input": [
      "def square_all_2(data):\n",
      "    result = []\n",
      "    for value in data:\n",
      "        squared = value * value\n",
      "        result.append(squared)\n",
      "    return result\n",
      "\n",
      "time2 = %timeit -o square_all_2(data)\n",
      "print '{:.1%} faster'.format(ms(time1) / ms(time2) - 1)"
     ],
     "language": "python",
     "metadata": {
      "slideshow": {
       "slide_type": "-"
      }
     },
     "outputs": [
      {
       "output_type": "stream",
       "stream": "stdout",
       "text": [
        "100 loops, best of 3: 16.7 ms per loop\n",
        "71.8% faster\n"
       ]
      }
     ],
     "prompt_number": 34
    },
    {
     "cell_type": "markdown",
     "metadata": {
      "slideshow": {
       "slide_type": "slide"
      }
     },
     "source": [
      "We're storing the squared value in a temporary variable that's not being re-used. Let's see if removing that makes a difference."
     ]
    },
    {
     "cell_type": "code",
     "collapsed": false,
     "input": [
      "def square_all_3(data):\n",
      "    result = []\n",
      "    for value in data:\n",
      "        result.append(value * value)\n",
      "    return result\n",
      "\n",
      "time3 = %timeit -o square_all_3(data)\n",
      "print '{:.1%} faster'.format(ms(time2) / ms(time3) - 1)"
     ],
     "language": "python",
     "metadata": {
      "slideshow": {
       "slide_type": "-"
      }
     },
     "outputs": [
      {
       "output_type": "stream",
       "stream": "stdout",
       "text": [
        "100 loops, best of 3: 13.7 ms per loop\n",
        "20.2% faster\n"
       ]
      }
     ],
     "prompt_number": 35
    },
    {
     "cell_type": "markdown",
     "metadata": {
      "slideshow": {
       "slide_type": "slide"
      }
     },
     "source": [
      "# List comprehensions are faster than loops\n",
      "\n",
      "Now, let's remove the for loop and replace it with a list comprehension."
     ]
    },
    {
     "cell_type": "code",
     "collapsed": false,
     "input": [
      "def square_all_4(data):\n",
      "    return [value * value for value in data]\n",
      "\n",
      "time4 = %timeit -o square_all_4(data)\n",
      "print '{:.1%} faster'.format(ms(time3) / ms(time4) - 1)"
     ],
     "language": "python",
     "metadata": {
      "slideshow": {
       "slide_type": "-"
      }
     },
     "outputs": [
      {
       "output_type": "stream",
       "stream": "stdout",
       "text": [
        "100 loops, best of 3: 7.47 ms per loop\n",
        "85.9% faster\n"
       ]
      }
     ],
     "prompt_number": 36
    },
    {
     "cell_type": "markdown",
     "metadata": {
      "slideshow": {
       "slide_type": "-"
      }
     },
     "source": [
      "In other words, where possible\n",
      "\n",
      "1. Use list comprehensions instead of loops\n",
      "2. Inline the function calls"
     ]
    },
    {
     "cell_type": "markdown",
     "metadata": {
      "slideshow": {
       "slide_type": "slide"
      }
     },
     "source": [
      "# Think in vectors\n",
      "\n",
      "Let's try another approach to squaring these random numbers. Let's use `pandas`, which converts these into an array with a fixed datatype, and executes loops in C."
     ]
    },
    {
     "cell_type": "code",
     "collapsed": false,
     "input": [
      "data = pd.Series(data)\n",
      "\n",
      "time5 = %timeit -o data * data\n",
      "print '{:.1%} faster'.format(ms(time4) / ms(time5) - 1)"
     ],
     "language": "python",
     "metadata": {
      "slideshow": {
       "slide_type": "-"
      }
     },
     "outputs": [
      {
       "output_type": "stream",
       "stream": "stdout",
       "text": [
        "1000 loops, best of 3: 496 \u00b5s per loop\n",
        "1385.4% faster\n"
       ]
      }
     ],
     "prompt_number": 37
    },
    {
     "cell_type": "markdown",
     "metadata": {
      "slideshow": {
       "slide_type": "-"
      }
     },
     "source": [
      "That might be termed *blazing fast*. Most vector computations have the dual advantages of:\n",
      "\n",
      "- static typing (so no type checking or conversions are required)\n",
      "- C loops (so no overhead of handling exceptions, etc)"
     ]
    },
    {
     "cell_type": "markdown",
     "metadata": {
      "slideshow": {
       "slide_type": "slide"
      }
     },
     "source": [
      "Here's another example where you could have a much faster result with vector computations. If you want to scale a dataset into the range [0 - 1], this piece of code is quite fast:"
     ]
    },
    {
     "cell_type": "code",
     "collapsed": false,
     "input": [
      "lo, hi = data.min(), data.max()\n",
      "%timeit (data - lo) / (hi - lo)"
     ],
     "language": "python",
     "metadata": {
      "slideshow": {
       "slide_type": "-"
      }
     },
     "outputs": [
      {
       "output_type": "stream",
       "stream": "stdout",
       "text": [
        "1000 loops, best of 3: 1.22 ms per loop\n"
       ]
      }
     ],
     "prompt_number": 38
    },
    {
     "cell_type": "markdown",
     "metadata": {
      "slideshow": {
       "slide_type": "slide"
      }
     },
     "source": [
      "Having read [this post](http://blog.clifreeder.com/blog/2013/04/21/ruby-is-too-slow-for-programming-competitions/) on Ruby being slow, I thought I'd check the same with Python. I got it running fairly fast, but there was one piece that was taking a fair bit of time: *counting numbers in a range*. Here's the slow version:"
     ]
    },
    {
     "cell_type": "code",
     "collapsed": false,
     "input": [
      "values = numpy.random.rand(1000000)\n",
      "def count(values, a, b):\n",
      "    count = 0\n",
      "    for x in values:\n",
      "        if a <= x <= b:\n",
      "            count += 1\n",
      "    return count\n",
      "\n",
      "time1 = %timeit -o count(values, .25, .75)"
     ],
     "language": "python",
     "metadata": {
      "slideshow": {
       "slide_type": "-"
      }
     },
     "outputs": [
      {
       "output_type": "stream",
       "stream": "stdout",
       "text": [
        "1 loops, best of 3: 285 ms per loop\n"
       ]
      }
     ],
     "prompt_number": 39
    },
    {
     "cell_type": "markdown",
     "metadata": {
      "slideshow": {
       "slide_type": "slide"
      }
     },
     "source": [
      "# Vector calculations are *much* faster than looping\n",
      "\n",
      "Let's apply vector computations to this. "
     ]
    },
    {
     "cell_type": "code",
     "collapsed": false,
     "input": [
      "time2 = %timeit -o ((.25 <= values) & (values <= .75)).sum()\n",
      "print '{:.1%} faster'.format(ms(time1) / ms(time2) - 1)"
     ],
     "language": "python",
     "metadata": {
      "slideshow": {
       "slide_type": "-"
      }
     },
     "outputs": [
      {
       "output_type": "stream",
       "stream": "stdout",
       "text": [
        "100 loops, best of 3: 3.69 ms per loop\n",
        "7598.1% faster\n"
       ]
      }
     ],
     "prompt_number": 40
    },
    {
     "cell_type": "markdown",
     "metadata": {
      "slideshow": {
       "slide_type": "slide"
      }
     },
     "source": [
      "# But you can make it even faster\n",
      "\n",
      "That was pretty fast, but we can go even faster when we realise that the search would be much quicker if the values are sorted. Rather than check each value, we can apply binary search on it.\n",
      "\n",
      "Fortunately, `numpy.searchsorted` provides a built-in and fast binary search. When you apply that..."
     ]
    },
    {
     "cell_type": "code",
     "collapsed": false,
     "input": [
      "values.sort()\n",
      "time3 = %timeit -o numpy.searchsorted(values, .75) - numpy.searchsorted(values, .25)\n",
      "print '{:.1%} faster'.format(ms(time2) / ms(time3) - 1)"
     ],
     "language": "python",
     "metadata": {
      "slideshow": {
       "slide_type": "-"
      }
     },
     "outputs": [
      {
       "output_type": "stream",
       "stream": "stdout",
       "text": [
        "100000 loops, best of 3: 4.27 \u00b5s per loop\n",
        "86382.8% faster\n"
       ]
      }
     ],
     "prompt_number": 41
    },
    {
     "cell_type": "markdown",
     "metadata": {
      "slideshow": {
       "slide_type": "-"
      }
     },
     "source": [
      "So remember, again: **the best optimiser is your head**."
     ]
    },
    {
     "cell_type": "markdown",
     "metadata": {
      "slideshow": {
       "slide_type": "slide"
      }
     },
     "source": [
      "# Cython\n",
      "\n",
      "[Cython](http://docs.cython.org/) is a project that lets you write C extensions to Python using Python -- that is, you don't need to know much C. There are many ways to [install it](http://docs.cython.org/src/quickstart/install.html) but a distribution like [Anaconda](http://docs.continuum.io/anaconda/) makes it much easier to install.\n",
      "\n",
      "Once installed, you can use it in IPython like this:"
     ]
    },
    {
     "cell_type": "code",
     "collapsed": false,
     "input": [
      "%load_ext cythonmagic"
     ],
     "language": "python",
     "metadata": {
      "slideshow": {
       "slide_type": "-"
      }
     },
     "outputs": [],
     "prompt_number": 42
    },
    {
     "cell_type": "markdown",
     "metadata": {
      "slideshow": {
       "slide_type": "-"
      }
     },
     "source": [
      "From this point, any cell beginning with `%%cython` will be interpreted using Cython, not Python."
     ]
    },
    {
     "cell_type": "markdown",
     "metadata": {
      "slideshow": {
       "slide_type": "slide"
      }
     },
     "source": [
      "# Cython code is just like Python\n",
      "\n",
      "Here's the code to add up numbers up to n, written in Cython and Python."
     ]
    },
    {
     "cell_type": "code",
     "collapsed": false,
     "input": [
      "%%cython\n",
      "def total_cython(n):\n",
      "    '''Calculate the sum of all numbers up to n'''\n",
      "    cdef int a = 0        # Declare the type of a as integer\n",
      "    cdef int i            # Declare the type of i as integer\n",
      "    for i in xrange(n):   # Now loop through all the numbers\n",
      "        a += i            # ... and add them\n",
      "    return a"
     ],
     "language": "python",
     "metadata": {
      "slideshow": {
       "slide_type": "-"
      }
     },
     "outputs": [],
     "prompt_number": 43
    },
    {
     "cell_type": "code",
     "collapsed": false,
     "input": [
      "def total_python(n):\n",
      "    a = 0\n",
      "    for i in xrange(n):\n",
      "        a += i\n",
      "    return a"
     ],
     "language": "python",
     "metadata": {
      "slideshow": {
       "slide_type": "-"
      }
     },
     "outputs": [],
     "prompt_number": 44
    },
    {
     "cell_type": "markdown",
     "metadata": {
      "slideshow": {
       "slide_type": "slide"
      }
     },
     "source": [
      "# Cython can be much faster than Python"
     ]
    },
    {
     "cell_type": "code",
     "collapsed": false,
     "input": [
      "%timeit total_python(100000)\n",
      "%timeit total_cython(100000)"
     ],
     "language": "python",
     "metadata": {
      "slideshow": {
       "slide_type": "-"
      }
     },
     "outputs": [
      {
       "output_type": "stream",
       "stream": "stdout",
       "text": [
        "100 loops, best of 3: 6.61 ms per loop\n",
        "10000 loops, best of 3: 67.6 \u00b5s per loop"
       ]
      },
      {
       "output_type": "stream",
       "stream": "stdout",
       "text": [
        "\n"
       ]
      }
     ],
     "prompt_number": 45
    },
    {
     "cell_type": "markdown",
     "metadata": {
      "slideshow": {
       "slide_type": "-"
      }
     },
     "source": [
      "In this case, Cython is almost 100 times faster than Python. A fair bit of Python's overhead lies in the flexible type system and loops."
     ]
    },
    {
     "cell_type": "markdown",
     "metadata": {
      "slideshow": {
       "slide_type": "slide"
      }
     },
     "source": [
      "# But Cython is not always blazing fast\n",
      "\n",
      "Let's count the number of values between `a` and `b` like before."
     ]
    },
    {
     "cell_type": "code",
     "collapsed": false,
     "input": [
      "%%cython\n",
      "\n",
      "def count_cython(values, a, b):\n",
      "    cdef int count = 0\n",
      "    cdef float val\n",
      "    for val in values:\n",
      "        if a <= val <= b:\n",
      "            count += 1\n",
      "    return count"
     ],
     "language": "python",
     "metadata": {
      "slideshow": {
       "slide_type": "-"
      }
     },
     "outputs": [],
     "prompt_number": 46
    },
    {
     "cell_type": "code",
     "collapsed": false,
     "input": [
      "%timeit count(values, .25, .75)\n",
      "%timeit count_cython(values, .25, .75)"
     ],
     "language": "python",
     "metadata": {
      "slideshow": {
       "slide_type": "-"
      }
     },
     "outputs": [
      {
       "output_type": "stream",
       "stream": "stdout",
       "text": [
        "1 loops, best of 3: 283 ms per loop\n",
        "10 loops, best of 3: 153 ms per loop"
       ]
      },
      {
       "output_type": "stream",
       "stream": "stdout",
       "text": [
        "\n"
       ]
      }
     ],
     "prompt_number": 47
    },
    {
     "cell_type": "markdown",
     "metadata": {
      "slideshow": {
       "slide_type": "-"
      }
     },
     "source": [
      "The speed difference between Python and Cython is still considerable, but much smaller than the almost 100x improvement we got earlier."
     ]
    },
    {
     "cell_type": "markdown",
     "metadata": {
      "slideshow": {
       "slide_type": "slide"
      }
     },
     "source": [
      "# Numba is simpler than Cython\n",
      "\n",
      "[Numba](http://numba.pydata.org/) dynamically compiles Python code and makes it faster. Its speed rivals Cython's, and it's a lot easier to use. For example, to compile the `total` function, use this:"
     ]
    },
    {
     "cell_type": "code",
     "collapsed": false,
     "input": [
      "from numba.decorators import jit\n",
      "\n",
      "@jit\n",
      "def total_numba(n):\n",
      "    a = 0\n",
      "    for i in range(n):\n",
      "        a += i\n",
      "    return a"
     ],
     "language": "python",
     "metadata": {
      "slideshow": {
       "slide_type": "-"
      }
     },
     "outputs": [],
     "prompt_number": 48
    },
    {
     "cell_type": "code",
     "collapsed": false,
     "input": [
      "%timeit total_python(100000)\n",
      "%timeit total_cython(100000)\n",
      "%timeit total_numba(100000)"
     ],
     "language": "python",
     "metadata": {
      "slideshow": {
       "slide_type": "-"
      }
     },
     "outputs": [
      {
       "output_type": "stream",
       "stream": "stdout",
       "text": [
        "100 loops, best of 3: 6.57 ms per loop\n",
        "10000 loops, best of 3: 67.6 \u00b5s per loop"
       ]
      },
      {
       "output_type": "stream",
       "stream": "stdout",
       "text": [
        "\n",
        "1000000 loops, best of 3: 273 ns per loop"
       ]
      },
      {
       "output_type": "stream",
       "stream": "stdout",
       "text": [
        "\n"
       ]
      }
     ],
     "prompt_number": 49
    },
    {
     "cell_type": "markdown",
     "metadata": {},
     "source": [
      "Notice the units. Milliseconds, microseconds, *nano*seconds."
     ]
    },
    {
     "cell_type": "markdown",
     "metadata": {
      "slideshow": {
       "slide_type": "slide"
      }
     },
     "source": [
      "# Numba is often faster than Cython"
     ]
    },
    {
     "cell_type": "code",
     "collapsed": false,
     "input": [
      "@jit\n",
      "def count_numba(values, a, b):\n",
      "    count = 0\n",
      "    for i in range(len(values)):\n",
      "        if a <= values[i] and values[i] <= b:\n",
      "            count += 1\n",
      "    return count\n",
      "\n",
      "%timeit count(values, .25, .75)\n",
      "%timeit count_cython(values, .25, .75)\n",
      "%timeit count_numba(values, .25, .75)"
     ],
     "language": "python",
     "metadata": {
      "slideshow": {
       "slide_type": "-"
      }
     },
     "outputs": [
      {
       "output_type": "stream",
       "stream": "stdout",
       "text": [
        "1 loops, best of 3: 285 ms per loop\n",
        "10 loops, best of 3: 153 ms per loop"
       ]
      },
      {
       "output_type": "stream",
       "stream": "stdout",
       "text": [
        "\n",
        "100 loops, best of 3: 2.91 ms per loop"
       ]
      },
      {
       "output_type": "stream",
       "stream": "stdout",
       "text": [
        "\n"
       ]
      }
     ],
     "prompt_number": 50
    },
    {
     "cell_type": "markdown",
     "metadata": {
      "slideshow": {
       "slide_type": "slide"
      }
     },
     "source": [
      "# Summary\n",
      "\n",
      "1. If it's fast enough, don't optimise it.\n",
      "2. Find the slowest step first.\n",
      "3. Reduce the number of hits. Perform each operation as rarely as possible.\n",
      "    - Cache the result if speed is more important than memory\n",
      "    - Move slower operations inside `if` conditions\n",
      "4. Make the slowest operation faster\n",
      "    - Python functions have an overhead. Inline if possible\n",
      "    - List comprehensions are faster than `for` or `if`\n",
      "    - Use Numba or Cython if static typing, etc can help\n",
      "5. Change the algorithm. This has the second-biggest impact on speed\n",
      "6. The largest impact comes from eliminating code.\n",
      "\n",
      "> Functionality is an asset. Code is a liability."
     ]
    },
    {
     "cell_type": "markdown",
     "metadata": {
      "slideshow": {
       "slide_type": "slide"
      }
     },
     "source": [
      "# Appendix\n",
      "\n",
      "I'm sometimes asked what I use for parallel processing. My answer is [xargs](http://en.wikipedia.org/wiki/Xargs). It is devilishly powerful.\n",
      "\n",
      "**Why `xargs`?** Because\n",
      "\n",
      "1. It's ridiculously simple to use.\n",
      "2. It lets me distribute load across CPUs / cores in a machine, *as well as* across machines\n",
      "\n",
      "**Why not `threading`?** Threads are lightweight, but when processing data, you're not processing lightweight stuff. Threading helps share data. But you *don't want to share data* -- you want to process each chunk of data exactly once, and get rid of it. Threads do not have a big benefit over processes in the data world.\n",
      "\n",
      "**Why not `multiprocessing`?** The key benefit here (when compared to xargs) is that I can pass Python objects. But the disadvantage is that I cannot run the same code across multiple servers.\n",
      "\n",
      "This is not to say that these modules are not useful. Just that it's not too relevant when processing large-scale data."
     ]
    }
   ],
   "metadata": {}
  }
 ]
}