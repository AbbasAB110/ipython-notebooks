{
 "metadata": {
  "name": "",
  "signature": "sha256:9f05e2c5188ace18776ddaa422a90ecda21eb852f5f0ac11579010011c36232d"
 },
 "nbformat": 3,
 "nbformat_minor": 0,
 "worksheets": [
  {
   "cells": [
    {
     "cell_type": "markdown",
     "metadata": {
      "slideshow": {
       "slide_type": "slide"
      }
     },
     "source": [
      "# Faster data processing in Python\n",
      "## by S Anand ([@sanand0](https://twitter.com/sanand0))\n",
      "\n",
      "Working with data in Python requires making a number of choices.\n",
      "\n",
      "- What format should I save data in? CSV? JSON? Pickle?\n",
      "- What library should I read data with?\n",
      "- How should I parse dates?\n",
      "- How to make my program restartable?\n",
      "- How do I run a function in parallel?\n",
      "\n",
      "Let's discuss how to make these choices with the aim of running code faster.\n",
      "\n",
      "### Code at https://github.com/sanand0/ipython-notebooks"
     ]
    },
    {
     "cell_type": "markdown",
     "metadata": {
      "slideshow": {
       "slide_type": "slide"
      }
     },
     "source": [
      "# Visualising the elections\n",
      "\n",
      "This is the story of the back-end optimisations we were making during the CNN-IBN - Microsoft election visualisations in May 2014."
     ]
    },
    {
     "cell_type": "code",
     "collapsed": false,
     "input": [
      "from IPython.display import YouTubeVideo"
     ],
     "language": "python",
     "metadata": {
      "slideshow": {
       "slide_type": "skip"
      }
     },
     "outputs": [],
     "prompt_number": 1
    },
    {
     "cell_type": "code",
     "collapsed": false,
     "input": [
      "YouTubeVideo('bMicxDcxefs', width=853, height=480, start=30)"
     ],
     "language": "python",
     "metadata": {},
     "outputs": [
      {
       "html": [
        "\n",
        "        <iframe\n",
        "            width=\"853\"\n",
        "            height=480\"\n",
        "            src=\"https://www.youtube.com/embed/bMicxDcxefs?start=30\"\n",
        "            frameborder=\"0\"\n",
        "            allowfullscreen\n",
        "        ></iframe>\n",
        "        "
       ],
       "metadata": {},
       "output_type": "pyout",
       "prompt_number": 2,
       "text": [
        "<IPython.lib.display.YouTubeVideo at 0x9973b38>"
       ]
      }
     ],
     "prompt_number": 2
    },
    {
     "cell_type": "markdown",
     "metadata": {
      "slideshow": {
       "slide_type": "slide"
      }
     },
     "source": [
      "# Let's start with the raw data\n",
      "\n",
      "The first step in data processing is to load the data. We'd scraped the results of [assembly elections](https://gramener.com/election/cartogram?ST_NAME=Tamil%20Nadu) to see which consitituency had the largest number of candidates, votes, etc. This is what the raw data file looks like:"
     ]
    },
    {
     "cell_type": "code",
     "collapsed": false,
     "input": [
      "assembly_results = 'D:/site/gramener.com/viz/election/assembly.csv'\n",
      "print open(assembly_results).read(350)"
     ],
     "language": "python",
     "metadata": {
      "slideshow": {
       "slide_type": "-"
      }
     },
     "outputs": [
      {
       "output_type": "stream",
       "stream": "stdout",
       "text": [
        "ST_NAME,YEAR,AC_NO,#,AC_NAME,AC_TYPE,NAME,SEX,AGE,CATEGORY,PARTY,VOTES\n",
        "Andhra Pradesh,1955,1,1,ICHCHAPURAM,GEN,UPPADA RANGABABU,M,,,KLP,14565\n",
        "Andhra Pradesh,1955,1,2,ICHCHAPURAM,GEN,HARIHARA PATNAIK,M,,,IND,7408\n",
        "Andhra Pradesh,1955,1,3,ICHCHAPURAM,GEN,PUDI LOKANADHAM,M,,,IND,6508\n",
        "Andhra Pradesh,1955,1,4,ICHCHAPURAM,GEN,KALLA BALARAMA SWAMY,M,,,IND,\n"
       ]
      }
     ],
     "prompt_number": 3
    },
    {
     "cell_type": "markdown",
     "metadata": {
      "slideshow": {
       "slide_type": "slide"
      }
     },
     "source": [
      "# Who got the most votes?\n",
      "\n",
      "An \"entrance exam\" question we have at Gramener is to ask candidates to load a CSV file and sort it in descending order of a given column. For example, when told \"Write a program to find out who got the most votes in Bangalore South, ever\", here's the most common response we get:"
     ]
    },
    {
     "cell_type": "code",
     "collapsed": false,
     "input": [
      "data = []                                       # Store results\n",
      "row = 0                                         # Row number in data file\n",
      "for line in open(assembly_results):             # Loop through each line\n",
      "    row += 1                                    # Increment row counter\n",
      "    if row > 1:                                 # Ignore the first line\n",
      "        csv_row = line.split(',')               #   Split by commas\n",
      "        if csv_row[4] == 'BANGALORE SOUTH':     #   AC_NAME is in 5th column\n",
      "            name = csv_row[6]                   #   name is the 7th column\n",
      "            votes = int(csv_row[11].strip())    #   votes (12th) may have trailing \\n\n",
      "            data.append([name, votes])          # 6 = NAME, 11 = VOTES\n",
      "\n",
      "import operator\n",
      "sorted(data, key=operator.itemgetter(1), reverse=True)    # Sort in descending order of votes"
     ],
     "language": "python",
     "metadata": {
      "slideshow": {
       "slide_type": "-"
      }
     },
     "outputs": [
      {
       "metadata": {},
       "output_type": "pyout",
       "prompt_number": 4,
       "text": [
        "[['M. KRISHNAPPA', 102207],\n",
        " ['R. PRABHAKARA REDDY', 72045],\n",
        " ['M KRISHNAPPA', 71114],\n",
        " ['DR.TEJASWINI GOWDA', 63849],\n",
        " ['SADANANDA M', 36979],\n",
        " ['C MANJUNATH', 33529],\n",
        " ['H P RAJAGOPALA REDDY', 17726],\n",
        " ['D. MUNICHINNAPPA', 17441],\n",
        " ['A. V. NARASIMHA REDDY', 13702],\n",
        " ['R. RANGAPPA REDDY', 13452],\n",
        " ['B. BASAVALINGAPPA (SC)', 12365],\n",
        " ['B. BASAVALINGAPPA', 11540],\n",
        " ['B. T. KEMPA RAJ (SC)', 5449],\n",
        " ['C. BASAVIAH', 5333],\n",
        " ['JAGADISH REDDY', 3936],\n",
        " ['SHIVARUDRAPPA', 2610],\n",
        " ['K. CHIKKANNA', 2561],\n",
        " ['KRISHNAMA RAJU', 2509],\n",
        " ['R MANJUNATH', 2300],\n",
        " ['P. S. CHINNAPPA', 2229],\n",
        " ['MURALI MOHAN', 1975],\n",
        " ['A SOMASHEKAR', 1755],\n",
        " ['M. NARAYANAPPA', 1494],\n",
        " ['N S RAVICHANDRA', 1494],\n",
        " ['VASANTH', 1363],\n",
        " ['G.A. GREGORY', 1347],\n",
        " ['E KRISHNAPPA', 1040],\n",
        " ['M KRISHNAPPA', 990],\n",
        " ['LOKESH M R', 771],\n",
        " ['A. CHOWARAPPA', 691],\n",
        " ['T.N KAMAL', 639],\n",
        " ['N.S. RAVICHANDRA', 509],\n",
        " ['JAYARAMA Y', 410],\n",
        " ['K GURURAJ', 407],\n",
        " ['ASHISH KAPUR', 394],\n",
        " ['SUNDARAPPA', 335]]"
       ]
      }
     ],
     "prompt_number": 4
    },
    {
     "cell_type": "markdown",
     "metadata": {
      "slideshow": {
       "slide_type": "slide"
      }
     },
     "source": [
      "## Before you optimise, *time it*\n",
      "\n",
      "But let's see how we can make the program faster. The first step towards that is to see how long it takes."
     ]
    },
    {
     "cell_type": "code",
     "collapsed": false,
     "input": [
      "import operator\n",
      "\n",
      "def most_votes(ac_name='BANGALORE SOUTH'):\n",
      "    data = []\n",
      "    row = 0\n",
      "    for line in open(assembly_results):\n",
      "        row += 1\n",
      "        if row > 1:\n",
      "            csv_row = line.split(',')\n",
      "            if csv_row[4] == ac_name:\n",
      "                name = csv_row[6]\n",
      "                votes = int(csv_row[11].strip())\n",
      "                data.append([name, votes])\n",
      "\n",
      "    return sorted(data, key=operator.itemgetter(1), reverse=True)\n",
      "\n",
      "%timeit most_votes('BANGALORE_SOUTH')               # %timeit is IPython's timing magic"
     ],
     "language": "python",
     "metadata": {
      "slideshow": {
       "slide_type": "-"
      }
     },
     "outputs": [
      {
       "output_type": "stream",
       "stream": "stdout",
       "text": [
        "1 loops, best of 3: 472 ms per loop\n"
       ]
      }
     ],
     "prompt_number": 5
    },
    {
     "cell_type": "markdown",
     "metadata": {
      "slideshow": {
       "slide_type": "slide"
      }
     },
     "source": [
      "# Is it fast enough?\n",
      "\n",
      "That's a fairly slow function. But what's taking up so much time? Can we narrow down to the line that takes up the most time?\n",
      "\n",
      "At this time, I'd like to quote Calvin.\n",
      "\n",
      "![Do I even care?](http://picayune.uclick.com/comics/ch/1993/ch930108.gif)\n",
      "\n",
      "Premature optimisation is the root of all evil. Make sure you get the functionality right first. Then ask the question, \"Do you even care that it's slow?\" Only if the answer is yes do we proceed.\n",
      "\n",
      "At this point, **find and optimise the slowest part. *Only* the slowest part.**"
     ]
    },
    {
     "cell_type": "markdown",
     "metadata": {
      "slideshow": {
       "slide_type": "slide"
      }
     },
     "source": [
      "## Find the slowest part\n",
      "\n",
      "For this, we'll use the `line_profiler` module.\n",
      "\n",
      "    pip install line_profiler"
     ]
    },
    {
     "cell_type": "markdown",
     "metadata": {
      "slideshow": {
       "slide_type": "skip"
      }
     },
     "source": [
      "You'll need some more setup to make this an extension. See http://pynash.org/2013/03/06/timing-and-profiling.html for details.\n",
      "\n",
      "Once set up, you can load it like this:"
     ]
    },
    {
     "cell_type": "code",
     "collapsed": false,
     "input": [
      "%load_ext line_profiler\n",
      "\n",
      "%lprun -f most_votes most_votes()"
     ],
     "language": "python",
     "metadata": {
      "slideshow": {
       "slide_type": "skip"
      }
     },
     "outputs": [
      {
       "output_type": "stream",
       "stream": "stdout",
       "text": [
        "The line_profiler extension is already loaded. To reload it, use:\n",
        "  %reload_ext line_profiler\n"
       ]
      }
     ],
     "prompt_number": 53
    },
    {
     "cell_type": "markdown",
     "metadata": {
      "slideshow": {
       "slide_type": "skip"
      }
     },
     "source": [
      "This displays it in a separate window in IPython Notebook. So let's create a new function that displays it as output."
     ]
    },
    {
     "cell_type": "code",
     "collapsed": false,
     "input": [
      "import line_profiler\n",
      "\n",
      "def lprun(func, *args, **kwargs):\n",
      "    profile = line_profiler.LineProfiler(func)\n",
      "    profile.runcall(func, *args, **kwargs)\n",
      "    profile.print_stats()"
     ],
     "language": "python",
     "metadata": {
      "slideshow": {
       "slide_type": "skip"
      }
     },
     "outputs": [],
     "prompt_number": 7
    },
    {
     "cell_type": "code",
     "collapsed": false,
     "input": [
      "lprun(most_votes)"
     ],
     "language": "python",
     "metadata": {
      "slideshow": {
       "slide_type": "-"
      }
     },
     "outputs": [
      {
       "output_type": "stream",
       "stream": "stdout",
       "text": [
        "Timer unit: 4.66511e-07 s\n",
        "\n",
        "Total time: 2.08302 s\n",
        "File: <ipython-input-5-299e00e75fb3>\n",
        "Function: most_votes at line 3\n",
        "\n",
        "Line #      Hits         Time  Per Hit   % Time  Line Contents\n",
        "==============================================================\n",
        "     3                                           def most_votes(ac_name='BANGALORE SOUTH'):\n",
        "     4         1            5      5.0      0.0      data = []\n",
        "     5         1            2      2.0      0.0      row = 0\n",
        "     6    398704       856559      2.1     19.2      for line in open(assembly_results):\n",
        "     7    398703       690136      1.7     15.5          row += 1\n",
        "     8    398703       616127      1.5     13.8          if row > 1:\n",
        "     9    398702      1430261      3.6     32.0              csv_row = line.split(',')\n",
        "    10    398702       871578      2.2     19.5              if csv_row[4] == ac_name:\n",
        "    11        36           57      1.6      0.0                  name = csv_row[6]\n",
        "    12        36          194      5.4      0.0                  votes = int(csv_row[11].strip())\n",
        "    13        36          120      3.3      0.0                  data.append([name, votes])\n",
        "    14                                           \n",
        "    15         1           61     61.0      0.0      return sorted(data, key=operator.itemgetter(1), reverse=True)\n",
        "\n"
       ]
      }
     ],
     "prompt_number": 8
    },
    {
     "cell_type": "markdown",
     "metadata": {
      "slideshow": {
       "slide_type": "slide"
      }
     },
     "source": [
      "# Pick your battle\n",
      "\n",
      "Now that we know what's taking time, there are two approaches to pick what to optimise:\n",
      "\n",
      "1. Eliminate what's obviously redundant\n",
      "2. Optimise what takes the most time\n",
      "    1. Reduce the number of Hits\n",
      "    2. Reduce the time per hit"
     ]
    },
    {
     "cell_type": "markdown",
     "metadata": {
      "slideshow": {
       "slide_type": "slide"
      }
     },
     "source": [
      "## Eliminate the obviously redundant\n",
      "\n",
      "Let's look at whether anything is obviously redundant. Consider the line:\n",
      "\n",
      "    if row > 1\n",
      "\n",
      "That's being checked 398,703 times. But in reality, it needs to be checked only once. We just want to ignore the first row. So let's refactor the function:"
     ]
    },
    {
     "cell_type": "code",
     "collapsed": false,
     "input": [
      "def most_votes_skip_first(ac_name='BANGALORE SOUTH'):\n",
      "    data = []\n",
      "    handle = open(assembly_results)\n",
      "    handle.next()  # Skip the header\n",
      "    for line in handle:\n",
      "        csv_row = line.split(',')\n",
      "        if csv_row[4] == ac_name:\n",
      "            name = csv_row[6]\n",
      "            votes = int(csv_row[11].strip())\n",
      "            data.append([name, votes])\n",
      "\n",
      "    return sorted(data, key=operator.itemgetter(1), reverse=True)\n",
      "\n",
      "time1 = %timeit -o most_votes()\n",
      "time2 = %timeit -o most_votes_skip_first()\n",
      "ms = lambda time: 1000. * mean(time.all_runs) / time.loops\n",
      "print '{:.1%} faster'.format(ms(time1) / ms(time2) - 1)"
     ],
     "language": "python",
     "metadata": {
      "slideshow": {
       "slide_type": "-"
      }
     },
     "outputs": [
      {
       "output_type": "stream",
       "stream": "stdout",
       "text": [
        "1 loops, best of 3: 468 ms per loop\n",
        "1 loops, best of 3: 433 ms per loop"
       ]
      },
      {
       "output_type": "stream",
       "stream": "stdout",
       "text": [
        "\n",
        "9.5% faster\n"
       ]
      }
     ],
     "prompt_number": 9
    },
    {
     "cell_type": "markdown",
     "metadata": {
      "slideshow": {
       "slide_type": "slide"
      }
     },
     "source": [
      "# Optimise what takes most time\n",
      "\n",
      "Now, let's see what takes the most time:"
     ]
    },
    {
     "cell_type": "code",
     "collapsed": false,
     "input": [
      "lprun(most_votes_skip_first)"
     ],
     "language": "python",
     "metadata": {
      "slideshow": {
       "slide_type": "-"
      }
     },
     "outputs": [
      {
       "output_type": "stream",
       "stream": "stdout",
       "text": [
        "Timer unit: 4.66511e-07 s\n",
        "\n",
        "Total time: 1.41641 s\n",
        "File: <ipython-input-9-d705bafdeeb8>\n",
        "Function: most_votes_skip_first at line 1\n",
        "\n",
        "Line #      Hits         Time  Per Hit   % Time  Line Contents\n",
        "==============================================================\n",
        "     1                                           def most_votes_skip_first(ac_name='BANGALORE SOUTH'):\n",
        "     2         1            5      5.0      0.0      data = []\n",
        "     3         1          268    268.0      0.0      handle = open(assembly_results)\n",
        "     4         1          124    124.0      0.0      handle.next()  # Skip the header\n",
        "     5    398703       840394      2.1     27.7      for line in handle:\n",
        "     6    398702      1381725      3.5     45.5          csv_row = line.split(',')\n",
        "     7    398702       813249      2.0     26.8          if csv_row[4] == ac_name:\n",
        "     8        36           58      1.6      0.0              name = csv_row[6]\n",
        "     9        36          179      5.0      0.0              votes = int(csv_row[11].strip())\n",
        "    10        36          112      3.1      0.0              data.append([name, votes])\n",
        "    11                                           \n",
        "    12         1           60     60.0      0.0      return sorted(data, key=operator.itemgetter(1), reverse=True)\n",
        "\n"
       ]
      }
     ],
     "prompt_number": 10
    },
    {
     "cell_type": "markdown",
     "metadata": {
      "slideshow": {
       "slide_type": "slide"
      }
     },
     "source": [
      "## Reduce the number of hits\n",
      "\n",
      "The bulk of the time is going into splitting the ','. This is called 398,702 times, once for each row.\n",
      "\n",
      "However, we are only interested in those rows where the constituency name matches. So let's check for the name first, without bothering to split."
     ]
    },
    {
     "cell_type": "code",
     "collapsed": false,
     "input": [
      "def most_votes_check_first(ac_name='BANGALORE SOUTH'):\n",
      "    data = []\n",
      "    handle = open(assembly_results)\n",
      "    handle.next()\n",
      "    for line in handle:\n",
      "        # Check for a match first, before split\n",
      "        if line.find(ac_name) >= 0:\n",
      "            csv_row = line.split(',')\n",
      "            name = csv_row[6]\n",
      "            votes = int(csv_row[11].strip())\n",
      "            data.append([name, votes])\n",
      "\n",
      "    return sorted(data, key=operator.itemgetter(1), reverse=True)\n",
      "\n",
      "time3 = %timeit -o most_votes_check_first()\n",
      "print '{:.1%} faster'.format(ms(time2) / ms(time3) - 1)"
     ],
     "language": "python",
     "metadata": {
      "slideshow": {
       "slide_type": "-"
      }
     },
     "outputs": [
      {
       "output_type": "stream",
       "stream": "stdout",
       "text": [
        "1 loops, best of 3: 236 ms per loop\n",
        "83.4% faster\n"
       ]
      }
     ],
     "prompt_number": 11
    },
    {
     "cell_type": "markdown",
     "metadata": {
      "slideshow": {
       "slide_type": "slide"
      }
     },
     "source": [
      "So now, the bulk of the time is going into just checking if the `ac_name` is in the string. "
     ]
    },
    {
     "cell_type": "code",
     "collapsed": false,
     "input": [
      "most_votes.func_"
     ],
     "language": "python",
     "metadata": {},
     "outputs": [
      {
       "metadata": {},
       "output_type": "pyout",
       "prompt_number": 55,
       "text": [
        "{'ALLOW_THREADS': 1,\n",
        " 'Annotation': matplotlib.text.Annotation,\n",
        " 'Arrow': matplotlib.patches.Arrow,\n",
        " 'Artist': matplotlib.artist.Artist,\n",
        " 'AutoLocator': matplotlib.ticker.AutoLocator,\n",
        " 'Axes': matplotlib.axes.Axes,\n",
        " 'BUFSIZE': 8192,\n",
        " 'Button': matplotlib.widgets.Button,\n",
        " 'CLIP': 0,\n",
        " 'Circle': matplotlib.patches.Circle,\n",
        " 'ComplexWarning': numpy.core.numeric.ComplexWarning,\n",
        " 'DAILY': 3,\n",
        " 'DataSource': numpy.lib._datasource.DataSource,\n",
        " 'DateFormatter': matplotlib.dates.DateFormatter,\n",
        " 'DateLocator': matplotlib.dates.DateLocator,\n",
        " 'DayLocator': matplotlib.dates.DayLocator,\n",
        " 'ERR_CALL': 3,\n",
        " 'ERR_DEFAULT': 0,\n",
        " 'ERR_DEFAULT2': 521,\n",
        " 'ERR_IGNORE': 0,\n",
        " 'ERR_LOG': 5,\n",
        " 'ERR_PRINT': 4,\n",
        " 'ERR_RAISE': 2,\n",
        " 'ERR_WARN': 1,\n",
        " 'FLOATING_POINT_SUPPORT': 1,\n",
        " 'FPE_DIVIDEBYZERO': 1,\n",
        " 'FPE_INVALID': 8,\n",
        " 'FPE_OVERFLOW': 2,\n",
        " 'FPE_UNDERFLOW': 4,\n",
        " 'FR': FR,\n",
        " 'False_': False,\n",
        " 'Figure': matplotlib.figure.Figure,\n",
        " 'FigureCanvasBase': matplotlib.backend_bases.FigureCanvasBase,\n",
        " 'FixedFormatter': matplotlib.ticker.FixedFormatter,\n",
        " 'FixedLocator': matplotlib.ticker.FixedLocator,\n",
        " 'FormatStrFormatter': matplotlib.ticker.FormatStrFormatter,\n",
        " 'Formatter': matplotlib.ticker.Formatter,\n",
        " 'FuncFormatter': matplotlib.ticker.FuncFormatter,\n",
        " 'GridSpec': matplotlib.gridspec.GridSpec,\n",
        " 'HOURLY': 4,\n",
        " 'HourLocator': matplotlib.dates.HourLocator,\n",
        " 'In': ['',\n",
        "  u'from IPython.display import YouTubeVideo',\n",
        "  u\"YouTubeVideo('bMicxDcxefs', width=853, height=480, start=30)\",\n",
        "  u\"assembly_results = 'D:/site/gramener.com/viz/election/assembly.csv'\\nprint open(assembly_results).read(350)\",\n",
        "  u\"data = []                                       # Store results\\nrow = 0                                         # Row number in data file\\nfor line in open(assembly_results):             # Loop through each line\\n    row += 1                                    # Increment row counter\\n    if row > 1:                                 # Ignore the first line\\n        csv_row = line.split(',')               #   Split by commas\\n        if csv_row[4] == 'BANGALORE SOUTH':     #   AC_NAME is in 5th column\\n            name = csv_row[6]                   #   name is the 7th column\\n            votes = int(csv_row[11].strip())    #   votes (12th) may have trailing \\\\n\\n            data.append([name, votes])          # 6 = NAME, 11 = VOTES\\n\\nimport operator\\nsorted(data, key=operator.itemgetter(1), reverse=True)    # Sort in descending order of votes\",\n",
        "  u'import operator\\n\\ndef most_votes(ac_name=\\'BANGALORE SOUTH\\'):\\n    data = []\\n    row = 0\\n    for line in open(assembly_results):\\n        row += 1\\n        if row > 1:\\n            csv_row = line.split(\\',\\')\\n            if csv_row[4] == ac_name:\\n                name = csv_row[6]\\n                votes = int(csv_row[11].strip())\\n                data.append([name, votes])\\n\\n    return sorted(data, key=operator.itemgetter(1), reverse=True)\\n\\nget_ipython().magic(u\"timeit most_votes(\\'BANGALORE_SOUTH\\')               # %timeit is IPython\\'s timing magic\")',\n",
        "  u\"get_ipython().magic(u'load_ext line_profiler')\\n\\nget_ipython().magic(u'lprun -f most_votes most_votes()')\",\n",
        "  u'import line_profiler\\n\\ndef lprun(func, *args, **kwargs):\\n    profile = line_profiler.LineProfiler(func)\\n    profile.runcall(func, *args, **kwargs)\\n    profile.print_stats()',\n",
        "  u'lprun(most_votes)',\n",
        "  u\"def most_votes_skip_first(ac_name='BANGALORE SOUTH'):\\n    data = []\\n    handle = open(assembly_results)\\n    handle.next()  # Skip the header\\n    for line in handle:\\n        csv_row = line.split(',')\\n        if csv_row[4] == ac_name:\\n            name = csv_row[6]\\n            votes = int(csv_row[11].strip())\\n            data.append([name, votes])\\n\\n    return sorted(data, key=operator.itemgetter(1), reverse=True)\\n\\ntime1 = get_ipython().magic(u'timeit -o most_votes()')\\ntime2 = get_ipython().magic(u'timeit -o most_votes_skip_first()')\\nms = lambda time: 1000. * mean(time.all_runs) / time.loops\\nprint '{:.1%} faster'.format(ms(time1) / ms(time2) - 1)\",\n",
        "  u'lprun(most_votes_skip_first)',\n",
        "  u\"def most_votes_check_first(ac_name='BANGALORE SOUTH'):\\n    data = []\\n    handle = open(assembly_results)\\n    handle.next()\\n    for line in handle:\\n        # Check for a match first, before split\\n        if line.find(ac_name) >= 0:\\n            csv_row = line.split(',')\\n            name = csv_row[6]\\n            votes = int(csv_row[11].strip())\\n            data.append([name, votes])\\n\\n    return sorted(data, key=operator.itemgetter(1), reverse=True)\\n\\ntime3 = get_ipython().magic(u'timeit -o most_votes_check_first()')\\nprint '{:.1%} faster'.format(ms(time2) / ms(time3) - 1)\",\n",
        "  u'lprun(most_votes_check_first)',\n",
        "  u'def check(line, ac_name):\\n    return line.find(ac_name) >= 0\\n\\nimport dis\\ndis.disassemble(check.func_code)',\n",
        "  u'def check(line, ac_name):\\n    return ac_name in line\\n\\ndis.disassemble(check.func_code)',\n",
        "  u\"def most_votes_using_in(ac_name='BANGALORE SOUTH'):\\n    data = []\\n    handle = open(assembly_results)\\n    handle.next()\\n    for line in handle:\\n        # Use `in` instead of `.find()`\\n        if ac_name in line:\\n            csv_row = line.split(',')\\n            name = csv_row[6]\\n            votes = int(csv_row[11].strip())\\n            data.append([name, votes])\\n\\n    return sorted(data, key=operator.itemgetter(1), reverse=True)\\n\\ntime4 = get_ipython().magic(u'timeit -o most_votes_using_in()')\\nprint '{:.1%} faster'.format(ms(time3) / ms(time4) - 1)\",\n",
        "  u\"print '{:,.0f} ms: original version'.format(ms(time1))\\nprint '{:,.0f} ms: remove redundant if row > 0'.format(ms(time2))\\nprint '{:,.0f} ms: reduce # times .split() is called'.format(ms(time3))\\nprint '{:,.0f} ms: use operator instead of function'.format(ms(time4))\\nprint '{:,.1f}x improvement'.format(ms(time1) / ms(time4))\",\n",
        "  u\"import pandas as pd\\n\\ndef most_votes_pandas(ac_name='BANGALORE SOUTH'):\\n    data = pd.read_csv(assembly_results, low_memory=False)\\n    return data[data.AC_NAME.str.contains(ac_name)].sort('VOTES', ascending=False)\\n\\ntime5 = get_ipython().magic(u'timeit -o most_votes_pandas()')\\nprint '{:.1%} faster'.format(ms(time4) / ms(time5) - 1)\",\n",
        "  u\"get_ipython().magic(u'run sample.data.py')\",\n",
        "  u'from timeit import timeit\\nprint \\'{:,.3f}s: csv.DictReader\\'.format(timeit(\"list(csv.DictReader(open(\\'sample.data.csv\\')))\", setup=\"import csv\", number=1))\\nprint \\'{:,.3f}s: pickle.load\\'.format(timeit(\"pickle.load(open(\\'sample.data.pickle\\', \\'rb\\'))\", setup=\"import cPickle as pickle\", number=1))\\nprint \\'{:,.3f}s: json.load (array of dict)\\'.format(timeit(\"json.load(open(\\'sample.data.json\\'))\", setup=\"import json\", number=1))\\nprint \\'{:,.3f}s: json.load (array of arrays)\\'.format(timeit(\"json.load(open(\\'sample.data-array.json\\'))\", setup=\"import json\", number=1))\\nprint \\'{:,.3f}s: csv.reader\\'.format(timeit(\"list(csv.reader(open(\\'sample.data.csv\\')))\", setup=\"import csv\", number=1))\\nprint \\'{:,.3f}s: pandas.read_csv\\'.format(timeit(\"pd.read_csv(\\'sample.data.csv\\')\", setup=\"import pandas as pd\", number=1))\\nprint \\'{:,.3f}s: pandas.read_pickle\\'.format(timeit(\"pd.read_pickle(\\'sample.data.pandas\\')\", setup=\"import pandas as pd\", number=1))\\nprint \\'{:,.3f}s: HDF5 table\\'.format(timeit(\"pd.read_hdf(\\'sample.data.h5\\', \\'table\\')\", setup=\"import pandas as pd\", number=1))\\nprint \\'{:,.3f}s: HDF5 stored\\'.format(timeit(\"pd.read_hdf(\\'sample.data.h5\\', \\'stored\\')\", setup=\"import pandas as pd\", number=1))',\n",
        "  u'from timeit import timeit\\nprint \\'{:,.3f}s: csv.DictReader\\'.format(timeit(\"list(csv.DictReader(open(\\'sample.data.csv\\')))\", setup=\"import csv\", number=1))\\nprint \\'{:,.3f}s: pickle.load\\'.format(timeit(\"pickle.load(open(\\'sample.data.pickle\\', \\'rb\\'))\", setup=\"import cPickle as pickle\", number=1))\\nprint \\'{:,.3f}s: json.load (array of dict)\\'.format(timeit(\"json.load(open(\\'sample.data.json\\'))\", setup=\"import json\", number=1))\\nprint \\'{:,.3f}s: json.load (array of arrays)\\'.format(timeit(\"json.load(open(\\'sample.data-array.json\\'))\", setup=\"import json\", number=1))\\nprint \\'{:,.3f}s: csv.reader\\'.format(timeit(\"list(csv.reader(open(\\'sample.data.csv\\')))\", setup=\"import csv\", number=1))\\nprint \\'{:,.3f}s: pandas.read_csv\\'.format(timeit(\"pd.read_csv(\\'sample.data.csv\\')\", setup=\"import pandas as pd\", number=1))\\nprint \\'{:,.3f}s: pandas.read_pickle\\'.format(timeit(\"pd.read_pickle(\\'sample.data.pandas\\')\", setup=\"import pandas as pd\", number=1))\\nprint \\'{:,.3f}s: HDF5 table\\'.format(timeit(\"pd.read_hdf(\\'sample.data.h5\\', \\'table\\')\", setup=\"import pandas as pd\", number=1))\\nprint \\'{:,.3f}s: HDF5 stored\\'.format(timeit(\"pd.read_hdf(\\'sample.data.h5\\', \\'stored\\')\", setup=\"import pandas as pd\", number=1))',\n",
        "  u\"import os\\nfrom urllib import urlretrieve\\n\\ndef get(url):\\n    '''Like open(url), but cached'''\\n    filename = 'sample.file.name'         # We need a unique filename per URL\\n    if not os.path.exists(filename):\\n        urlretrieve(url, filename)\\n    return open(filename)\\n\\nget_ipython().system(u'rm -f sample.file.name')\\neci_url = 'http://eci.nic.in/eci_main1/ElectionStatistics.aspx'\\nget_ipython().magic(u'timeit -n1 -r1 get(eci_url)')\\nget_ipython().magic(u'timeit -n1 -r1 get(eci_url)')\",\n",
        "  u'import hashlib\\nfor algo in hashlib.algorithms:\\n    duration = timeit(\\'hashlib.%s(\"%s\").hexdigest()\\' % (algo, eci_url), setup=\\'import hashlib\\')\\n    print \\'{:,.3f}s: {:s}\\'.format(duration, algo)',\n",
        "  u'hash(eci_url)',\n",
        "  u'duration = timeit(\\'hash(\"%s\") + 2**32\\')\\nprint \\'{:,.3f}s: hash\\'.format(duration)',\n",
        "  u\"import random\\nimport datetime\\n\\nformats = ['%d-%b-%Y', '%d %m %Y', '%b %d %Y', '%Y-%m-%d']\\ntoday = datetime.date.today()\\nwith open('sample.dates.csv', 'w') as out:\\n    for x in range(100000):\\n        date = today - datetime.timedelta(random.randint(0, 100))\\n        out.write(date.strftime(random.choice(formats)) + '\\\\n')\\n\\nget_ipython().system(u'head sample.dates.csv')\",\n",
        "  u\"from dateutil.parser import parse\\n\\n# Read the data first into a list\\nlines = [line.strip() for line in open('sample.dates.csv')]\\n\\n# Convert it into dates\\ndef convert(lines):\\n    result = []\\n    for line in lines:\\n        date = parse(line, dayfirst=True)\\n        result.append(date)\\n\\nget_ipython().magic(u'timeit convert(lines)')\",\n",
        "  u'lprun(convert, lines)',\n",
        "  u\"s = pd.Series(['01-31-2012']*100000)\\n\\nget_ipython().magic(u'timeit pd.to_datetime(s)')\",\n",
        "  u\"get_ipython().magic(u'timeit [parse(v) for v in s]')\",\n",
        "  u'get_ipython().magic(u\"timeit [datetime.datetime.strptime(v, \\'%m-%d-%Y\\') for v in s]\")',\n",
        "  u\"get_ipython().magic(u'timeit [datetime.datetime(int(v[6:10]), int(v[0:2]), int(v[3:5])) for v in s]')\",\n",
        "  u\"def lookup(s):\\n    # Parse only the unique dates\\n    dates = {date: parse(date, dayfirst=True) for date in unique(s)}\\n    # Look up the parsed dates\\n    return [dates[v] for v in s]\\n\\nget_ipython().magic(u'timeit lookup(s)')\",\n",
        "  u\"data = [random.randint(0, 100) for x in range(100000)]\\n\\ndef square(value):\\n    return value * value\\n\\ndef square_all(data):\\n    result = []\\n    for value in data:\\n        squared = square(value)\\n        result.append(squared)\\n    return result\\n\\ntime1 = get_ipython().magic(u'timeit -o square_all(data)')\",\n",
        "  u\"def square_all_2(data):\\n    result = []\\n    for value in data:\\n        squared = value * value\\n        result.append(squared)\\n    return result\\n\\ntime2 = get_ipython().magic(u'timeit -o square_all_2(data)')\\nprint '{:.1%} faster'.format(ms(time1) / ms(time2) - 1)\",\n",
        "  u\"def square_all_3(data):\\n    result = []\\n    for value in data:\\n        result.append(value * value)\\n    return result\\n\\ntime3 = get_ipython().magic(u'timeit -o square_all_3(data)')\\nprint '{:.1%} faster'.format(ms(time2) / ms(time3) - 1)\",\n",
        "  u\"def square_all_4(data):\\n    return [value * value for value in data]\\n\\ntime4 = get_ipython().magic(u'timeit -o square_all_4(data)')\\nprint '{:.1%} faster'.format(ms(time3) / ms(time4) - 1)\",\n",
        "  u\"data = pd.Series(data)\\n\\ntime5 = get_ipython().magic(u'timeit -o data * data')\\nprint '{:.1%} faster'.format(ms(time4) / ms(time5) - 1)\",\n",
        "  u\"lo, hi = data.min(), data.max()\\nget_ipython().magic(u'timeit (data - lo) / (hi - lo)')\",\n",
        "  u\"values = numpy.random.rand(1000000)\\ndef count(values, a, b):\\n    count = 0\\n    for x in values:\\n        if a <= x <= b:\\n            count += 1\\n    return count\\n\\ntime1 = get_ipython().magic(u'timeit -o count(values, .25, .75)')\",\n",
        "  u\"time2 = get_ipython().magic(u'timeit -o ((.25 <= values) & (values <= .75)).sum()')\\nprint '{:.1%} faster'.format(ms(time1) / ms(time2) - 1)\",\n",
        "  u\"values.sort()\\ntime3 = get_ipython().magic(u'timeit -o numpy.searchsorted(values, .75) - numpy.searchsorted(values, .25)')\\nprint '{:.1%} faster'.format(ms(time2) / ms(time3) - 1)\",\n",
        "  u\"get_ipython().magic(u'load_ext cythonmagic')\",\n",
        "  u'get_ipython().run_cell_magic(u\\'cython\\', u\\'\\', u\"def total_cython(n):\\\\n    \\'\\'\\'Calculate the sum of all numbers up to n\\'\\'\\'\\\\n    cdef int a = 0        # Declare the type of a as integer\\\\n    cdef int i            # Declare the type of i as integer\\\\n    for i in xrange(n):   # Now loop through all the numbers\\\\n        a += i            # ... and add them\\\\n    return a\")',\n",
        "  u'def total_python(n):\\n    a = 0\\n    for i in xrange(n):\\n        a += i\\n    return a',\n",
        "  u\"get_ipython().magic(u'timeit total_python(100000)')\\nget_ipython().magic(u'timeit total_cython(100000)')\",\n",
        "  u\"get_ipython().run_cell_magic(u'cython', u'', u'\\\\ndef count_cython(values, a, b):\\\\n    cdef int count = 0\\\\n    cdef float val\\\\n    for val in values:\\\\n        if a <= val <= b:\\\\n            count += 1\\\\n    return count')\",\n",
        "  u\"get_ipython().magic(u'timeit count(values, .25, .75)')\\nget_ipython().magic(u'timeit count_cython(values, .25, .75)')\",\n",
        "  u'from numba.decorators import jit\\n\\n@jit\\ndef total_numba(n):\\n    a = 0\\n    for i in range(n):\\n        a += i\\n    return a',\n",
        "  u\"get_ipython().magic(u'timeit total_python(100000)')\\nget_ipython().magic(u'timeit total_cython(100000)')\\nget_ipython().magic(u'timeit total_numba(100000)')\",\n",
        "  u\"@jit\\ndef count_numba(values, a, b):\\n    count = 0\\n    for i in range(len(values)):\\n        if a <= values[i] and values[i] <= b:\\n            count += 1\\n    return count\\n\\nget_ipython().magic(u'timeit count(values, .25, .75)')\\nget_ipython().magic(u'timeit count_cython(values, .25, .75)')\\nget_ipython().magic(u'timeit count_numba(values, .25, .75)')\",\n",
        "  u\"get_ipython().magic(u'timeit total_python(100000)')\\nget_ipython().magic(u'timeit total_cython(100000)')\\nget_ipython().magic(u'timeit total_numba(100000)')\",\n",
        "  u\"@jit\\ndef count_numba(values, a, b):\\n    count = 0\\n    for i in range(len(values)):\\n        if a <= values[i] and values[i] <= b:\\n            count += 1\\n    return count\\n\\nget_ipython().magic(u'timeit count(values, .25, .75)')\\nget_ipython().magic(u'timeit count_cython(values, .25, .75)')\\nget_ipython().magic(u'timeit count_numba(values, .25, .75)')\",\n",
        "  u\"get_ipython().magic(u'load_ext line_profiler')\\n\\nget_ipython().magic(u'lprun -f most_votes most_votes()')\",\n",
        "  u'most_votes.func_name',\n",
        "  u'most_votes.func_globals'],\n",
        " 'IndexDateFormatter': matplotlib.dates.IndexDateFormatter,\n",
        " 'IndexLocator': matplotlib.ticker.IndexLocator,\n",
        " 'Inf': inf,\n",
        " 'Infinity': inf,\n",
        " 'LinAlgError': numpy.linalg.linalg.LinAlgError,\n",
        " 'Line2D': matplotlib.lines.Line2D,\n",
        " 'LinearLocator': matplotlib.ticker.LinearLocator,\n",
        " 'Locator': matplotlib.ticker.Locator,\n",
        " 'LogFormatter': matplotlib.ticker.LogFormatter,\n",
        " 'LogFormatterExponent': matplotlib.ticker.LogFormatterExponent,\n",
        " 'LogFormatterMathtext': matplotlib.ticker.LogFormatterMathtext,\n",
        " 'LogLocator': matplotlib.ticker.LogLocator,\n",
        " 'MAXDIMS': 32,\n",
        " 'MINUTELY': 5,\n",
        " 'MO': MO,\n",
        " 'MONTHLY': 1,\n",
        " 'MachAr': numpy.core.machar.MachAr,\n",
        " 'MaxNLocator': matplotlib.ticker.MaxNLocator,\n",
        " 'MinuteLocator': matplotlib.dates.MinuteLocator,\n",
        " 'ModuleDeprecationWarning': numpy.ModuleDeprecationWarning,\n",
        " 'MonthLocator': matplotlib.dates.MonthLocator,\n",
        " 'MultipleLocator': matplotlib.ticker.MultipleLocator,\n",
        " 'NAN': nan,\n",
        " 'NINF': -inf,\n",
        " 'NZERO': -0.0,\n",
        " 'NaN': nan,\n",
        " 'Normalize': matplotlib.colors.Normalize,\n",
        " 'NullFormatter': matplotlib.ticker.NullFormatter,\n",
        " 'NullLocator': matplotlib.ticker.NullLocator,\n",
        " 'Out': {2: <IPython.lib.display.YouTubeVideo at 0x9973b38>,\n",
        "  4: [['M. KRISHNAPPA', 102207],\n",
        "   ['R. PRABHAKARA REDDY', 72045],\n",
        "   ['M KRISHNAPPA', 71114],\n",
        "   ['DR.TEJASWINI GOWDA', 63849],\n",
        "   ['SADANANDA M', 36979],\n",
        "   ['C MANJUNATH', 33529],\n",
        "   ['H P RAJAGOPALA REDDY', 17726],\n",
        "   ['D. MUNICHINNAPPA', 17441],\n",
        "   ['A. V. NARASIMHA REDDY', 13702],\n",
        "   ['R. RANGAPPA REDDY', 13452],\n",
        "   ['B. BASAVALINGAPPA (SC)', 12365],\n",
        "   ['B. BASAVALINGAPPA', 11540],\n",
        "   ['B. T. KEMPA RAJ (SC)', 5449],\n",
        "   ['C. BASAVIAH', 5333],\n",
        "   ['JAGADISH REDDY', 3936],\n",
        "   ['SHIVARUDRAPPA', 2610],\n",
        "   ['K. CHIKKANNA', 2561],\n",
        "   ['KRISHNAMA RAJU', 2509],\n",
        "   ['R MANJUNATH', 2300],\n",
        "   ['P. S. CHINNAPPA', 2229],\n",
        "   ['MURALI MOHAN', 1975],\n",
        "   ['A SOMASHEKAR', 1755],\n",
        "   ['M. NARAYANAPPA', 1494],\n",
        "   ['N S RAVICHANDRA', 1494],\n",
        "   ['VASANTH', 1363],\n",
        "   ['G.A. GREGORY', 1347],\n",
        "   ['E KRISHNAPPA', 1040],\n",
        "   ['M KRISHNAPPA', 990],\n",
        "   ['LOKESH M R', 771],\n",
        "   ['A. CHOWARAPPA', 691],\n",
        "   ['T.N KAMAL', 639],\n",
        "   ['N.S. RAVICHANDRA', 509],\n",
        "   ['JAYARAMA Y', 410],\n",
        "   ['K GURURAJ', 407],\n",
        "   ['ASHISH KAPUR', 394],\n",
        "   ['SUNDARAPPA', 335]],\n",
        "  23: 1159908681,\n",
        "  54: 'most_votes'},\n",
        " 'PINF': inf,\n",
        " 'PZERO': 0.0,\n",
        " 'PackageLoader': numpy._import_tools.PackageLoader,\n",
        " 'PolarAxes': matplotlib.projections.polar.PolarAxes,\n",
        " 'Polygon': matplotlib.patches.Polygon,\n",
        " 'RAISE': 2,\n",
        " 'RRuleLocator': matplotlib.dates.RRuleLocator,\n",
        " 'RankWarning': numpy.lib.polynomial.RankWarning,\n",
        " 'Rectangle': matplotlib.patches.Rectangle,\n",
        " 'SA': SA,\n",
        " 'SECONDLY': 6,\n",
        " 'SHIFT_DIVIDEBYZERO': 0,\n",
        " 'SHIFT_INVALID': 9,\n",
        " 'SHIFT_OVERFLOW': 3,\n",
        " 'SHIFT_UNDERFLOW': 6,\n",
        " 'SU': SU,\n",
        " 'ScalarFormatter': matplotlib.ticker.ScalarFormatter,\n",
        " 'ScalarType': (int,\n",
        "  float,\n",
        "  complex,\n",
        "  long,\n",
        "  bool,\n",
        "  str,\n",
        "  unicode,\n",
        "  buffer,\n",
        "  numpy.uint8,\n",
        "  numpy.float16,\n",
        "  numpy.timedelta64,\n",
        "  numpy.object_,\n",
        "  numpy.int16,\n",
        "  numpy.uint16,\n",
        "  numpy.float32,\n",
        "  numpy.complex64,\n",
        "  numpy.string_,\n",
        "  numpy.int32,\n",
        "  numpy.uint32,\n",
        "  numpy.float64,\n",
        "  numpy.complex128,\n",
        "  numpy.unicode_,\n",
        "  numpy.int32,\n",
        "  numpy.uint32,\n",
        "  numpy.float64,\n",
        "  numpy.complex128,\n",
        "  numpy.bool_,\n",
        "  numpy.void,\n",
        "  numpy.int64,\n",
        "  numpy.uint64,\n",
        "  numpy.datetime64,\n",
        "  numpy.int8),\n",
        " 'SecondLocator': matplotlib.dates.SecondLocator,\n",
        " 'Slider': matplotlib.widgets.Slider,\n",
        " 'Subplot': matplotlib.axes.AxesSubplot,\n",
        " 'SubplotTool': matplotlib.widgets.SubplotTool,\n",
        " 'TH': TH,\n",
        " 'TU': TU,\n",
        " 'Tester': numpy.testing.nosetester.NoseTester,\n",
        " 'Text': matplotlib.text.Text,\n",
        " 'TickHelper': matplotlib.ticker.TickHelper,\n",
        " 'True_': True,\n",
        " 'UFUNC_BUFSIZE_DEFAULT': 8192,\n",
        " 'UFUNC_PYVALS_NAME': 'UFUNC_PYVALS',\n",
        " 'WE': WE,\n",
        " 'WEEKLY': 2,\n",
        " 'WRAP': 1,\n",
        " 'WeekdayLocator': matplotlib.dates.WeekdayLocator,\n",
        " 'Widget': matplotlib.widgets.Widget,\n",
        " 'YEARLY': 0,\n",
        " 'YearLocator': matplotlib.dates.YearLocator,\n",
        " 'YouTubeVideo': IPython.lib.display.YouTubeVideo,\n",
        " '_': 'most_votes',\n",
        " '_2': <IPython.lib.display.YouTubeVideo at 0x9973b38>,\n",
        " '_23': 1159908681,\n",
        " '_4': [['M. KRISHNAPPA', 102207],\n",
        "  ['R. PRABHAKARA REDDY', 72045],\n",
        "  ['M KRISHNAPPA', 71114],\n",
        "  ['DR.TEJASWINI GOWDA', 63849],\n",
        "  ['SADANANDA M', 36979],\n",
        "  ['C MANJUNATH', 33529],\n",
        "  ['H P RAJAGOPALA REDDY', 17726],\n",
        "  ['D. MUNICHINNAPPA', 17441],\n",
        "  ['A. V. NARASIMHA REDDY', 13702],\n",
        "  ['R. RANGAPPA REDDY', 13452],\n",
        "  ['B. BASAVALINGAPPA (SC)', 12365],\n",
        "  ['B. BASAVALINGAPPA', 11540],\n",
        "  ['B. T. KEMPA RAJ (SC)', 5449],\n",
        "  ['C. BASAVIAH', 5333],\n",
        "  ['JAGADISH REDDY', 3936],\n",
        "  ['SHIVARUDRAPPA', 2610],\n",
        "  ['K. CHIKKANNA', 2561],\n",
        "  ['KRISHNAMA RAJU', 2509],\n",
        "  ['R MANJUNATH', 2300],\n",
        "  ['P. S. CHINNAPPA', 2229],\n",
        "  ['MURALI MOHAN', 1975],\n",
        "  ['A SOMASHEKAR', 1755],\n",
        "  ['M. NARAYANAPPA', 1494],\n",
        "  ['N S RAVICHANDRA', 1494],\n",
        "  ['VASANTH', 1363],\n",
        "  ['G.A. GREGORY', 1347],\n",
        "  ['E KRISHNAPPA', 1040],\n",
        "  ['M KRISHNAPPA', 990],\n",
        "  ['LOKESH M R', 771],\n",
        "  ['A. CHOWARAPPA', 691],\n",
        "  ['T.N KAMAL', 639],\n",
        "  ['N.S. RAVICHANDRA', 509],\n",
        "  ['JAYARAMA Y', 410],\n",
        "  ['K GURURAJ', 407],\n",
        "  ['ASHISH KAPUR', 394],\n",
        "  ['SUNDARAPPA', 335]],\n",
        " '_54': 'most_votes',\n",
        " '__': 1159908681,\n",
        " '___': [['M. KRISHNAPPA', 102207],\n",
        "  ['R. PRABHAKARA REDDY', 72045],\n",
        "  ['M KRISHNAPPA', 71114],\n",
        "  ['DR.TEJASWINI GOWDA', 63849],\n",
        "  ['SADANANDA M', 36979],\n",
        "  ['C MANJUNATH', 33529],\n",
        "  ['H P RAJAGOPALA REDDY', 17726],\n",
        "  ['D. MUNICHINNAPPA', 17441],\n",
        "  ['A. V. NARASIMHA REDDY', 13702],\n",
        "  ['R. RANGAPPA REDDY', 13452],\n",
        "  ['B. BASAVALINGAPPA (SC)', 12365],\n",
        "  ['B. BASAVALINGAPPA', 11540],\n",
        "  ['B. T. KEMPA RAJ (SC)', 5449],\n",
        "  ['C. BASAVIAH', 5333],\n",
        "  ['JAGADISH REDDY', 3936],\n",
        "  ['SHIVARUDRAPPA', 2610],\n",
        "  ['K. CHIKKANNA', 2561],\n",
        "  ['KRISHNAMA RAJU', 2509],\n",
        "  ['R MANJUNATH', 2300],\n",
        "  ['P. S. CHINNAPPA', 2229],\n",
        "  ['MURALI MOHAN', 1975],\n",
        "  ['A SOMASHEKAR', 1755],\n",
        "  ['M. NARAYANAPPA', 1494],\n",
        "  ['N S RAVICHANDRA', 1494],\n",
        "  ['VASANTH', 1363],\n",
        "  ['G.A. GREGORY', 1347],\n",
        "  ['E KRISHNAPPA', 1040],\n",
        "  ['M KRISHNAPPA', 990],\n",
        "  ['LOKESH M R', 771],\n",
        "  ['A. CHOWARAPPA', 691],\n",
        "  ['T.N KAMAL', 639],\n",
        "  ['N.S. RAVICHANDRA', 509],\n",
        "  ['JAYARAMA Y', 410],\n",
        "  ['K GURURAJ', 407],\n",
        "  ['ASHISH KAPUR', 394],\n",
        "  ['SUNDARAPPA', 335]],\n",
        " '__builtin__': <module '__builtin__' (built-in)>,\n",
        " '__builtins__': <module '__builtin__' (built-in)>,\n",
        " '__doc__': '\\nCreate sample data files:\\n\\nsample.data.csv\\nsample.data.pickle\\nsample.data.json\\nsample.data-array.json\\nsample.data.pandas\\nsample.data.h5\\n',\n",
        " '__name__': '__main__',\n",
        " '__nonzero__': <function IPython.core.interactiveshell.<lambda>>,\n",
        " '__package__': None,\n",
        " '__version__': '1.8.1',\n",
        " '_dh': [u'D:\\\\ext\\\\gist\\\\ipython-notebooks'],\n",
        " '_exit_code': 0,\n",
        " '_i': u'most_votes.func_name',\n",
        " '_i1': u'from IPython.display import YouTubeVideo',\n",
        " '_i10': u'lprun(most_votes_skip_first)',\n",
        " '_i11': u\"def most_votes_check_first(ac_name='BANGALORE SOUTH'):\\n    data = []\\n    handle = open(assembly_results)\\n    handle.next()\\n    for line in handle:\\n        # Check for a match first, before split\\n        if line.find(ac_name) >= 0:\\n            csv_row = line.split(',')\\n            name = csv_row[6]\\n            votes = int(csv_row[11].strip())\\n            data.append([name, votes])\\n\\n    return sorted(data, key=operator.itemgetter(1), reverse=True)\\n\\ntime3 = %timeit -o most_votes_check_first()\\nprint '{:.1%} faster'.format(ms(time2) / ms(time3) - 1)\",\n",
        " '_i12': u'lprun(most_votes_check_first)',\n",
        " '_i13': u'def check(line, ac_name):\\n    return line.find(ac_name) >= 0\\n\\nimport dis\\ndis.disassemble(check.func_code)',\n",
        " '_i14': u'def check(line, ac_name):\\n    return ac_name in line\\n\\ndis.disassemble(check.func_code)',\n",
        " '_i15': u\"def most_votes_using_in(ac_name='BANGALORE SOUTH'):\\n    data = []\\n    handle = open(assembly_results)\\n    handle.next()\\n    for line in handle:\\n        # Use `in` instead of `.find()`\\n        if ac_name in line:\\n            csv_row = line.split(',')\\n            name = csv_row[6]\\n            votes = int(csv_row[11].strip())\\n            data.append([name, votes])\\n\\n    return sorted(data, key=operator.itemgetter(1), reverse=True)\\n\\ntime4 = %timeit -o most_votes_using_in()\\nprint '{:.1%} faster'.format(ms(time3) / ms(time4) - 1)\",\n",
        " '_i16': u\"print '{:,.0f} ms: original version'.format(ms(time1))\\nprint '{:,.0f} ms: remove redundant if row > 0'.format(ms(time2))\\nprint '{:,.0f} ms: reduce # times .split() is called'.format(ms(time3))\\nprint '{:,.0f} ms: use operator instead of function'.format(ms(time4))\\nprint '{:,.1f}x improvement'.format(ms(time1) / ms(time4))\",\n",
        " '_i17': u\"import pandas as pd\\n\\ndef most_votes_pandas(ac_name='BANGALORE SOUTH'):\\n    data = pd.read_csv(assembly_results, low_memory=False)\\n    return data[data.AC_NAME.str.contains(ac_name)].sort('VOTES', ascending=False)\\n\\ntime5 = %timeit -o most_votes_pandas()\\nprint '{:.1%} faster'.format(ms(time4) / ms(time5) - 1)\",\n",
        " '_i18': u'%run sample.data.py',\n",
        " '_i19': u'from timeit import timeit\\nprint \\'{:,.3f}s: csv.DictReader\\'.format(timeit(\"list(csv.DictReader(open(\\'sample.data.csv\\')))\", setup=\"import csv\", number=1))\\nprint \\'{:,.3f}s: pickle.load\\'.format(timeit(\"pickle.load(open(\\'sample.data.pickle\\', \\'rb\\'))\", setup=\"import cPickle as pickle\", number=1))\\nprint \\'{:,.3f}s: json.load (array of dict)\\'.format(timeit(\"json.load(open(\\'sample.data.json\\'))\", setup=\"import json\", number=1))\\nprint \\'{:,.3f}s: json.load (array of arrays)\\'.format(timeit(\"json.load(open(\\'sample.data-array.json\\'))\", setup=\"import json\", number=1))\\nprint \\'{:,.3f}s: csv.reader\\'.format(timeit(\"list(csv.reader(open(\\'sample.data.csv\\')))\", setup=\"import csv\", number=1))\\nprint \\'{:,.3f}s: pandas.read_csv\\'.format(timeit(\"pd.read_csv(\\'sample.data.csv\\')\", setup=\"import pandas as pd\", number=1))\\nprint \\'{:,.3f}s: pandas.read_pickle\\'.format(timeit(\"pd.read_pickle(\\'sample.data.pandas\\')\", setup=\"import pandas as pd\", number=1))\\nprint \\'{:,.3f}s: HDF5 table\\'.format(timeit(\"pd.read_hdf(\\'sample.data.h5\\', \\'table\\')\", setup=\"import pandas as pd\", number=1))\\nprint \\'{:,.3f}s: HDF5 stored\\'.format(timeit(\"pd.read_hdf(\\'sample.data.h5\\', \\'stored\\')\", setup=\"import pandas as pd\", number=1))',\n",
        " '_i2': u\"YouTubeVideo('bMicxDcxefs', width=853, height=480, start=30)\",\n",
        " '_i20': u'from timeit import timeit\\nprint \\'{:,.3f}s: csv.DictReader\\'.format(timeit(\"list(csv.DictReader(open(\\'sample.data.csv\\')))\", setup=\"import csv\", number=1))\\nprint \\'{:,.3f}s: pickle.load\\'.format(timeit(\"pickle.load(open(\\'sample.data.pickle\\', \\'rb\\'))\", setup=\"import cPickle as pickle\", number=1))\\nprint \\'{:,.3f}s: json.load (array of dict)\\'.format(timeit(\"json.load(open(\\'sample.data.json\\'))\", setup=\"import json\", number=1))\\nprint \\'{:,.3f}s: json.load (array of arrays)\\'.format(timeit(\"json.load(open(\\'sample.data-array.json\\'))\", setup=\"import json\", number=1))\\nprint \\'{:,.3f}s: csv.reader\\'.format(timeit(\"list(csv.reader(open(\\'sample.data.csv\\')))\", setup=\"import csv\", number=1))\\nprint \\'{:,.3f}s: pandas.read_csv\\'.format(timeit(\"pd.read_csv(\\'sample.data.csv\\')\", setup=\"import pandas as pd\", number=1))\\nprint \\'{:,.3f}s: pandas.read_pickle\\'.format(timeit(\"pd.read_pickle(\\'sample.data.pandas\\')\", setup=\"import pandas as pd\", number=1))\\nprint \\'{:,.3f}s: HDF5 table\\'.format(timeit(\"pd.read_hdf(\\'sample.data.h5\\', \\'table\\')\", setup=\"import pandas as pd\", number=1))\\nprint \\'{:,.3f}s: HDF5 stored\\'.format(timeit(\"pd.read_hdf(\\'sample.data.h5\\', \\'stored\\')\", setup=\"import pandas as pd\", number=1))',\n",
        " '_i21': u\"import os\\nfrom urllib import urlretrieve\\n\\ndef get(url):\\n    '''Like open(url), but cached'''\\n    filename = 'sample.file.name'         # We need a unique filename per URL\\n    if not os.path.exists(filename):\\n        urlretrieve(url, filename)\\n    return open(filename)\\n\\n!rm -f sample.file.name\\neci_url = 'http://eci.nic.in/eci_main1/ElectionStatistics.aspx'\\n%timeit -n1 -r1 get(eci_url)\\n%timeit -n1 -r1 get(eci_url)\",\n",
        " '_i22': u'import hashlib\\nfor algo in hashlib.algorithms:\\n    duration = timeit(\\'hashlib.%s(\"%s\").hexdigest()\\' % (algo, eci_url), setup=\\'import hashlib\\')\\n    print \\'{:,.3f}s: {:s}\\'.format(duration, algo)',\n",
        " '_i23': u'hash(eci_url)',\n",
        " '_i24': u'duration = timeit(\\'hash(\"%s\") + 2**32\\')\\nprint \\'{:,.3f}s: hash\\'.format(duration)',\n",
        " '_i25': u\"import random\\nimport datetime\\n\\nformats = ['%d-%b-%Y', '%d %m %Y', '%b %d %Y', '%Y-%m-%d']\\ntoday = datetime.date.today()\\nwith open('sample.dates.csv', 'w') as out:\\n    for x in range(100000):\\n        date = today - datetime.timedelta(random.randint(0, 100))\\n        out.write(date.strftime(random.choice(formats)) + '\\\\n')\\n\\n!head sample.dates.csv\",\n",
        " '_i26': u\"from dateutil.parser import parse\\n\\n# Read the data first into a list\\nlines = [line.strip() for line in open('sample.dates.csv')]\\n\\n# Convert it into dates\\ndef convert(lines):\\n    result = []\\n    for line in lines:\\n        date = parse(line, dayfirst=True)\\n        result.append(date)\\n\\n%timeit convert(lines)\",\n",
        " '_i27': u'lprun(convert, lines)',\n",
        " '_i28': u\"s = pd.Series(['01-31-2012']*100000)\\n\\n%timeit pd.to_datetime(s)\",\n",
        " '_i29': u'%timeit [parse(v) for v in s]',\n",
        " '_i3': u\"assembly_results = 'D:/site/gramener.com/viz/election/assembly.csv'\\nprint open(assembly_results).read(350)\",\n",
        " '_i30': u\"%timeit [datetime.datetime.strptime(v, '%m-%d-%Y') for v in s]\",\n",
        " '_i31': u'%timeit [datetime.datetime(int(v[6:10]), int(v[0:2]), int(v[3:5])) for v in s]',\n",
        " '_i32': u'def lookup(s):\\n    # Parse only the unique dates\\n    dates = {date: parse(date, dayfirst=True) for date in unique(s)}\\n    # Look up the parsed dates\\n    return [dates[v] for v in s]\\n\\n%timeit lookup(s)',\n",
        " '_i33': u'data = [random.randint(0, 100) for x in range(100000)]\\n\\ndef square(value):\\n    return value * value\\n\\ndef square_all(data):\\n    result = []\\n    for value in data:\\n        squared = square(value)\\n        result.append(squared)\\n    return result\\n\\ntime1 = %timeit -o square_all(data)',\n",
        " '_i34': u\"def square_all_2(data):\\n    result = []\\n    for value in data:\\n        squared = value * value\\n        result.append(squared)\\n    return result\\n\\ntime2 = %timeit -o square_all_2(data)\\nprint '{:.1%} faster'.format(ms(time1) / ms(time2) - 1)\",\n",
        " '_i35': u\"def square_all_3(data):\\n    result = []\\n    for value in data:\\n        result.append(value * value)\\n    return result\\n\\ntime3 = %timeit -o square_all_3(data)\\nprint '{:.1%} faster'.format(ms(time2) / ms(time3) - 1)\",\n",
        " '_i36': u\"def square_all_4(data):\\n    return [value * value for value in data]\\n\\ntime4 = %timeit -o square_all_4(data)\\nprint '{:.1%} faster'.format(ms(time3) / ms(time4) - 1)\",\n",
        " '_i37': u\"data = pd.Series(data)\\n\\ntime5 = %timeit -o data * data\\nprint '{:.1%} faster'.format(ms(time4) / ms(time5) - 1)\",\n",
        " '_i38': u'lo, hi = data.min(), data.max()\\n%timeit (data - lo) / (hi - lo)',\n",
        " '_i39': u'values = numpy.random.rand(1000000)\\ndef count(values, a, b):\\n    count = 0\\n    for x in values:\\n        if a <= x <= b:\\n            count += 1\\n    return count\\n\\ntime1 = %timeit -o count(values, .25, .75)',\n",
        " '_i4': u\"data = []                                       # Store results\\nrow = 0                                         # Row number in data file\\nfor line in open(assembly_results):             # Loop through each line\\n    row += 1                                    # Increment row counter\\n    if row > 1:                                 # Ignore the first line\\n        csv_row = line.split(',')               #   Split by commas\\n        if csv_row[4] == 'BANGALORE SOUTH':     #   AC_NAME is in 5th column\\n            name = csv_row[6]                   #   name is the 7th column\\n            votes = int(csv_row[11].strip())    #   votes (12th) may have trailing \\\\n\\n            data.append([name, votes])          # 6 = NAME, 11 = VOTES\\n\\nimport operator\\nsorted(data, key=operator.itemgetter(1), reverse=True)    # Sort in descending order of votes\",\n",
        " '_i40': u\"time2 = %timeit -o ((.25 <= values) & (values <= .75)).sum()\\nprint '{:.1%} faster'.format(ms(time1) / ms(time2) - 1)\",\n",
        " '_i41': u\"values.sort()\\ntime3 = %timeit -o numpy.searchsorted(values, .75) - numpy.searchsorted(values, .25)\\nprint '{:.1%} faster'.format(ms(time2) / ms(time3) - 1)\",\n",
        " '_i42': u'%load_ext cythonmagic',\n",
        " '_i43': u\"%%cython\\ndef total_cython(n):\\n    '''Calculate the sum of all numbers up to n'''\\n    cdef int a = 0        # Declare the type of a as integer\\n    cdef int i            # Declare the type of i as integer\\n    for i in xrange(n):   # Now loop through all the numbers\\n        a += i            # ... and add them\\n    return a\",\n",
        " '_i44': u'def total_python(n):\\n    a = 0\\n    for i in xrange(n):\\n        a += i\\n    return a',\n",
        " '_i45': u'%timeit total_python(100000)\\n%timeit total_cython(100000)',\n",
        " '_i46': u'%%cython\\n\\ndef count_cython(values, a, b):\\n    cdef int count = 0\\n    cdef float val\\n    for val in values:\\n        if a <= val <= b:\\n            count += 1\\n    return count',\n",
        " '_i47': u'%timeit count(values, .25, .75)\\n%timeit count_cython(values, .25, .75)',\n",
        " '_i48': u'from numba.decorators import jit\\n\\n@jit\\ndef total_numba(n):\\n    a = 0\\n    for i in range(n):\\n        a += i\\n    return a',\n",
        " '_i49': u'%timeit total_python(100000)\\n%timeit total_cython(100000)\\n%timeit total_numba(100000)',\n",
        " '_i5': u\"import operator\\n\\ndef most_votes(ac_name='BANGALORE SOUTH'):\\n    data = []\\n    row = 0\\n    for line in open(assembly_results):\\n        row += 1\\n        if row > 1:\\n            csv_row = line.split(',')\\n            if csv_row[4] == ac_name:\\n                name = csv_row[6]\\n                votes = int(csv_row[11].strip())\\n                data.append([name, votes])\\n\\n    return sorted(data, key=operator.itemgetter(1), reverse=True)\\n\\n%timeit most_votes('BANGALORE_SOUTH')               # %timeit is IPython's timing magic\",\n",
        " '_i50': u'@jit\\ndef count_numba(values, a, b):\\n    count = 0\\n    for i in range(len(values)):\\n        if a <= values[i] and values[i] <= b:\\n            count += 1\\n    return count\\n\\n%timeit count(values, .25, .75)\\n%timeit count_cython(values, .25, .75)\\n%timeit count_numba(values, .25, .75)',\n",
        " '_i51': u'%timeit total_python(100000)\\n%timeit total_cython(100000)\\n%timeit total_numba(100000)',\n",
        " '_i52': u'@jit\\ndef count_numba(values, a, b):\\n    count = 0\\n    for i in range(len(values)):\\n        if a <= values[i] and values[i] <= b:\\n            count += 1\\n    return count\\n\\n%timeit count(values, .25, .75)\\n%timeit count_cython(values, .25, .75)\\n%timeit count_numba(values, .25, .75)',\n",
        " '_i53': u'%load_ext line_profiler\\n\\n%lprun -f most_votes most_votes()',\n",
        " '_i54': u'most_votes.func_name',\n",
        " '_i55': u'most_votes.func_globals',\n",
        " '_i6': u'%load_ext line_profiler\\n\\n%lprun -f most_votes most_votes()',\n",
        " '_i7': u'import line_profiler\\n\\ndef lprun(func, *args, **kwargs):\\n    profile = line_profiler.LineProfiler(func)\\n    profile.runcall(func, *args, **kwargs)\\n    profile.print_stats()',\n",
        " '_i8': u'lprun(most_votes)',\n",
        " '_i9': u\"def most_votes_skip_first(ac_name='BANGALORE SOUTH'):\\n    data = []\\n    handle = open(assembly_results)\\n    handle.next()  # Skip the header\\n    for line in handle:\\n        csv_row = line.split(',')\\n        if csv_row[4] == ac_name:\\n            name = csv_row[6]\\n            votes = int(csv_row[11].strip())\\n            data.append([name, votes])\\n\\n    return sorted(data, key=operator.itemgetter(1), reverse=True)\\n\\ntime1 = %timeit -o most_votes()\\ntime2 = %timeit -o most_votes_skip_first()\\nms = lambda time: 1000. * mean(time.all_runs) / time.loops\\nprint '{:.1%} faster'.format(ms(time1) / ms(time2) - 1)\",\n",
        " '_ih': ['',\n",
        "  u'from IPython.display import YouTubeVideo',\n",
        "  u\"YouTubeVideo('bMicxDcxefs', width=853, height=480, start=30)\",\n",
        "  u\"assembly_results = 'D:/site/gramener.com/viz/election/assembly.csv'\\nprint open(assembly_results).read(350)\",\n",
        "  u\"data = []                                       # Store results\\nrow = 0                                         # Row number in data file\\nfor line in open(assembly_results):             # Loop through each line\\n    row += 1                                    # Increment row counter\\n    if row > 1:                                 # Ignore the first line\\n        csv_row = line.split(',')               #   Split by commas\\n        if csv_row[4] == 'BANGALORE SOUTH':     #   AC_NAME is in 5th column\\n            name = csv_row[6]                   #   name is the 7th column\\n            votes = int(csv_row[11].strip())    #   votes (12th) may have trailing \\\\n\\n            data.append([name, votes])          # 6 = NAME, 11 = VOTES\\n\\nimport operator\\nsorted(data, key=operator.itemgetter(1), reverse=True)    # Sort in descending order of votes\",\n",
        "  u'import operator\\n\\ndef most_votes(ac_name=\\'BANGALORE SOUTH\\'):\\n    data = []\\n    row = 0\\n    for line in open(assembly_results):\\n        row += 1\\n        if row > 1:\\n            csv_row = line.split(\\',\\')\\n            if csv_row[4] == ac_name:\\n                name = csv_row[6]\\n                votes = int(csv_row[11].strip())\\n                data.append([name, votes])\\n\\n    return sorted(data, key=operator.itemgetter(1), reverse=True)\\n\\nget_ipython().magic(u\"timeit most_votes(\\'BANGALORE_SOUTH\\')               # %timeit is IPython\\'s timing magic\")',\n",
        "  u\"get_ipython().magic(u'load_ext line_profiler')\\n\\nget_ipython().magic(u'lprun -f most_votes most_votes()')\",\n",
        "  u'import line_profiler\\n\\ndef lprun(func, *args, **kwargs):\\n    profile = line_profiler.LineProfiler(func)\\n    profile.runcall(func, *args, **kwargs)\\n    profile.print_stats()',\n",
        "  u'lprun(most_votes)',\n",
        "  u\"def most_votes_skip_first(ac_name='BANGALORE SOUTH'):\\n    data = []\\n    handle = open(assembly_results)\\n    handle.next()  # Skip the header\\n    for line in handle:\\n        csv_row = line.split(',')\\n        if csv_row[4] == ac_name:\\n            name = csv_row[6]\\n            votes = int(csv_row[11].strip())\\n            data.append([name, votes])\\n\\n    return sorted(data, key=operator.itemgetter(1), reverse=True)\\n\\ntime1 = get_ipython().magic(u'timeit -o most_votes()')\\ntime2 = get_ipython().magic(u'timeit -o most_votes_skip_first()')\\nms = lambda time: 1000. * mean(time.all_runs) / time.loops\\nprint '{:.1%} faster'.format(ms(time1) / ms(time2) - 1)\",\n",
        "  u'lprun(most_votes_skip_first)',\n",
        "  u\"def most_votes_check_first(ac_name='BANGALORE SOUTH'):\\n    data = []\\n    handle = open(assembly_results)\\n    handle.next()\\n    for line in handle:\\n        # Check for a match first, before split\\n        if line.find(ac_name) >= 0:\\n            csv_row = line.split(',')\\n            name = csv_row[6]\\n            votes = int(csv_row[11].strip())\\n            data.append([name, votes])\\n\\n    return sorted(data, key=operator.itemgetter(1), reverse=True)\\n\\ntime3 = get_ipython().magic(u'timeit -o most_votes_check_first()')\\nprint '{:.1%} faster'.format(ms(time2) / ms(time3) - 1)\",\n",
        "  u'lprun(most_votes_check_first)',\n",
        "  u'def check(line, ac_name):\\n    return line.find(ac_name) >= 0\\n\\nimport dis\\ndis.disassemble(check.func_code)',\n",
        "  u'def check(line, ac_name):\\n    return ac_name in line\\n\\ndis.disassemble(check.func_code)',\n",
        "  u\"def most_votes_using_in(ac_name='BANGALORE SOUTH'):\\n    data = []\\n    handle = open(assembly_results)\\n    handle.next()\\n    for line in handle:\\n        # Use `in` instead of `.find()`\\n        if ac_name in line:\\n            csv_row = line.split(',')\\n            name = csv_row[6]\\n            votes = int(csv_row[11].strip())\\n            data.append([name, votes])\\n\\n    return sorted(data, key=operator.itemgetter(1), reverse=True)\\n\\ntime4 = get_ipython().magic(u'timeit -o most_votes_using_in()')\\nprint '{:.1%} faster'.format(ms(time3) / ms(time4) - 1)\",\n",
        "  u\"print '{:,.0f} ms: original version'.format(ms(time1))\\nprint '{:,.0f} ms: remove redundant if row > 0'.format(ms(time2))\\nprint '{:,.0f} ms: reduce # times .split() is called'.format(ms(time3))\\nprint '{:,.0f} ms: use operator instead of function'.format(ms(time4))\\nprint '{:,.1f}x improvement'.format(ms(time1) / ms(time4))\",\n",
        "  u\"import pandas as pd\\n\\ndef most_votes_pandas(ac_name='BANGALORE SOUTH'):\\n    data = pd.read_csv(assembly_results, low_memory=False)\\n    return data[data.AC_NAME.str.contains(ac_name)].sort('VOTES', ascending=False)\\n\\ntime5 = get_ipython().magic(u'timeit -o most_votes_pandas()')\\nprint '{:.1%} faster'.format(ms(time4) / ms(time5) - 1)\",\n",
        "  u\"get_ipython().magic(u'run sample.data.py')\",\n",
        "  u'from timeit import timeit\\nprint \\'{:,.3f}s: csv.DictReader\\'.format(timeit(\"list(csv.DictReader(open(\\'sample.data.csv\\')))\", setup=\"import csv\", number=1))\\nprint \\'{:,.3f}s: pickle.load\\'.format(timeit(\"pickle.load(open(\\'sample.data.pickle\\', \\'rb\\'))\", setup=\"import cPickle as pickle\", number=1))\\nprint \\'{:,.3f}s: json.load (array of dict)\\'.format(timeit(\"json.load(open(\\'sample.data.json\\'))\", setup=\"import json\", number=1))\\nprint \\'{:,.3f}s: json.load (array of arrays)\\'.format(timeit(\"json.load(open(\\'sample.data-array.json\\'))\", setup=\"import json\", number=1))\\nprint \\'{:,.3f}s: csv.reader\\'.format(timeit(\"list(csv.reader(open(\\'sample.data.csv\\')))\", setup=\"import csv\", number=1))\\nprint \\'{:,.3f}s: pandas.read_csv\\'.format(timeit(\"pd.read_csv(\\'sample.data.csv\\')\", setup=\"import pandas as pd\", number=1))\\nprint \\'{:,.3f}s: pandas.read_pickle\\'.format(timeit(\"pd.read_pickle(\\'sample.data.pandas\\')\", setup=\"import pandas as pd\", number=1))\\nprint \\'{:,.3f}s: HDF5 table\\'.format(timeit(\"pd.read_hdf(\\'sample.data.h5\\', \\'table\\')\", setup=\"import pandas as pd\", number=1))\\nprint \\'{:,.3f}s: HDF5 stored\\'.format(timeit(\"pd.read_hdf(\\'sample.data.h5\\', \\'stored\\')\", setup=\"import pandas as pd\", number=1))',\n",
        "  u'from timeit import timeit\\nprint \\'{:,.3f}s: csv.DictReader\\'.format(timeit(\"list(csv.DictReader(open(\\'sample.data.csv\\')))\", setup=\"import csv\", number=1))\\nprint \\'{:,.3f}s: pickle.load\\'.format(timeit(\"pickle.load(open(\\'sample.data.pickle\\', \\'rb\\'))\", setup=\"import cPickle as pickle\", number=1))\\nprint \\'{:,.3f}s: json.load (array of dict)\\'.format(timeit(\"json.load(open(\\'sample.data.json\\'))\", setup=\"import json\", number=1))\\nprint \\'{:,.3f}s: json.load (array of arrays)\\'.format(timeit(\"json.load(open(\\'sample.data-array.json\\'))\", setup=\"import json\", number=1))\\nprint \\'{:,.3f}s: csv.reader\\'.format(timeit(\"list(csv.reader(open(\\'sample.data.csv\\')))\", setup=\"import csv\", number=1))\\nprint \\'{:,.3f}s: pandas.read_csv\\'.format(timeit(\"pd.read_csv(\\'sample.data.csv\\')\", setup=\"import pandas as pd\", number=1))\\nprint \\'{:,.3f}s: pandas.read_pickle\\'.format(timeit(\"pd.read_pickle(\\'sample.data.pandas\\')\", setup=\"import pandas as pd\", number=1))\\nprint \\'{:,.3f}s: HDF5 table\\'.format(timeit(\"pd.read_hdf(\\'sample.data.h5\\', \\'table\\')\", setup=\"import pandas as pd\", number=1))\\nprint \\'{:,.3f}s: HDF5 stored\\'.format(timeit(\"pd.read_hdf(\\'sample.data.h5\\', \\'stored\\')\", setup=\"import pandas as pd\", number=1))',\n",
        "  u\"import os\\nfrom urllib import urlretrieve\\n\\ndef get(url):\\n    '''Like open(url), but cached'''\\n    filename = 'sample.file.name'         # We need a unique filename per URL\\n    if not os.path.exists(filename):\\n        urlretrieve(url, filename)\\n    return open(filename)\\n\\nget_ipython().system(u'rm -f sample.file.name')\\neci_url = 'http://eci.nic.in/eci_main1/ElectionStatistics.aspx'\\nget_ipython().magic(u'timeit -n1 -r1 get(eci_url)')\\nget_ipython().magic(u'timeit -n1 -r1 get(eci_url)')\",\n",
        "  u'import hashlib\\nfor algo in hashlib.algorithms:\\n    duration = timeit(\\'hashlib.%s(\"%s\").hexdigest()\\' % (algo, eci_url), setup=\\'import hashlib\\')\\n    print \\'{:,.3f}s: {:s}\\'.format(duration, algo)',\n",
        "  u'hash(eci_url)',\n",
        "  u'duration = timeit(\\'hash(\"%s\") + 2**32\\')\\nprint \\'{:,.3f}s: hash\\'.format(duration)',\n",
        "  u\"import random\\nimport datetime\\n\\nformats = ['%d-%b-%Y', '%d %m %Y', '%b %d %Y', '%Y-%m-%d']\\ntoday = datetime.date.today()\\nwith open('sample.dates.csv', 'w') as out:\\n    for x in range(100000):\\n        date = today - datetime.timedelta(random.randint(0, 100))\\n        out.write(date.strftime(random.choice(formats)) + '\\\\n')\\n\\nget_ipython().system(u'head sample.dates.csv')\",\n",
        "  u\"from dateutil.parser import parse\\n\\n# Read the data first into a list\\nlines = [line.strip() for line in open('sample.dates.csv')]\\n\\n# Convert it into dates\\ndef convert(lines):\\n    result = []\\n    for line in lines:\\n        date = parse(line, dayfirst=True)\\n        result.append(date)\\n\\nget_ipython().magic(u'timeit convert(lines)')\",\n",
        "  u'lprun(convert, lines)',\n",
        "  u\"s = pd.Series(['01-31-2012']*100000)\\n\\nget_ipython().magic(u'timeit pd.to_datetime(s)')\",\n",
        "  u\"get_ipython().magic(u'timeit [parse(v) for v in s]')\",\n",
        "  u'get_ipython().magic(u\"timeit [datetime.datetime.strptime(v, \\'%m-%d-%Y\\') for v in s]\")',\n",
        "  u\"get_ipython().magic(u'timeit [datetime.datetime(int(v[6:10]), int(v[0:2]), int(v[3:5])) for v in s]')\",\n",
        "  u\"def lookup(s):\\n    # Parse only the unique dates\\n    dates = {date: parse(date, dayfirst=True) for date in unique(s)}\\n    # Look up the parsed dates\\n    return [dates[v] for v in s]\\n\\nget_ipython().magic(u'timeit lookup(s)')\",\n",
        "  u\"data = [random.randint(0, 100) for x in range(100000)]\\n\\ndef square(value):\\n    return value * value\\n\\ndef square_all(data):\\n    result = []\\n    for value in data:\\n        squared = square(value)\\n        result.append(squared)\\n    return result\\n\\ntime1 = get_ipython().magic(u'timeit -o square_all(data)')\",\n",
        "  u\"def square_all_2(data):\\n    result = []\\n    for value in data:\\n        squared = value * value\\n        result.append(squared)\\n    return result\\n\\ntime2 = get_ipython().magic(u'timeit -o square_all_2(data)')\\nprint '{:.1%} faster'.format(ms(time1) / ms(time2) - 1)\",\n",
        "  u\"def square_all_3(data):\\n    result = []\\n    for value in data:\\n        result.append(value * value)\\n    return result\\n\\ntime3 = get_ipython().magic(u'timeit -o square_all_3(data)')\\nprint '{:.1%} faster'.format(ms(time2) / ms(time3) - 1)\",\n",
        "  u\"def square_all_4(data):\\n    return [value * value for value in data]\\n\\ntime4 = get_ipython().magic(u'timeit -o square_all_4(data)')\\nprint '{:.1%} faster'.format(ms(time3) / ms(time4) - 1)\",\n",
        "  u\"data = pd.Series(data)\\n\\ntime5 = get_ipython().magic(u'timeit -o data * data')\\nprint '{:.1%} faster'.format(ms(time4) / ms(time5) - 1)\",\n",
        "  u\"lo, hi = data.min(), data.max()\\nget_ipython().magic(u'timeit (data - lo) / (hi - lo)')\",\n",
        "  u\"values = numpy.random.rand(1000000)\\ndef count(values, a, b):\\n    count = 0\\n    for x in values:\\n        if a <= x <= b:\\n            count += 1\\n    return count\\n\\ntime1 = get_ipython().magic(u'timeit -o count(values, .25, .75)')\",\n",
        "  u\"time2 = get_ipython().magic(u'timeit -o ((.25 <= values) & (values <= .75)).sum()')\\nprint '{:.1%} faster'.format(ms(time1) / ms(time2) - 1)\",\n",
        "  u\"values.sort()\\ntime3 = get_ipython().magic(u'timeit -o numpy.searchsorted(values, .75) - numpy.searchsorted(values, .25)')\\nprint '{:.1%} faster'.format(ms(time2) / ms(time3) - 1)\",\n",
        "  u\"get_ipython().magic(u'load_ext cythonmagic')\",\n",
        "  u'get_ipython().run_cell_magic(u\\'cython\\', u\\'\\', u\"def total_cython(n):\\\\n    \\'\\'\\'Calculate the sum of all numbers up to n\\'\\'\\'\\\\n    cdef int a = 0        # Declare the type of a as integer\\\\n    cdef int i            # Declare the type of i as integer\\\\n    for i in xrange(n):   # Now loop through all the numbers\\\\n        a += i            # ... and add them\\\\n    return a\")',\n",
        "  u'def total_python(n):\\n    a = 0\\n    for i in xrange(n):\\n        a += i\\n    return a',\n",
        "  u\"get_ipython().magic(u'timeit total_python(100000)')\\nget_ipython().magic(u'timeit total_cython(100000)')\",\n",
        "  u\"get_ipython().run_cell_magic(u'cython', u'', u'\\\\ndef count_cython(values, a, b):\\\\n    cdef int count = 0\\\\n    cdef float val\\\\n    for val in values:\\\\n        if a <= val <= b:\\\\n            count += 1\\\\n    return count')\",\n",
        "  u\"get_ipython().magic(u'timeit count(values, .25, .75)')\\nget_ipython().magic(u'timeit count_cython(values, .25, .75)')\",\n",
        "  u'from numba.decorators import jit\\n\\n@jit\\ndef total_numba(n):\\n    a = 0\\n    for i in range(n):\\n        a += i\\n    return a',\n",
        "  u\"get_ipython().magic(u'timeit total_python(100000)')\\nget_ipython().magic(u'timeit total_cython(100000)')\\nget_ipython().magic(u'timeit total_numba(100000)')\",\n",
        "  u\"@jit\\ndef count_numba(values, a, b):\\n    count = 0\\n    for i in range(len(values)):\\n        if a <= values[i] and values[i] <= b:\\n            count += 1\\n    return count\\n\\nget_ipython().magic(u'timeit count(values, .25, .75)')\\nget_ipython().magic(u'timeit count_cython(values, .25, .75)')\\nget_ipython().magic(u'timeit count_numba(values, .25, .75)')\",\n",
        "  u\"get_ipython().magic(u'timeit total_python(100000)')\\nget_ipython().magic(u'timeit total_cython(100000)')\\nget_ipython().magic(u'timeit total_numba(100000)')\",\n",
        "  u\"@jit\\ndef count_numba(values, a, b):\\n    count = 0\\n    for i in range(len(values)):\\n        if a <= values[i] and values[i] <= b:\\n            count += 1\\n    return count\\n\\nget_ipython().magic(u'timeit count(values, .25, .75)')\\nget_ipython().magic(u'timeit count_cython(values, .25, .75)')\\nget_ipython().magic(u'timeit count_numba(values, .25, .75)')\",\n",
        "  u\"get_ipython().magic(u'load_ext line_profiler')\\n\\nget_ipython().magic(u'lprun -f most_votes most_votes()')\",\n",
        "  u'most_votes.func_name',\n",
        "  u'most_votes.func_globals'],\n",
        " '_ii': u'%load_ext line_profiler\\n\\n%lprun -f most_votes most_votes()',\n",
        " '_iii': u'@jit\\ndef count_numba(values, a, b):\\n    count = 0\\n    for i in range(len(values)):\\n        if a <= values[i] and values[i] <= b:\\n            count += 1\\n    return count\\n\\n%timeit count(values, .25, .75)\\n%timeit count_cython(values, .25, .75)\\n%timeit count_numba(values, .25, .75)',\n",
        " '_oh': {2: <IPython.lib.display.YouTubeVideo at 0x9973b38>,\n",
        "  4: [['M. KRISHNAPPA', 102207],\n",
        "   ['R. PRABHAKARA REDDY', 72045],\n",
        "   ['M KRISHNAPPA', 71114],\n",
        "   ['DR.TEJASWINI GOWDA', 63849],\n",
        "   ['SADANANDA M', 36979],\n",
        "   ['C MANJUNATH', 33529],\n",
        "   ['H P RAJAGOPALA REDDY', 17726],\n",
        "   ['D. MUNICHINNAPPA', 17441],\n",
        "   ['A. V. NARASIMHA REDDY', 13702],\n",
        "   ['R. RANGAPPA REDDY', 13452],\n",
        "   ['B. BASAVALINGAPPA (SC)', 12365],\n",
        "   ['B. BASAVALINGAPPA', 11540],\n",
        "   ['B. T. KEMPA RAJ (SC)', 5449],\n",
        "   ['C. BASAVIAH', 5333],\n",
        "   ['JAGADISH REDDY', 3936],\n",
        "   ['SHIVARUDRAPPA', 2610],\n",
        "   ['K. CHIKKANNA', 2561],\n",
        "   ['KRISHNAMA RAJU', 2509],\n",
        "   ['R MANJUNATH', 2300],\n",
        "   ['P. S. CHINNAPPA', 2229],\n",
        "   ['MURALI MOHAN', 1975],\n",
        "   ['A SOMASHEKAR', 1755],\n",
        "   ['M. NARAYANAPPA', 1494],\n",
        "   ['N S RAVICHANDRA', 1494],\n",
        "   ['VASANTH', 1363],\n",
        "   ['G.A. GREGORY', 1347],\n",
        "   ['E KRISHNAPPA', 1040],\n",
        "   ['M KRISHNAPPA', 990],\n",
        "   ['LOKESH M R', 771],\n",
        "   ['A. CHOWARAPPA', 691],\n",
        "   ['T.N KAMAL', 639],\n",
        "   ['N.S. RAVICHANDRA', 509],\n",
        "   ['JAYARAMA Y', 410],\n",
        "   ['K GURURAJ', 407],\n",
        "   ['ASHISH KAPUR', 394],\n",
        "   ['SUNDARAPPA', 335]],\n",
        "  23: 1159908681,\n",
        "  54: 'most_votes'},\n",
        " '_sh': <module 'IPython.core.shadowns' from 'D:\\Anaconda\\64\\lib\\site-packages\\IPython\\core\\shadowns.pyc'>,\n",
        " 'absolute': <ufunc 'absolute'>,\n",
        " 'absolute_import': _Feature((2, 5, 0, 'alpha', 1), (3, 0, 0, 'alpha', 0), 16384),\n",
        " 'acorr': <function matplotlib.pyplot.acorr>,\n",
        " 'add': <ufunc 'add'>,\n",
        " 'add_docstring': <function numpy.lib._compiled_base.add_docstring>,\n",
        " 'add_newdoc': <function numpy.lib.function_base.add_newdoc>,\n",
        " 'add_newdoc_ufunc': <function numpy.lib._compiled_base.add_newdoc_ufunc>,\n",
        " 'add_newdocs': <module 'numpy.add_newdocs' from 'D:\\Anaconda\\64\\lib\\site-packages\\numpy\\add_newdocs.pyc'>,\n",
        " 'alen': <function numpy.core.fromnumeric.alen>,\n",
        " 'algo': 'sha512',\n",
        " 'all': <function numpy.core.fromnumeric.all>,\n",
        " 'allclose': <function numpy.core.numeric.allclose>,\n",
        " 'alltrue': <function numpy.core.fromnumeric.alltrue>,\n",
        " 'alterdot': <function numpy.core._dotblas.alterdot>,\n",
        " 'amap': <function matplotlib.mlab.amap>,\n",
        " 'amax': <function numpy.core.fromnumeric.amax>,\n",
        " 'amin': <function numpy.core.fromnumeric.amin>,\n",
        " 'angle': <function numpy.lib.function_base.angle>,\n",
        " 'annotate': <function matplotlib.pyplot.annotate>,\n",
        " 'any': <function numpy.core.fromnumeric.any>,\n",
        " 'append': <function numpy.lib.function_base.append>,\n",
        " 'apply_along_axis': <function numpy.lib.shape_base.apply_along_axis>,\n",
        " 'apply_over_axes': <function numpy.lib.shape_base.apply_over_axes>,\n",
        " 'arange': <function numpy.core.multiarray.arange>,\n",
        " 'arccos': <ufunc 'arccos'>,\n",
        " 'arccosh': <ufunc 'arccosh'>,\n",
        " 'arcsin': <ufunc 'arcsin'>,\n",
        " 'arcsinh': <ufunc 'arcsinh'>,\n",
        " 'arctan': <ufunc 'arctan'>,\n",
        " 'arctan2': <ufunc 'arctan2'>,\n",
        " 'arctanh': <ufunc 'arctanh'>,\n",
        " 'argmax': <function numpy.core.fromnumeric.argmax>,\n",
        " 'argmin': <function numpy.core.fromnumeric.argmin>,\n",
        " 'argpartition': <function numpy.core.fromnumeric.argpartition>,\n",
        " 'argsort': <function numpy.core.fromnumeric.argsort>,\n",
        " 'argwhere': <function numpy.core.numeric.argwhere>,\n",
        " 'around': <function numpy.core.fromnumeric.around>,\n",
        " 'array': <function numpy.core.multiarray.array>,\n",
        " 'array2string': <function numpy.core.arrayprint.array2string>,\n",
        " 'array_equal': <function numpy.core.numeric.array_equal>,\n",
        " 'array_equiv': <function numpy.core.numeric.array_equiv>,\n",
        " 'array_repr': <function numpy.core.numeric.array_repr>,\n",
        " 'array_split': <function numpy.lib.shape_base.array_split>,\n",
        " 'array_str': <function numpy.core.numeric.array_str>,\n",
        " 'arrow': <function matplotlib.pyplot.arrow>,\n",
        " 'asanyarray': <function numpy.core.numeric.asanyarray>,\n",
        " 'asarray': <function numpy.core.numeric.asarray>,\n",
        " 'asarray_chkfinite': <function numpy.lib.function_base.asarray_chkfinite>,\n",
        " 'ascontiguousarray': <function numpy.core.numeric.ascontiguousarray>,\n",
        " 'asfarray': <function numpy.lib.type_check.asfarray>,\n",
        " 'asfortranarray': <function numpy.core.numeric.asfortranarray>,\n",
        " 'asmatrix': <function numpy.matrixlib.defmatrix.asmatrix>,\n",
        " 'asscalar': <function numpy.lib.type_check.asscalar>,\n",
        " 'assembly_results': 'D:/site/gramener.com/viz/election/assembly.csv',\n",
        " 'atleast_1d': <function numpy.core.shape_base.atleast_1d>,\n",
        " 'atleast_2d': <function numpy.core.shape_base.atleast_2d>,\n",
        " 'atleast_3d': <function numpy.core.shape_base.atleast_3d>,\n",
        " 'autoscale': <function matplotlib.pyplot.autoscale>,\n",
        " 'autumn': <function matplotlib.pyplot.autumn>,\n",
        " 'average': <function numpy.lib.function_base.average>,\n",
        " 'axes': <function matplotlib.pyplot.axes>,\n",
        " 'axhline': <function matplotlib.pyplot.axhline>,\n",
        " 'axhspan': <function matplotlib.pyplot.axhspan>,\n",
        " 'axis': <function matplotlib.pyplot.axis>,\n",
        " 'axvline': <function matplotlib.pyplot.axvline>,\n",
        " 'axvspan': <function matplotlib.pyplot.axvspan>,\n",
        " 'bar': <function matplotlib.pyplot.bar>,\n",
        " 'barbs': <function matplotlib.pyplot.barbs>,\n",
        " 'barh': <function matplotlib.pyplot.barh>,\n",
        " 'bartlett': <function numpy.lib.function_base.bartlett>,\n",
        " 'base_repr': <function numpy.core.numeric.base_repr>,\n",
        " 'bench': <bound method NoseTester.test of <numpy.testing.nosetester.NoseTester object at 0x0000000003C1F160>>,\n",
        " 'beta': <function beta>,\n",
        " 'binary_repr': <function numpy.core.numeric.binary_repr>,\n",
        " 'bincount': <function numpy.lib._compiled_base.bincount>,\n",
        " 'binomial': <function binomial>,\n",
        " 'bitwise_and': <ufunc 'bitwise_and'>,\n",
        " 'bitwise_not': <ufunc 'invert'>,\n",
        " 'bitwise_or': <ufunc 'bitwise_or'>,\n",
        " 'bitwise_xor': <ufunc 'bitwise_xor'>,\n",
        " 'bivariate_normal': <function matplotlib.mlab.bivariate_normal>,\n",
        " 'blackman': <function numpy.lib.function_base.blackman>,\n",
        " 'bmat': <function numpy.matrixlib.defmatrix.bmat>,\n",
        " 'bone': <function matplotlib.pyplot.bone>,\n",
        " 'bool8': numpy.bool_,\n",
        " 'bool_': numpy.bool_,\n",
        " 'box': <function matplotlib.pyplot.box>,\n",
        " 'boxplot': <function matplotlib.pyplot.boxplot>,\n",
        " 'broadcast': numpy.broadcast,\n",
        " 'broadcast_arrays': <function numpy.lib.stride_tricks.broadcast_arrays>,\n",
        " 'broken_barh': <function matplotlib.pyplot.broken_barh>,\n",
        " 'busday_count': <function numpy.core.multiarray.busday_count>,\n",
        " 'busday_offset': <function numpy.core.multiarray.busday_offset>,\n",
        " 'busdaycalendar': numpy.busdaycalendar,\n",
        " 'byte': numpy.int8,\n",
        " 'byte_bounds': <function numpy.lib.utils.byte_bounds>,\n",
        " 'bytes': str,\n",
        " 'bytes_': numpy.string_,\n",
        " 'c_': <numpy.lib.index_tricks.CClass at 0x2483fd0>,\n",
        " 'can_cast': <function numpy.core.multiarray.can_cast>,\n",
        " 'cast': {numpy.bool_: <function numpy.core.numerictypes.<lambda>>,\n",
        "  numpy.object_: <function numpy.core.numerictypes.<lambda>>,\n",
        "  numpy.string_: <function numpy.core.numerictypes.<lambda>>,\n",
        "  numpy.unicode_: <function numpy.core.numerictypes.<lambda>>,\n",
        "  numpy.void: <function numpy.core.numerictypes.<lambda>>,\n",
        "  numpy.int8: <function numpy.core.numerictypes.<lambda>>,\n",
        "  numpy.int16: <function numpy.core.numerictypes.<lambda>>,\n",
        "  numpy.int32: <function numpy.core.numerictypes.<lambda>>,\n",
        "  numpy.int32: <function numpy.core.numerictypes.<lambda>>,\n",
        "  numpy.int64: <function numpy.core.numerictypes.<lambda>>,\n",
        "  numpy.uint8: <function numpy.core.numerictypes.<lambda>>,\n",
        "  numpy.uint16: <function numpy.core.numerictypes.<lambda>>,\n",
        "  numpy.uint32: <function numpy.core.numerictypes.<lambda>>,\n",
        "  numpy.uint32: <function numpy.core.numerictypes.<lambda>>,\n",
        "  numpy.uint64: <function numpy.core.numerictypes.<lambda>>,\n",
        "  numpy.float16: <function numpy.core.numerictypes.<lambda>>,\n",
        "  numpy.float32: <function numpy.core.numerictypes.<lambda>>,\n",
        "  numpy.float64: <function numpy.core.numerictypes.<lambda>>,\n",
        "  numpy.float64: <function numpy.core.numerictypes.<lambda>>,\n",
        "  numpy.datetime64: <function numpy.core.numerictypes.<lambda>>,\n",
        "  numpy.timedelta64: <function numpy.core.numerictypes.<lambda>>,\n",
        "  numpy.complex64: <function numpy.core.numerictypes.<lambda>>,\n",
        "  numpy.complex128: <function numpy.core.numerictypes.<lambda>>,\n",
        "  numpy.complex128: <function numpy.core.numerictypes.<lambda>>},\n",
        " 'cbook': <module 'matplotlib.cbook' from 'D:\\Anaconda\\64\\lib\\site-packages\\matplotlib\\cbook.pyc'>,\n",
        " 'cdouble': numpy.complex128,\n",
        " 'ceil': <ufunc 'ceil'>,\n",
        " 'center_matrix': <function matplotlib.mlab.center_matrix>,\n",
        " 'cfloat': numpy.complex128,\n",
        " 'char': <module 'numpy.core.defchararray' from 'D:\\Anaconda\\64\\lib\\site-packages\\numpy\\core\\defchararray.pyc'>,\n",
        " 'character': numpy.character,\n",
        " 'chararray': numpy.core.defchararray.chararray,\n",
        " 'check': <function __main__.check>,\n",
        " 'chisquare': <function chisquare>,\n",
        " 'cholesky': <function numpy.linalg.linalg.cholesky>,\n",
        " 'choose': <function numpy.core.fromnumeric.choose>,\n",
        " 'cla': <function matplotlib.pyplot.cla>,\n",
        " 'clabel': <function matplotlib.pyplot.clabel>,\n",
        " 'clf': <function matplotlib.pyplot.clf>,\n",
        " 'clim': <function matplotlib.pyplot.clim>,\n",
        " 'clip': <function numpy.core.fromnumeric.clip>,\n",
        " 'clongdouble': numpy.complex128,\n",
        " 'clongfloat': numpy.complex128,\n",
        " 'close': <function matplotlib.pyplot.close>,\n",
        " 'cm': <module 'matplotlib.cm' from 'D:\\Anaconda\\64\\lib\\site-packages\\matplotlib\\cm.pyc'>,\n",
        " 'cohere': <function matplotlib.pyplot.cohere>,\n",
        " 'colorbar': <function matplotlib.pyplot.colorbar>,\n",
        " 'colormaps': <function matplotlib.pyplot.colormaps>,\n",
        " 'colors': <function matplotlib.pyplot.colors>,\n",
        " 'column_stack': <function numpy.lib.shape_base.column_stack>,\n",
        " 'common_type': <function numpy.lib.type_check.common_type>,\n",
        " 'compare_chararrays': <function numpy.core.multiarray.compare_chararrays>,\n",
        " 'complex128': numpy.complex128,\n",
        " 'complex64': numpy.complex64,\n",
        " 'complex_': numpy.complex128,\n",
        " 'complexfloating': numpy.complexfloating,\n",
        " 'compress': <function numpy.core.fromnumeric.compress>,\n",
        " 'concatenate': <function numpy.core.multiarray.concatenate>,\n",
        " 'cond': <function numpy.linalg.linalg.cond>,\n",
        " 'conj': <ufunc 'conjugate'>,\n",
        " 'conjugate': <ufunc 'conjugate'>,\n",
        " 'connect': <function matplotlib.pyplot.connect>,\n",
        " 'contour': <function matplotlib.pyplot.contour>,\n",
        " 'contourf': <function matplotlib.pyplot.contourf>,\n",
        " 'convert': <function __main__.convert>,\n",
        " 'convolve': <function numpy.core.numeric.convolve>,\n",
        " 'cool': <function matplotlib.pyplot.cool>,\n",
        " 'copper': <function matplotlib.pyplot.copper>,\n",
        " 'copy': <function numpy.lib.function_base.copy>,\n",
        " 'copysign': <ufunc 'copysign'>,\n",
        " 'copyto': <function numpy.core.multiarray.copyto>,\n",
        " 'corrcoef': <function numpy.lib.function_base.corrcoef>,\n",
        " 'correlate': <function numpy.core.numeric.correlate>,\n",
        " 'cos': <ufunc 'cos'>,\n",
        " 'cosh': <ufunc 'cosh'>,\n",
        " 'count': <function __main__.count>,\n",
        " 'count_cython': <function _cython_magic_b9f9c22fd15f5b7f9fe4e754b1f7a2ae.count_cython>,\n",
        " 'count_nonzero': <function numpy.core.multiarray.count_nonzero>,\n",
        " 'count_numba': CPUOverloaded(<function count_numba at 0x00000000CE966F28>),\n",
        " 'cov': <function numpy.lib.function_base.cov>,\n",
        " 'cross': <function numpy.core.numeric.cross>,\n",
        " 'csd': <function matplotlib.pyplot.csd>,\n",
        " 'csingle': numpy.complex64,\n",
        " 'csv': <module 'csv' from 'D:\\Anaconda\\64\\lib\\csv.pyc'>,\n",
        " 'csv2rec': <function matplotlib.mlab.csv2rec>,\n",
        " 'csv_row': ['Rajasthan',\n",
        "  '2013',\n",
        "  '75',\n",
        "  '5',\n",
        "  'WEIR',\n",
        "  '',\n",
        "  'NONE OF THE ABOVE',\n",
        "  '',\n",
        "  '',\n",
        "  '',\n",
        "  'NOTA',\n",
        "  '1472\\n'],\n",
        " 'ctypeslib': <module 'numpy.ctypeslib' from 'D:\\Anaconda\\64\\lib\\site-packages\\numpy\\ctypeslib.pyc'>,\n",
        " 'cumprod': <function numpy.core.fromnumeric.cumprod>,\n",
        " 'cumproduct': <function numpy.core.fromnumeric.cumproduct>,\n",
        " 'cumsum': <function numpy.core.fromnumeric.cumsum>,\n",
        " 'data': 0     72\n",
        " 1     47\n",
        " 2     85\n",
        " 3     20\n",
        " 4     87\n",
        " 5     17\n",
        " 6     66\n",
        " 7     85\n",
        " 8      8\n",
        " 9     36\n",
        " 10    82\n",
        " 11    82\n",
        " 12    38\n",
        " 13    91\n",
        " 14    54\n",
        " ...\n",
        " 99985     13\n",
        " 99986    100\n",
        " 99987     65\n",
        " 99988     36\n",
        " 99989     34\n",
        " 99990     59\n",
        " 99991     37\n",
        " 99992     35\n",
        " 99993     56\n",
        " 99994     57\n",
        " 99995     79\n",
        " 99996     99\n",
        " 99997     22\n",
        " 99998     35\n",
        " 99999     18\n",
        " Length: 100000, dtype: int64,\n",
        " 'date': datetime.date(2014, 9, 14),\n",
        " 'date2num': <function matplotlib.dates.date2num>,\n",
        " 'datestr2num': <function matplotlib.dates.datestr2num>,\n",
        " 'datetime': <module 'datetime' (built-in)>,\n",
        " 'datetime64': numpy.datetime64,\n",
        " 'datetime_as_string': <function numpy.core.multiarray.datetime_as_string>,\n",
        " 'datetime_data': <function numpy.core.multiarray.datetime_data>,\n",
        " 'dedent': <function matplotlib.cbook.dedent>,\n",
        " 'deg2rad': <ufunc 'deg2rad'>,\n",
        " 'degrees': <ufunc 'degrees'>,\n",
        " 'delaxes': <function matplotlib.pyplot.delaxes>,\n",
        " 'delete': <function numpy.lib.function_base.delete>,\n",
        " 'demean': <function matplotlib.mlab.demean>,\n",
        " 'deprecate': <function numpy.lib.utils.deprecate>,\n",
        " 'deprecate_with_doc': <function numpy.lib.utils.<lambda>>,\n",
        " 'det': <function numpy.linalg.linalg.det>,\n",
        " 'detrend': <function matplotlib.mlab.detrend>,\n",
        " 'detrend_linear': <function matplotlib.mlab.detrend_linear>,\n",
        " 'detrend_mean': <function matplotlib.mlab.detrend_mean>,\n",
        " 'detrend_none': <function matplotlib.mlab.detrend_none>,\n",
        " 'diag': <function numpy.lib.twodim_base.diag>,\n",
        " 'diag_indices': <function numpy.lib.index_tricks.diag_indices>,\n",
        " 'diag_indices_from': <function numpy.lib.index_tricks.diag_indices_from>,\n",
        " 'diagflat': <function numpy.lib.twodim_base.diagflat>,\n",
        " 'diagonal': <function numpy.core.fromnumeric.diagonal>,\n",
        " 'diff': <function numpy.lib.function_base.diff>,\n",
        " 'digitize': <function numpy.lib._compiled_base.digitize>,\n",
        " 'dis': <module 'dis' from 'D:\\Anaconda\\64\\lib\\dis.pyc'>,\n",
        " 'disconnect': <function matplotlib.pyplot.disconnect>,\n",
        " 'disp': <function numpy.lib.function_base.disp>,\n",
        " 'display': <function IPython.core.display.display>,\n",
        " 'dist': <function matplotlib.mlab.dist>,\n",
        " 'dist_point_to_segment': <function matplotlib.mlab.dist_point_to_segment>,\n",
        " 'distances_along_curve': <function matplotlib.mlab.distances_along_curve>,\n",
        " 'divide': <ufunc 'divide'>,\n",
        " 'division': _Feature((2, 2, 0, 'alpha', 2), (3, 0, 0, 'alpha', 0), 8192),\n",
        " 'docstring': <module 'matplotlib.docstring' from 'D:\\Anaconda\\64\\lib\\site-packages\\matplotlib\\docstring.pyc'>,\n",
        " 'dot': <function numpy.core._dotblas.dot>,\n",
        " 'double': numpy.float64,\n",
        " 'drange': <function matplotlib.dates.drange>,\n",
        " 'draw': <function matplotlib.pyplot.draw>,\n",
        " 'draw_if_interactive': <function IPython.utils.decorators.wrapper>,\n",
        " 'dsplit': <function numpy.lib.shape_base.dsplit>,\n",
        " 'dstack': <function numpy.lib.shape_base.dstack>,\n",
        " 'dtype': numpy.dtype,\n",
        " 'duration': 0.1627697480935808,\n",
        " 'e': 2.718281828459045,\n",
        " 'eci_url': 'http://eci.nic.in/eci_main1/ElectionStatistics.aspx',\n",
        " 'ediff1d': <function numpy.lib.arraysetops.ediff1d>,\n",
        " 'eig': <function numpy.linalg.linalg.eig>,\n",
        " 'eigh': <function numpy.linalg.linalg.eigh>,\n",
        " 'eigvals': <function numpy.linalg.linalg.eigvals>,\n",
        " 'eigvalsh': <function numpy.linalg.linalg.eigvalsh>,\n",
        " 'einsum': <function numpy.core.multiarray.einsum>,\n",
        " 'emath': <module 'numpy.lib.scimath' from 'D:\\Anaconda\\64\\lib\\site-packages\\numpy\\lib\\scimath.pyc'>,\n",
        " 'empty': <function numpy.core.multiarray.empty>,\n",
        " 'empty_like': <function numpy.core.multiarray.empty_like>,\n",
        " 'entropy': <function matplotlib.mlab.entropy>,\n",
        " 'epoch2num': <function matplotlib.dates.epoch2num>,\n",
        " 'equal': <ufunc 'equal'>,\n",
        " 'errorbar': <function matplotlib.pyplot.errorbar>,\n",
        " 'errstate': numpy.core.numeric.errstate,\n",
        " 'euler_gamma': 0.5772156649015329,\n",
        " 'eventplot': <function matplotlib.pyplot.eventplot>,\n",
        " 'exception_to_str': <function matplotlib.cbook.exception_to_str>,\n",
        " 'exit': <IPython.core.autocall.ZMQExitAutocall at 0x3683668>,\n",
        " 'exp': <ufunc 'exp'>,\n",
        " 'exp2': <ufunc 'exp2'>,\n",
        " 'exp_safe': <function matplotlib.mlab.exp_safe>,\n",
        " 'expand_dims': <function numpy.lib.shape_base.expand_dims>,\n",
        " 'expm1': <ufunc 'expm1'>,\n",
        " 'exponential': <function exponential>,\n",
        " 'extract': <function numpy.lib.function_base.extract>,\n",
        " 'eye': <function numpy.lib.twodim_base.eye>,\n",
        " 'f': <function f>,\n",
        " 'fabs': <ufunc 'fabs'>,\n",
        " 'fastCopyAndTranspose': <function numpy.core.multiarray._fastCopyAndTranspose>,\n",
        " 'fft': <module 'numpy.fft' from 'D:\\Anaconda\\64\\lib\\site-packages\\numpy\\fft\\__init__.pyc'>,\n",
        " 'fft2': <function numpy.fft.fftpack.fft2>,\n",
        " 'fftfreq': <function numpy.fft.helper.fftfreq>,\n",
        " 'fftn': <function numpy.fft.fftpack.fftn>,\n",
        " 'fftpack': <module 'numpy.fft.fftpack' from 'D:\\Anaconda\\64\\lib\\site-packages\\numpy\\fft\\fftpack.pyc'>,\n",
        " 'fftpack_lite': <module 'numpy.fft.fftpack_lite' from 'D:\\Anaconda\\64\\lib\\site-packages\\numpy\\fft\\fftpack_lite.pyd'>,\n",
        " 'fftshift': <function numpy.fft.helper.fftshift>,\n",
        " 'fftsurr': <function matplotlib.mlab.fftsurr>,\n",
        " 'figaspect': <function matplotlib.figure.figaspect>,\n",
        " 'figimage': <function matplotlib.pyplot.figimage>,\n",
        " 'figlegend': <function matplotlib.pyplot.figlegend>,\n",
        " 'fignum_exists': <function matplotlib._pylab_helpers.has_fignum>,\n",
        " 'figsize': <function IPython.core.pylabtools.figsize>,\n",
        " 'figtext': <function matplotlib.pyplot.figtext>,\n",
        " 'figure': <function matplotlib.pyplot.figure>,\n",
        " 'fill': <function matplotlib.pyplot.fill>,\n",
        " 'fill_between': <function matplotlib.pyplot.fill_between>,\n",
        " 'fill_betweenx': <function matplotlib.pyplot.fill_betweenx>,\n",
        " 'fill_diagonal': <function numpy.lib.index_tricks.fill_diagonal>,\n",
        " 'find': <function matplotlib.mlab.find>,\n",
        " 'find_common_type': <function numpy.core.numerictypes.find_common_type>,\n",
        " 'findobj': <function matplotlib.pyplot.findobj>,\n",
        " 'finfo': numpy.core.getlimits.finfo,\n",
        " 'fix': <function numpy.lib.ufunclike.fix>,\n",
        " 'flag': <function matplotlib.pyplot.flag>,\n",
        " 'flatiter': numpy.flatiter,\n",
        " 'flatnonzero': <function numpy.core.numeric.flatnonzero>,\n",
        " 'flatten': <function matplotlib.cbook.flatten>,\n",
        " 'flexible': numpy.flexible,\n",
        " 'fliplr': <function numpy.lib.twodim_base.fliplr>,\n",
        " 'flipud': <function numpy.lib.twodim_base.flipud>,\n",
        " 'float16': numpy.float16,\n",
        " 'float32': numpy.float32,\n",
        " 'float64': numpy.float64,\n",
        " 'float_': numpy.float64,\n",
        " 'floating': numpy.floating,\n",
        " 'floor': <ufunc 'floor'>,\n",
        " 'floor_divide': <ufunc 'floor_divide'>,\n",
        " 'fmax': <ufunc 'fmax'>,\n",
        " 'fmin': <ufunc 'fmin'>,\n",
        " 'fmod': <ufunc 'fmod'>,\n",
        " 'format_parser': numpy.core.records.format_parser,\n",
        " 'formats': ['%d-%b-%Y', '%d %m %Y', '%b %d %Y', '%Y-%m-%d'],\n",
        " 'frange': <function matplotlib.mlab.frange>,\n",
        " 'frexp': <ufunc 'frexp'>,\n",
        " 'frombuffer': <function numpy.core.multiarray.frombuffer>,\n",
        " 'fromfile': <function numpy.core.multiarray.fromfile>,\n",
        " 'fromfunction': <function numpy.core.numeric.fromfunction>,\n",
        " 'fromiter': <function numpy.core.multiarray.fromiter>,\n",
        " 'frompyfunc': <function numpy.core.umath.frompyfunc>,\n",
        " 'fromregex': <function numpy.lib.npyio.fromregex>,\n",
        " 'fromstring': <function numpy.core.multiarray.fromstring>,\n",
        " 'full': <function numpy.core.numeric.full>,\n",
        " 'full_like': <function numpy.core.numeric.full_like>,\n",
        " 'fv': <function numpy.lib.financial.fv>,\n",
        " 'gamma': <function gamma>,\n",
        " 'gca': <function matplotlib.pyplot.gca>,\n",
        " 'gcf': <function matplotlib.pyplot.gcf>,\n",
        " 'gci': <function matplotlib.pyplot.gci>,\n",
        " 'generic': numpy.generic,\n",
        " 'genfromtxt': <function numpy.lib.npyio.genfromtxt>,\n",
        " 'geometric': <function geometric>,\n",
        " 'get': <function __main__.get>,\n",
        " 'get_array_wrap': <function numpy.lib.shape_base.get_array_wrap>,\n",
        " 'get_backend': <function matplotlib.get_backend>,\n",
        " 'get_cmap': <function matplotlib.cm.get_cmap>,\n",
        " 'get_current_fig_manager': <function matplotlib.pyplot.get_current_fig_manager>,\n",
        " 'get_figlabels': <function matplotlib.pyplot.get_figlabels>,\n",
        " 'get_fignums': <function matplotlib.pyplot.get_fignums>,\n",
        " 'get_include': <function numpy.lib.utils.get_include>,\n",
        " 'get_ipython': <bound method ZMQInteractiveShell.get_ipython of <IPython.kernel.zmq.zmqshell.ZMQInteractiveShell object at 0x000000000367C7B8>>,\n",
        " 'get_numarray_include': <function numpy.lib.utils.get_numarray_include>,\n",
        " 'get_plot_commands': <function matplotlib.pyplot.get_plot_commands>,\n",
        " 'get_printoptions': <function numpy.core.arrayprint.get_printoptions>,\n",
        " 'get_scale_docs': <function matplotlib.scale.get_scale_docs>,\n",
        " 'get_scale_names': <function matplotlib.scale.get_scale_names>,\n",
        " 'get_sparse_matrix': <function matplotlib.mlab.get_sparse_matrix>,\n",
        " 'get_state': <function get_state>,\n",
        " 'get_xyz_where': <function matplotlib.mlab.get_xyz_where>,\n",
        " 'getbuffer': <function numpy.core.multiarray.getbuffer>,\n",
        " 'getbufsize': <function numpy.core.numeric.getbufsize>,\n",
        " 'geterr': <function numpy.core.numeric.geterr>,\n",
        " 'geterrcall': <function numpy.core.numeric.geterrcall>,\n",
        " 'geterrobj': <function numpy.core.umath.geterrobj>,\n",
        " 'getfigs': <function IPython.core.pylabtools.getfigs>,\n",
        " 'getp': <function matplotlib.artist.getp>,\n",
        " 'ginput': <function matplotlib.pyplot.ginput>,\n",
        " 'gradient': <function numpy.lib.function_base.gradient>,\n",
        " 'gray': <function matplotlib.pyplot.gray>,\n",
        " 'greater': <ufunc 'greater'>,\n",
        " 'greater_equal': <ufunc 'greater_equal'>,\n",
        " 'grid': <function matplotlib.pyplot.grid>,\n",
        " 'griddata': <function matplotlib.mlab.griddata>,\n",
        " 'gumbel': <function gumbel>,\n",
        " 'half': numpy.float16,\n",
        " 'hamming': <function numpy.lib.function_base.hamming>,\n",
        " 'hanning': <function numpy.lib.function_base.hanning>,\n",
        " 'hashlib': <module 'hashlib' from 'D:\\Anaconda\\64\\lib\\hashlib.pyc'>,\n",
        " 'helper': <module 'numpy.fft.helper' from 'D:\\Anaconda\\64\\lib\\site-packages\\numpy\\fft\\helper.pyc'>,\n",
        " 'hexbin': <function matplotlib.pyplot.hexbin>,\n",
        " 'hfft': <function numpy.fft.fftpack.hfft>,\n",
        " 'hi': 100,\n",
        " 'hist': <function matplotlib.pyplot.hist>,\n",
        " 'hist2d': <function matplotlib.pyplot.hist2d>,\n",
        " 'histogram': <function numpy.lib.function_base.histogram>,\n",
        " 'histogram2d': <function numpy.lib.twodim_base.histogram2d>,\n",
        " 'histogramdd': <function numpy.lib.function_base.histogramdd>,\n",
        " 'hlines': <function matplotlib.pyplot.hlines>,\n",
        " 'hold': <function matplotlib.pyplot.hold>,\n",
        " 'hot': <function matplotlib.pyplot.hot>,\n",
        " 'hsplit': <function numpy.lib.shape_base.hsplit>,\n",
        " 'hstack': <function numpy.core.shape_base.hstack>,\n",
        " 'hsv': <function matplotlib.pyplot.hsv>,\n",
        " 'hypergeometric': <function hypergeometric>,\n",
        " 'hypot': <ufunc 'hypot'>,\n",
        " 'i0': <function numpy.lib.function_base.i0>,\n",
        " 'identity': <function numpy.core.numeric.identity>,\n",
        " 'ifft': <function numpy.fft.fftpack.ifft>,\n",
        " 'ifft2': <function numpy.fft.fftpack.ifft2>,\n",
        " 'ifftn': <function numpy.fft.fftpack.ifftn>,\n",
        " 'ifftshift': <function numpy.fft.helper.ifftshift>,\n",
        " 'ihfft': <function numpy.fft.fftpack.ihfft>,\n",
        " 'iinfo': numpy.core.getlimits.iinfo,\n",
        " 'imag': <function numpy.lib.type_check.imag>,\n",
        " 'imread': <function matplotlib.pyplot.imread>,\n",
        " 'imsave': <function matplotlib.pyplot.imsave>,\n",
        " 'imshow': <function matplotlib.pyplot.imshow>,\n",
        " 'in1d': <function numpy.lib.arraysetops.in1d>,\n",
        " 'index_exp': <numpy.lib.index_tricks.IndexExpression at 0x248f0b8>,\n",
        " 'indices': <function numpy.core.numeric.indices>,\n",
        " 'inexact': numpy.inexact,\n",
        " 'inf': inf,\n",
        " 'info': <function numpy.lib.utils.info>,\n",
        " 'infty': inf,\n",
        " 'inner': <function numpy.core._dotblas.inner>,\n",
        " 'insert': <function numpy.lib.function_base.insert>,\n",
        " 'inside_poly': <function matplotlib.mlab.inside_poly>,\n",
        " 'int0': numpy.int64,\n",
        " 'int16': numpy.int16,\n",
        " 'int32': numpy.int32,\n",
        " 'int64': numpy.int64,\n",
        " 'int8': numpy.int8,\n",
        " 'int_': numpy.int32,\n",
        " 'int_asbuffer': <function numpy.core.multiarray.int_asbuffer>,\n",
        " 'intc': numpy.int32,\n",
        " 'integer': numpy.integer,\n",
        " 'interactive': <function matplotlib.interactive>,\n",
        " 'interp': <function numpy.lib.function_base.interp>,\n",
        " 'intersect1d': <function numpy.lib.arraysetops.intersect1d>,\n",
        " 'intp': numpy.int64,\n",
        " 'inv': <function numpy.linalg.linalg.inv>,\n",
        " 'invert': <ufunc 'invert'>,\n",
        " 'ioff': <function matplotlib.pyplot.ioff>,\n",
        " 'ion': <function matplotlib.pyplot.ion>,\n",
        " 'ipmt': <function numpy.lib.financial.ipmt>,\n",
        " 'irfft': <function numpy.fft.fftpack.irfft>,\n",
        " 'irfft2': <function numpy.fft.fftpack.irfft2>,\n",
        " 'irfftn': <function numpy.fft.fftpack.irfftn>,\n",
        " 'irr': <function numpy.lib.financial.irr>,\n",
        " 'is_busday': <function numpy.core.multiarray.is_busday>,\n",
        " 'is_closed_polygon': <function matplotlib.mlab.is_closed_polygon>,\n",
        " 'is_numlike': <function matplotlib.cbook.is_numlike>,\n",
        " 'is_string_like': <function matplotlib.cbook.is_string_like>,\n",
        " 'isclose': <function numpy.core.numeric.isclose>,\n",
        " 'iscomplex': <function numpy.lib.type_check.iscomplex>,\n",
        " 'iscomplexobj': <function numpy.lib.type_check.iscomplexobj>,\n",
        " 'isfinite': <ufunc 'isfinite'>,\n",
        " 'isfortran': <function numpy.core.numeric.isfortran>,\n",
        " 'ishold': <function matplotlib.pyplot.ishold>,\n",
        " 'isinf': <ufunc 'isinf'>,\n",
        " 'isinteractive': <function matplotlib.pyplot.isinteractive>,\n",
        " 'isnan': <ufunc 'isnan'>,\n",
        " 'isneginf': <function numpy.lib.ufunclike.isneginf>,\n",
        " 'isposinf': <function numpy.lib.ufunclike.isposinf>,\n",
        " 'ispower2': <function matplotlib.mlab.ispower2>,\n",
        " 'isreal': <function numpy.lib.type_check.isreal>,\n",
        " 'isrealobj': <function numpy.lib.type_check.isrealobj>,\n",
        " 'isscalar': <function numpy.core.numeric.isscalar>,\n",
        " 'issctype': <function numpy.core.numerictypes.issctype>,\n",
        " 'issubclass_': <function numpy.core.numerictypes.issubclass_>,\n",
        " 'issubdtype': <function numpy.core.numerictypes.issubdtype>,\n",
        " 'issubsctype': <function numpy.core.numerictypes.issubsctype>,\n",
        " 'isvector': <function matplotlib.mlab.isvector>,\n",
        " 'iterable': <function numpy.lib.function_base.iterable>,\n",
        " 'ix_': <function numpy.lib.index_tricks.ix_>,\n",
        " 'jet': <function matplotlib.pyplot.jet>,\n",
        " 'jit': <function numba.decorators.jit>,\n",
        " 'json': <module 'json' from 'D:\\Anaconda\\64\\lib\\json\\__init__.pyc'>,\n",
        " 'kaiser': <function numpy.lib.function_base.kaiser>,\n",
        " 'kron': <function numpy.lib.shape_base.kron>,\n",
        " 'l1norm': <function matplotlib.mlab.l1norm>,\n",
        " 'l2norm': <function matplotlib.mlab.l2norm>,\n",
        " 'lapack_lite': <module 'numpy.linalg.lapack_lite' from 'D:\\Anaconda\\64\\lib\\site-packages\\numpy\\linalg\\lapack_lite.pyd'>,\n",
        " 'laplace': <function laplace>,\n",
        " 'ldexp': <ufunc 'ldexp'>,\n",
        " 'left_shift': <ufunc 'left_shift'>,\n",
        " 'legend': <function matplotlib.pyplot.legend>,\n",
        " 'less': <ufunc 'less'>,\n",
        " 'less_equal': <ufunc 'less_equal'>,\n",
        " 'levypdf': <function matplotlib.mlab.levypdf>,\n",
        " 'lexsort': <function numpy.core.multiarray.lexsort>,\n",
        " 'linalg': <module 'numpy.linalg' from 'D:\\Anaconda\\64\\lib\\site-packages\\numpy\\linalg\\__init__.pyc'>,\n",
        " 'line': '14-Sep-2014\\n',\n",
        " 'line_profiler': <module 'line_profiler' from 'D:\\Anaconda\\64\\lib\\site-packages\\line_profiler.pyc'>,\n",
        " 'lines': ['2014-06-23',\n",
        "  '2014-09-26',\n",
        "  '13-Sep-2014',\n",
        "  '27-Aug-2014',\n",
        "  '27-Aug-2014',\n",
        "  '25-Sep-2014',\n",
        "  '23-Sep-2014',\n",
        "  '2014-08-22',\n",
        "  '22 09 2014',\n",
        "  '08 08 2014',\n",
        "  '2014-08-17',\n",
        "  '17 07 2014',\n",
        "  'Jul 28 2014',\n",
        "  '20-Aug-2014',\n",
        "  'Jul 21 2014',\n",
        "  '03 09 2014',\n",
        "  '18-Aug-2014',\n",
        "  'Sep 06 2014',\n",
        "  '24 06 2014',\n",
        "  'Jul 02 2014',\n",
        "  '04 07 2014',\n",
        "  '16-Aug-2014',\n",
        "  '27-Jul-2014',\n",
        "  '04-Sep-2014',\n",
        "  'Jun 25 2014',\n",
        "  '2014-06-28',\n",
        "  '28-Sep-2014',\n",
        "  '2014-06-23',\n",
        "  'Jul 17 2014',\n",
        "  '2014-08-16',\n",
        "  'Jul 11 2014',\n",
        "  '2014-07-12',\n",
        "  '2014-09-06',\n",
        "  '2014-06-27',\n",
        "  'Aug 14 2014',\n",
        "  'Sep 05 2014',\n",
        "  '22 08 2014',\n",
        "  '27-Aug-2014',\n",
        "  'Aug 07 2014',\n",
        "  '2014-08-04',\n",
        "  '29-Aug-2014',\n",
        "  '13 09 2014',\n",
        "  '2014-08-21',\n",
        "  '18-Aug-2014',\n",
        "  '21 08 2014',\n",
        "  '2014-08-11',\n",
        "  'Sep 28 2014',\n",
        "  '2014-07-20',\n",
        "  '2014-08-09',\n",
        "  'Jul 20 2014',\n",
        "  'Aug 13 2014',\n",
        "  '28-Jul-2014',\n",
        "  '23 09 2014',\n",
        "  'Jul 13 2014',\n",
        "  'Sep 07 2014',\n",
        "  '2014-09-19',\n",
        "  '02 09 2014',\n",
        "  '2014-07-26',\n",
        "  '25-Jun-2014',\n",
        "  '29-Jun-2014',\n",
        "  '2014-07-15',\n",
        "  '2014-08-11',\n",
        "  '23 06 2014',\n",
        "  '2014-07-09',\n",
        "  '2014-08-30',\n",
        "  'Jun 23 2014',\n",
        "  'Jul 20 2014',\n",
        "  '06 08 2014',\n",
        "  '29-Aug-2014',\n",
        "  '28 09 2014',\n",
        "  '22 06 2014',\n",
        "  '2014-07-12',\n",
        "  '23-Sep-2014',\n",
        "  '30 06 2014',\n",
        "  '2014-09-25',\n",
        "  '2014-07-24',\n",
        "  '2014-08-06',\n",
        "  'Sep 15 2014',\n",
        "  '2014-07-20',\n",
        "  'Jul 13 2014',\n",
        "  '12 09 2014',\n",
        "  'Sep 08 2014',\n",
        "  '2014-07-22',\n",
        "  '2014-09-07',\n",
        "  '31 07 2014',\n",
        "  '19-Sep-2014',\n",
        "  'Sep 09 2014',\n",
        "  '22 09 2014',\n",
        "  'Aug 17 2014',\n",
        "  '02 08 2014',\n",
        "  'Jul 22 2014',\n",
        "  '10 09 2014',\n",
        "  '22-Jul-2014',\n",
        "  '20 08 2014',\n",
        "  '03-Jul-2014',\n",
        "  '24 08 2014',\n",
        "  '31-Aug-2014',\n",
        "  '14-Sep-2014',\n",
        "  'Sep 27 2014',\n",
        "  '22-Sep-2014',\n",
        "  '2014-06-29',\n",
        "  '23-Jul-2014',\n",
        "  '18 08 2014',\n",
        "  '2014-09-21',\n",
        "  '21 09 2014',\n",
        "  'Jul 08 2014',\n",
        "  '29 06 2014',\n",
        "  '2014-06-25',\n",
        "  'Jul 15 2014',\n",
        "  '2014-07-21',\n",
        "  'Jun 25 2014',\n",
        "  '2014-07-09',\n",
        "  '31 07 2014',\n",
        "  '10 07 2014',\n",
        "  'Sep 11 2014',\n",
        "  'Jul 09 2014',\n",
        "  '18 08 2014',\n",
        "  '11 08 2014',\n",
        "  '18-Aug-2014',\n",
        "  '2014-09-25',\n",
        "  '22 08 2014',\n",
        "  '06-Jul-2014',\n",
        "  'Aug 23 2014',\n",
        "  '2014-09-02',\n",
        "  '24-Jun-2014',\n",
        "  '2014-09-25',\n",
        "  'Sep 25 2014',\n",
        "  '09 09 2014',\n",
        "  '24 06 2014',\n",
        "  'Sep 05 2014',\n",
        "  '29-Jun-2014',\n",
        "  'Jul 12 2014',\n",
        "  'Jul 02 2014',\n",
        "  '06-Jul-2014',\n",
        "  '28 06 2014',\n",
        "  '17 07 2014',\n",
        "  'Jul 16 2014',\n",
        "  '18 08 2014',\n",
        "  '04-Sep-2014',\n",
        "  'Jul 04 2014',\n",
        "  '24 08 2014',\n",
        "  '05-Aug-2014',\n",
        "  '21 07 2014',\n",
        "  '04-Jul-2014',\n",
        "  '16 09 2014',\n",
        "  '24 09 2014',\n",
        "  '2014-06-30',\n",
        "  'Jun 22 2014',\n",
        "  '06 08 2014',\n",
        "  '12-Sep-2014',\n",
        "  'Sep 20 2014',\n",
        "  '21-Jul-2014',\n",
        "  '06 07 2014',\n",
        "  '18-Sep-2014',\n",
        "  '08-Aug-2014',\n",
        "  'Aug 09 2014',\n",
        "  '09 08 2014',\n",
        "  '2014-06-21',\n",
        "  '18 09 2014',\n",
        "  '2014-08-30',\n",
        "  '27 09 2014',\n",
        "  '16 07 2014',\n",
        "  '25 09 2014',\n",
        "  '2014-09-20',\n",
        "  '04 07 2014',\n",
        "  '24-Jun-2014',\n",
        "  '26-Jul-2014',\n",
        "  'Jul 28 2014',\n",
        "  '02-Aug-2014',\n",
        "  '2014-09-02',\n",
        "  '24 08 2014',\n",
        "  'Aug 30 2014',\n",
        "  'Sep 17 2014',\n",
        "  '26-Sep-2014',\n",
        "  '2014-08-17',\n",
        "  '05 07 2014',\n",
        "  '2014-07-15',\n",
        "  '23-Jul-2014',\n",
        "  '2014-07-09',\n",
        "  '30-Aug-2014',\n",
        "  'Sep 07 2014',\n",
        "  '2014-08-04',\n",
        "  '19 08 2014',\n",
        "  '06-Aug-2014',\n",
        "  '07-Sep-2014',\n",
        "  'Sep 23 2014',\n",
        "  '2014-07-21',\n",
        "  '14-Sep-2014',\n",
        "  'Sep 03 2014',\n",
        "  '10-Sep-2014',\n",
        "  'Aug 16 2014',\n",
        "  '2014-09-02',\n",
        "  'Jul 13 2014',\n",
        "  '2014-08-15',\n",
        "  'Aug 07 2014',\n",
        "  'Aug 22 2014',\n",
        "  'Jul 19 2014',\n",
        "  '30-Jun-2014',\n",
        "  '2014-08-04',\n",
        "  '09-Sep-2014',\n",
        "  'Aug 10 2014',\n",
        "  '20 07 2014',\n",
        "  '02 07 2014',\n",
        "  '25 08 2014',\n",
        "  '09 08 2014',\n",
        "  '30 06 2014',\n",
        "  '2014-08-21',\n",
        "  '25-Jun-2014',\n",
        "  '26 09 2014',\n",
        "  '25-Jun-2014',\n",
        "  '23-Jun-2014',\n",
        "  'Aug 03 2014',\n",
        "  '11-Jul-2014',\n",
        "  'Aug 18 2014',\n",
        "  '2014-08-10',\n",
        "  '2014-06-29',\n",
        "  '18 09 2014',\n",
        "  '02 09 2014',\n",
        "  '2014-07-08',\n",
        "  'Aug 12 2014',\n",
        "  '29 07 2014',\n",
        "  'Jul 10 2014',\n",
        "  'Jul 10 2014',\n",
        "  '2014-06-20',\n",
        "  '2014-08-30',\n",
        "  '2014-08-18',\n",
        "  '20-Aug-2014',\n",
        "  '29-Aug-2014',\n",
        "  'Jun 20 2014',\n",
        "  '2014-09-18',\n",
        "  'Sep 02 2014',\n",
        "  'Jun 24 2014',\n",
        "  '05 07 2014',\n",
        "  '28 07 2014',\n",
        "  '22-Jun-2014',\n",
        "  '2014-08-05',\n",
        "  '31 07 2014',\n",
        "  '17 08 2014',\n",
        "  '2014-08-29',\n",
        "  '02 07 2014',\n",
        "  '2014-09-18',\n",
        "  '26-Aug-2014',\n",
        "  '2014-09-28',\n",
        "  '14 08 2014',\n",
        "  '25 09 2014',\n",
        "  '20 07 2014',\n",
        "  '2014-09-25',\n",
        "  '05 08 2014',\n",
        "  '07-Aug-2014',\n",
        "  '20 08 2014',\n",
        "  'Aug 10 2014',\n",
        "  '2014-09-04',\n",
        "  '22 06 2014',\n",
        "  '15-Sep-2014',\n",
        "  '19 08 2014',\n",
        "  'Jul 31 2014',\n",
        "  '24 08 2014',\n",
        "  '10-Jul-2014',\n",
        "  '16-Sep-2014',\n",
        "  '12 07 2014',\n",
        "  'Aug 16 2014',\n",
        "  '2014-09-13',\n",
        "  '07 07 2014',\n",
        "  'Jun 28 2014',\n",
        "  '29 08 2014',\n",
        "  '27 07 2014',\n",
        "  'Sep 25 2014',\n",
        "  '2014-08-09',\n",
        "  '11 07 2014',\n",
        "  '2014-06-21',\n",
        "  '17 09 2014',\n",
        "  '2014-07-06',\n",
        "  'Sep 24 2014',\n",
        "  '25-Jun-2014',\n",
        "  'Sep 26 2014',\n",
        "  '30-Aug-2014',\n",
        "  'Sep 24 2014',\n",
        "  '19-Jul-2014',\n",
        "  '25-Jun-2014',\n",
        "  'Jul 22 2014',\n",
        "  'Aug 29 2014',\n",
        "  '06 07 2014',\n",
        "  '2014-07-19',\n",
        "  '2014-07-10',\n",
        "  '15 09 2014',\n",
        "  '28-Sep-2014',\n",
        "  '09-Jul-2014',\n",
        "  '16 09 2014',\n",
        "  '26 06 2014',\n",
        "  '03-Jul-2014',\n",
        "  '24 08 2014',\n",
        "  '2014-09-15',\n",
        "  'Sep 09 2014',\n",
        "  '26 07 2014',\n",
        "  '23-Sep-2014',\n",
        "  '21 09 2014',\n",
        "  '2014-07-29',\n",
        "  '31-Aug-2014',\n",
        "  '28 08 2014',\n",
        "  '2014-08-17',\n",
        "  '2014-09-22',\n",
        "  'Jul 25 2014',\n",
        "  '26-Jul-2014',\n",
        "  'Sep 22 2014',\n",
        "  '29-Jul-2014',\n",
        "  '08-Aug-2014',\n",
        "  'Jul 07 2014',\n",
        "  'Aug 25 2014',\n",
        "  '2014-09-23',\n",
        "  '20-Aug-2014',\n",
        "  '2014-06-27',\n",
        "  '2014-08-11',\n",
        "  '07 08 2014',\n",
        "  '26-Jun-2014',\n",
        "  '2014-07-16',\n",
        "  'Jul 12 2014',\n",
        "  '2014-07-07',\n",
        "  '2014-08-22',\n",
        "  '2014-09-03',\n",
        "  '2014-09-13',\n",
        "  '02 08 2014',\n",
        "  '2014-09-01',\n",
        "  'Aug 31 2014',\n",
        "  '2014-08-04',\n",
        "  'Jul 16 2014',\n",
        "  '05 09 2014',\n",
        "  'Aug 08 2014',\n",
        "  '2014-06-27',\n",
        "  '31-Jul-2014',\n",
        "  '03-Jul-2014',\n",
        "  '10-Aug-2014',\n",
        "  '01 07 2014',\n",
        "  '13 07 2014',\n",
        "  'Jul 04 2014',\n",
        "  '27 08 2014',\n",
        "  'Sep 16 2014',\n",
        "  '15-Jul-2014',\n",
        "  '2014-08-12',\n",
        "  '28-Jul-2014',\n",
        "  '2014-07-07',\n",
        "  '09-Jul-2014',\n",
        "  '2014-09-12',\n",
        "  '2014-07-29',\n",
        "  '12-Jul-2014',\n",
        "  '24-Jun-2014',\n",
        "  '09-Sep-2014',\n",
        "  '10-Aug-2014',\n",
        "  '2014-09-25',\n",
        "  '27 06 2014',\n",
        "  '2014-09-26',\n",
        "  'Aug 29 2014',\n",
        "  '2014-09-21',\n",
        "  '28 07 2014',\n",
        "  '2014-07-01',\n",
        "  '2014-09-07',\n",
        "  'Jul 27 2014',\n",
        "  '06-Sep-2014',\n",
        "  '01 09 2014',\n",
        "  '02-Sep-2014',\n",
        "  '22-Jun-2014',\n",
        "  '2014-09-21',\n",
        "  '29-Jun-2014',\n",
        "  '20-Sep-2014',\n",
        "  'Aug 28 2014',\n",
        "  '2014-08-24',\n",
        "  '29-Aug-2014',\n",
        "  '2014-09-08',\n",
        "  '22-Jun-2014',\n",
        "  '07-Sep-2014',\n",
        "  'Aug 25 2014',\n",
        "  '2014-08-27',\n",
        "  '02-Sep-2014',\n",
        "  'Sep 27 2014',\n",
        "  '05 09 2014',\n",
        "  '2014-09-23',\n",
        "  '2014-06-26',\n",
        "  '07-Aug-2014',\n",
        "  '06-Jul-2014',\n",
        "  '10-Sep-2014',\n",
        "  '05 08 2014',\n",
        "  '08-Aug-2014',\n",
        "  '27 08 2014',\n",
        "  '07-Aug-2014',\n",
        "  '23 09 2014',\n",
        "  '2014-07-29',\n",
        "  '09 08 2014',\n",
        "  '2014-08-19',\n",
        "  'Sep 23 2014',\n",
        "  'Aug 12 2014',\n",
        "  '2014-08-12',\n",
        "  '27-Jun-2014',\n",
        "  'Aug 01 2014',\n",
        "  'Aug 31 2014',\n",
        "  'Sep 10 2014',\n",
        "  '22-Jul-2014',\n",
        "  '2014-09-11',\n",
        "  '2014-08-23',\n",
        "  'Jul 03 2014',\n",
        "  '17 09 2014',\n",
        "  'Jul 28 2014',\n",
        "  '17-Jul-2014',\n",
        "  '30-Jun-2014',\n",
        "  'Aug 16 2014',\n",
        "  '27-Aug-2014',\n",
        "  '2014-07-31',\n",
        "  'Sep 01 2014',\n",
        "  '21 08 2014',\n",
        "  '2014-09-06',\n",
        "  'Jun 25 2014',\n",
        "  '27 07 2014',\n",
        "  '2014-09-14',\n",
        "  '14-Sep-2014',\n",
        "  'Jun 28 2014',\n",
        "  '28 07 2014',\n",
        "  '14-Aug-2014',\n",
        "  '30-Jun-2014',\n",
        "  'Aug 01 2014',\n",
        "  '2014-08-09',\n",
        "  '11-Aug-2014',\n",
        "  '19 09 2014',\n",
        "  '09-Sep-2014',\n",
        "  '2014-06-21',\n",
        "  'Jun 26 2014',\n",
        "  'Aug 15 2014',\n",
        "  '24 06 2014',\n",
        "  '2014-09-05',\n",
        "  '13-Aug-2014',\n",
        "  'Sep 20 2014',\n",
        "  'Jul 25 2014',\n",
        "  'Jul 28 2014',\n",
        "  '2014-07-02',\n",
        "  '21-Aug-2014',\n",
        "  'Jul 05 2014',\n",
        "  '29-Aug-2014',\n",
        "  'Jun 25 2014',\n",
        "  '08 09 2014',\n",
        "  '24 06 2014',\n",
        "  'Jul 12 2014',\n",
        "  'Aug 01 2014',\n",
        "  '07-Sep-2014',\n",
        "  'Aug 29 2014',\n",
        "  '23-Sep-2014',\n",
        "  '2014-07-04',\n",
        "  '2014-09-10',\n",
        "  '09 09 2014',\n",
        "  '20 07 2014',\n",
        "  '20 07 2014',\n",
        "  '04-Jul-2014',\n",
        "  '2014-08-05',\n",
        "  '23 06 2014',\n",
        "  'Sep 24 2014',\n",
        "  '2014-09-11',\n",
        "  '29-Aug-2014',\n",
        "  'Aug 13 2014',\n",
        "  '2014-09-13',\n",
        "  '31-Jul-2014',\n",
        "  '13-Jul-2014',\n",
        "  'Jul 22 2014',\n",
        "  'Sep 01 2014',\n",
        "  '30-Aug-2014',\n",
        "  '12 09 2014',\n",
        "  '2014-08-02',\n",
        "  'Aug 22 2014',\n",
        "  '2014-08-27',\n",
        "  'Jul 03 2014',\n",
        "  '25 07 2014',\n",
        "  '27 08 2014',\n",
        "  '25 08 2014',\n",
        "  '16-Jul-2014',\n",
        "  '2014-07-23',\n",
        "  '2014-08-20',\n",
        "  '2014-09-07',\n",
        "  '2014-08-21',\n",
        "  '16 07 2014',\n",
        "  'Sep 16 2014',\n",
        "  'Aug 10 2014',\n",
        "  '2014-07-07',\n",
        "  'Aug 24 2014',\n",
        "  '23 06 2014',\n",
        "  '2014-09-13',\n",
        "  '2014-06-22',\n",
        "  'Jul 09 2014',\n",
        "  '14-Sep-2014',\n",
        "  '29 07 2014',\n",
        "  '10 08 2014',\n",
        "  'Jul 04 2014',\n",
        "  '23 09 2014',\n",
        "  '2014-09-22',\n",
        "  '17-Aug-2014',\n",
        "  '2014-06-29',\n",
        "  '22-Sep-2014',\n",
        "  'Aug 03 2014',\n",
        "  'Jul 15 2014',\n",
        "  '2014-09-19',\n",
        "  '2014-09-26',\n",
        "  '07-Aug-2014',\n",
        "  'Jul 15 2014',\n",
        "  '2014-09-01',\n",
        "  'Jul 30 2014',\n",
        "  'Sep 24 2014',\n",
        "  '2014-09-27',\n",
        "  'Jun 26 2014',\n",
        "  '28-Jun-2014',\n",
        "  '2014-08-14',\n",
        "  '2014-09-06',\n",
        "  'Aug 01 2014',\n",
        "  '04-Sep-2014',\n",
        "  '30-Aug-2014',\n",
        "  '22 06 2014',\n",
        "  'Aug 12 2014',\n",
        "  '2014-07-21',\n",
        "  '2014-07-09',\n",
        "  '2014-07-11',\n",
        "  'Sep 18 2014',\n",
        "  'Aug 23 2014',\n",
        "  '2014-08-13',\n",
        "  '15-Aug-2014',\n",
        "  '2014-08-07',\n",
        "  'Aug 14 2014',\n",
        "  '10 07 2014',\n",
        "  '2014-06-27',\n",
        "  'Jul 12 2014',\n",
        "  'Jun 24 2014',\n",
        "  '02 08 2014',\n",
        "  'Aug 14 2014',\n",
        "  'Jul 04 2014',\n",
        "  'Jun 29 2014',\n",
        "  '2014-09-27',\n",
        "  '29 07 2014',\n",
        "  'Sep 15 2014',\n",
        "  '2014-08-12',\n",
        "  'Aug 16 2014',\n",
        "  'Jul 29 2014',\n",
        "  '13-Jul-2014',\n",
        "  '05 09 2014',\n",
        "  'Aug 30 2014',\n",
        "  '13 09 2014',\n",
        "  '2014-07-22',\n",
        "  '06 08 2014',\n",
        "  'Sep 26 2014',\n",
        "  '30 08 2014',\n",
        "  'Jun 30 2014',\n",
        "  '10 09 2014',\n",
        "  '22-Sep-2014',\n",
        "  '14 09 2014',\n",
        "  '06 07 2014',\n",
        "  'Jul 06 2014',\n",
        "  '24 09 2014',\n",
        "  '18-Jul-2014',\n",
        "  '09-Aug-2014',\n",
        "  '2014-07-25',\n",
        "  '07 07 2014',\n",
        "  'Sep 04 2014',\n",
        "  '09-Jul-2014',\n",
        "  '19 07 2014',\n",
        "  'Sep 09 2014',\n",
        "  '24-Jul-2014',\n",
        "  'Aug 09 2014',\n",
        "  'Jul 13 2014',\n",
        "  '2014-06-25',\n",
        "  '2014-09-27',\n",
        "  '27 06 2014',\n",
        "  'Aug 18 2014',\n",
        "  '19 09 2014',\n",
        "  '2014-06-25',\n",
        "  '13 09 2014',\n",
        "  '22 08 2014',\n",
        "  'Jul 18 2014',\n",
        "  'Aug 04 2014',\n",
        "  '17 08 2014',\n",
        "  '20-Jul-2014',\n",
        "  '24 08 2014',\n",
        "  '2014-09-22',\n",
        "  '15 07 2014',\n",
        "  '2014-08-15',\n",
        "  '16 09 2014',\n",
        "  '29 07 2014',\n",
        "  '23 09 2014',\n",
        "  '12-Aug-2014',\n",
        "  '2014-07-10',\n",
        "  '31 07 2014',\n",
        "  'Jul 09 2014',\n",
        "  'Jul 02 2014',\n",
        "  'Jul 11 2014',\n",
        "  '24-Sep-2014',\n",
        "  '29 06 2014',\n",
        "  'Jul 05 2014',\n",
        "  'Jul 21 2014',\n",
        "  '01-Jul-2014',\n",
        "  '23-Sep-2014',\n",
        "  '07-Aug-2014',\n",
        "  '04-Jul-2014',\n",
        "  '20-Jul-2014',\n",
        "  '12-Jul-2014',\n",
        "  '2014-09-23',\n",
        "  'Jul 08 2014',\n",
        "  '26 07 2014',\n",
        "  '21 06 2014',\n",
        "  '31-Aug-2014',\n",
        "  '2014-07-04',\n",
        "  '20 06 2014',\n",
        "  '14-Sep-2014',\n",
        "  '24-Aug-2014',\n",
        "  '19-Aug-2014',\n",
        "  '09-Aug-2014',\n",
        "  '17 08 2014',\n",
        "  '2014-08-15',\n",
        "  '20 07 2014',\n",
        "  'Jul 19 2014',\n",
        "  'Jul 04 2014',\n",
        "  '20-Aug-2014',\n",
        "  '01 08 2014',\n",
        "  '2014-08-04',\n",
        "  '16-Aug-2014',\n",
        "  '26 07 2014',\n",
        "  'Jul 24 2014',\n",
        "  '13 08 2014',\n",
        "  'Aug 26 2014',\n",
        "  '01 09 2014',\n",
        "  '19 09 2014',\n",
        "  '01 08 2014',\n",
        "  '2014-08-07',\n",
        "  '30 08 2014',\n",
        "  'Jul 05 2014',\n",
        "  'Sep 01 2014',\n",
        "  '2014-06-30',\n",
        "  '2014-07-26',\n",
        "  '13 07 2014',\n",
        "  '16 07 2014',\n",
        "  '2014-07-05',\n",
        "  '18 08 2014',\n",
        "  'Jul 26 2014',\n",
        "  '2014-06-27',\n",
        "  'Sep 17 2014',\n",
        "  '2014-08-25',\n",
        "  'Sep 06 2014',\n",
        "  'Jul 25 2014',\n",
        "  'Sep 13 2014',\n",
        "  '12-Aug-2014',\n",
        "  '28-Jul-2014',\n",
        "  '2014-07-28',\n",
        "  '2014-06-23',\n",
        "  '26-Sep-2014',\n",
        "  '11-Sep-2014',\n",
        "  'Jul 15 2014',\n",
        "  '05 08 2014',\n",
        "  'Aug 14 2014',\n",
        "  '09-Aug-2014',\n",
        "  '06 09 2014',\n",
        "  '24 09 2014',\n",
        "  '25-Jul-2014',\n",
        "  '2014-09-05',\n",
        "  '2014-09-27',\n",
        "  '02 09 2014',\n",
        "  '24 07 2014',\n",
        "  '08-Jul-2014',\n",
        "  '14 09 2014',\n",
        "  'Sep 05 2014',\n",
        "  'Jul 01 2014',\n",
        "  '2014-08-15',\n",
        "  '2014-09-10',\n",
        "  '2014-07-16',\n",
        "  'Jun 27 2014',\n",
        "  'Jul 10 2014',\n",
        "  '23 09 2014',\n",
        "  '20 06 2014',\n",
        "  '04 07 2014',\n",
        "  'Sep 01 2014',\n",
        "  '08 08 2014',\n",
        "  '13-Sep-2014',\n",
        "  'Aug 18 2014',\n",
        "  '04 07 2014',\n",
        "  '2014-08-15',\n",
        "  '2014-09-28',\n",
        "  'Aug 20 2014',\n",
        "  'Aug 02 2014',\n",
        "  '2014-07-25',\n",
        "  '30-Aug-2014',\n",
        "  '2014-07-08',\n",
        "  '2014-06-30',\n",
        "  '22-Jun-2014',\n",
        "  '2014-06-29',\n",
        "  'Jul 20 2014',\n",
        "  '2014-07-30',\n",
        "  '27-Aug-2014',\n",
        "  '21-Jul-2014',\n",
        "  '29 06 2014',\n",
        "  '13 07 2014',\n",
        "  '23-Aug-2014',\n",
        "  '2014-06-20',\n",
        "  '28-Jul-2014',\n",
        "  'Sep 18 2014',\n",
        "  '2014-08-29',\n",
        "  '12 07 2014',\n",
        "  '2014-09-05',\n",
        "  'Sep 21 2014',\n",
        "  'Sep 13 2014',\n",
        "  '2014-09-13',\n",
        "  'Jul 07 2014',\n",
        "  '11 08 2014',\n",
        "  '2014-09-23',\n",
        "  '2014-09-06',\n",
        "  '29 06 2014',\n",
        "  '16-Sep-2014',\n",
        "  '15 07 2014',\n",
        "  'Aug 31 2014',\n",
        "  '29-Jun-2014',\n",
        "  '27 09 2014',\n",
        "  'Aug 22 2014',\n",
        "  '2014-08-18',\n",
        "  'Jul 11 2014',\n",
        "  'Sep 13 2014',\n",
        "  'Jul 10 2014',\n",
        "  '2014-08-24',\n",
        "  'Sep 16 2014',\n",
        "  '11-Sep-2014',\n",
        "  '2014-08-28',\n",
        "  '2014-07-05',\n",
        "  '13-Jul-2014',\n",
        "  '2014-08-02',\n",
        "  '06 09 2014',\n",
        "  '25-Sep-2014',\n",
        "  '31-Jul-2014',\n",
        "  '2014-09-03',\n",
        "  '11 09 2014',\n",
        "  '31 08 2014',\n",
        "  '02-Aug-2014',\n",
        "  '05-Jul-2014',\n",
        "  '2014-08-02',\n",
        "  '2014-09-21',\n",
        "  'Aug 14 2014',\n",
        "  '04 08 2014',\n",
        "  '12 07 2014',\n",
        "  '16 09 2014',\n",
        "  '20 08 2014',\n",
        "  '14 09 2014',\n",
        "  '23-Sep-2014',\n",
        "  'Jul 06 2014',\n",
        "  '30-Jul-2014',\n",
        "  'Jul 22 2014',\n",
        "  '14 07 2014',\n",
        "  'Aug 29 2014',\n",
        "  'Sep 02 2014',\n",
        "  '2014-07-27',\n",
        "  '19 08 2014',\n",
        "  '09-Sep-2014',\n",
        "  '2014-08-06',\n",
        "  'Sep 14 2014',\n",
        "  '04 07 2014',\n",
        "  'Jun 24 2014',\n",
        "  '10-Jul-2014',\n",
        "  '2014-06-25',\n",
        "  '2014-08-29',\n",
        "  '18 07 2014',\n",
        "  '06 08 2014',\n",
        "  '09 09 2014',\n",
        "  '30-Aug-2014',\n",
        "  '2014-06-26',\n",
        "  '02 09 2014',\n",
        "  '02 07 2014',\n",
        "  '13-Jul-2014',\n",
        "  '2014-07-30',\n",
        "  'Aug 07 2014',\n",
        "  '2014-09-07',\n",
        "  '15-Aug-2014',\n",
        "  '2014-09-06',\n",
        "  '08 09 2014',\n",
        "  '2014-08-05',\n",
        "  'Aug 16 2014',\n",
        "  'Jun 25 2014',\n",
        "  '17-Jul-2014',\n",
        "  '2014-09-19',\n",
        "  '2014-07-13',\n",
        "  'Aug 14 2014',\n",
        "  '06-Jul-2014',\n",
        "  'Sep 02 2014',\n",
        "  'Sep 27 2014',\n",
        "  '28-Aug-2014',\n",
        "  '21 07 2014',\n",
        "  '10-Jul-2014',\n",
        "  'Sep 05 2014',\n",
        "  'Jun 25 2014',\n",
        "  '23 06 2014',\n",
        "  '2014-07-07',\n",
        "  '23-Aug-2014',\n",
        "  'Jul 07 2014',\n",
        "  '21-Sep-2014',\n",
        "  '20-Sep-2014',\n",
        "  '09 07 2014',\n",
        "  '2014-09-19',\n",
        "  '11-Aug-2014',\n",
        "  '08-Sep-2014',\n",
        "  '18-Sep-2014',\n",
        "  '31-Jul-2014',\n",
        "  'Jul 23 2014',\n",
        "  'Aug 21 2014',\n",
        "  '09 09 2014',\n",
        "  '2014-07-31',\n",
        "  '2014-07-27',\n",
        "  'Jul 28 2014',\n",
        "  '2014-09-04',\n",
        "  'Jul 09 2014',\n",
        "  '2014-08-30',\n",
        "  'Aug 13 2014',\n",
        "  '04-Jul-2014',\n",
        "  '08 08 2014',\n",
        "  '07 09 2014',\n",
        "  '01-Sep-2014',\n",
        "  '07-Aug-2014',\n",
        "  '2014-08-27',\n",
        "  '2014-09-12',\n",
        "  '05-Sep-2014',\n",
        "  'Aug 08 2014',\n",
        "  '14-Jul-2014',\n",
        "  'Aug 14 2014',\n",
        "  '2014-09-18',\n",
        "  'Aug 03 2014',\n",
        "  '2014-09-01',\n",
        "  '02-Jul-2014',\n",
        "  '07 09 2014',\n",
        "  '2014-08-06',\n",
        "  '31 07 2014',\n",
        "  '20-Sep-2014',\n",
        "  '2014-08-17',\n",
        "  'Aug 24 2014',\n",
        "  '2014-09-25',\n",
        "  '11-Aug-2014',\n",
        "  '29 07 2014',\n",
        "  'Sep 02 2014',\n",
        "  '17 09 2014',\n",
        "  'Aug 20 2014',\n",
        "  '2014-09-10',\n",
        "  '2014-07-22',\n",
        "  'Jun 23 2014',\n",
        "  '03 09 2014',\n",
        "  '16-Aug-2014',\n",
        "  '2014-08-02',\n",
        "  '2014-06-29',\n",
        "  '23 09 2014',\n",
        "  '07 08 2014',\n",
        "  'Jul 06 2014',\n",
        "  '30-Aug-2014',\n",
        "  '18 08 2014',\n",
        "  '17-Sep-2014',\n",
        "  '26-Jul-2014',\n",
        "  'Aug 15 2014',\n",
        "  '2014-08-06',\n",
        "  '24-Jul-2014',\n",
        "  '2014-09-16',\n",
        "  'Jul 28 2014',\n",
        "  '31 07 2014',\n",
        "  '2014-07-16',\n",
        "  '14-Sep-2014',\n",
        "  'Aug 08 2014',\n",
        "  'Sep 19 2014',\n",
        "  '28-Sep-2014',\n",
        "  '13 07 2014',\n",
        "  '2014-09-27',\n",
        "  '12-Jul-2014',\n",
        "  '04-Jul-2014',\n",
        "  'Aug 29 2014',\n",
        "  'Jul 16 2014',\n",
        "  '29-Jun-2014',\n",
        "  '2014-07-15',\n",
        "  '08-Aug-2014',\n",
        "  '2014-09-18',\n",
        "  '2014-07-29',\n",
        "  'Aug 18 2014',\n",
        "  '02-Jul-2014',\n",
        "  '2014-07-19',\n",
        "  '2014-09-03',\n",
        "  'Aug 10 2014',\n",
        "  'Aug 15 2014',\n",
        "  'Jul 22 2014',\n",
        "  'Jul 11 2014',\n",
        "  '30 06 2014',\n",
        "  '03 07 2014',\n",
        "  '25-Aug-2014',\n",
        "  '2014-08-26',\n",
        "  '14 08 2014',\n",
        "  '22-Jul-2014',\n",
        "  '16-Sep-2014',\n",
        "  '2014-08-18',\n",
        "  '13-Aug-2014',\n",
        "  'Aug 20 2014',\n",
        "  'Aug 13 2014',\n",
        "  '25-Sep-2014',\n",
        "  '20-Jul-2014',\n",
        "  '2014-08-17',\n",
        "  '2014-06-24',\n",
        "  '22-Jul-2014',\n",
        "  '19-Aug-2014',\n",
        "  'Aug 10 2014',\n",
        "  '17 08 2014',\n",
        "  '10 08 2014',\n",
        "  '2014-09-14',\n",
        "  '2014-08-11',\n",
        "  'Aug 05 2014',\n",
        "  '27-Jul-2014',\n",
        "  '2014-06-30',\n",
        "  '01-Sep-2014',\n",
        "  '15 08 2014',\n",
        "  'Jul 26 2014',\n",
        "  '10 07 2014',\n",
        "  '2014-09-20',\n",
        "  '29-Jun-2014',\n",
        "  'Jul 03 2014',\n",
        "  '26-Aug-2014',\n",
        "  '13 08 2014',\n",
        "  'Jul 13 2014',\n",
        "  'Jun 21 2014',\n",
        "  'Jul 18 2014',\n",
        "  '24-Jul-2014',\n",
        "  '21 08 2014',\n",
        "  '21-Aug-2014',\n",
        "  '2014-08-05',\n",
        "  '2014-08-28',\n",
        "  'Jun 23 2014',\n",
        "  '2014-07-14',\n",
        "  '12-Aug-2014',\n",
        "  'Aug 15 2014',\n",
        "  '15-Sep-2014',\n",
        "  '25-Aug-2014',\n",
        "  '2014-08-12',\n",
        "  'Aug 09 2014',\n",
        "  '30-Aug-2014',\n",
        "  '25-Jul-2014',\n",
        "  'Jul 27 2014',\n",
        "  '01 09 2014',\n",
        "  '2014-09-09',\n",
        "  '22 08 2014',\n",
        "  '03 07 2014',\n",
        "  '2014-07-12',\n",
        "  '28 06 2014',\n",
        "  'Sep 15 2014',\n",
        "  '2014-07-20',\n",
        "  'Jul 25 2014',\n",
        "  'Aug 10 2014',\n",
        "  '15-Sep-2014',\n",
        "  '2014-07-03',\n",
        "  'Sep 04 2014',\n",
        "  '20-Jul-2014',\n",
        "  '2014-09-18',\n",
        "  '30-Aug-2014',\n",
        "  'Aug 03 2014',\n",
        "  '2014-08-08',\n",
        "  '12-Aug-2014',\n",
        "  '18-Jul-2014',\n",
        "  '2014-09-21',\n",
        "  '2014-09-12',\n",
        "  '2014-09-20',\n",
        "  '12 07 2014',\n",
        "  '2014-07-16',\n",
        "  '15 09 2014',\n",
        "  '2014-09-09',\n",
        "  '27-Sep-2014',\n",
        "  '17 07 2014',\n",
        "  '2014-07-02',\n",
        "  '22 09 2014',\n",
        "  '16-Sep-2014',\n",
        "  'Jul 16 2014',\n",
        "  '2014-07-20',\n",
        "  '25 07 2014',\n",
        "  'Jul 03 2014',\n",
        "  '15 07 2014',\n",
        "  '2014-08-10',\n",
        "  '2014-09-06',\n",
        "  '25 07 2014',\n",
        "  'Jul 07 2014',\n",
        "  'Jul 08 2014',\n",
        "  '06 08 2014',\n",
        "  '02 07 2014',\n",
        "  '05-Jul-2014',\n",
        "  '14 09 2014',\n",
        "  '04 07 2014',\n",
        "  '2014-09-04',\n",
        "  '2014-07-09',\n",
        "  '04-Jul-2014',\n",
        "  '18 08 2014',\n",
        "  'Aug 18 2014',\n",
        "  'Jul 20 2014',\n",
        "  'Sep 03 2014',\n",
        "  '29-Jun-2014',\n",
        "  '24 08 2014',\n",
        "  'Aug 27 2014',\n",
        "  '11-Jul-2014',\n",
        "  '16-Aug-2014',\n",
        "  '22-Jul-2014',\n",
        "  '2014-09-25',\n",
        "  '2014-06-24',\n",
        "  '22 06 2014',\n",
        "  '22 08 2014',\n",
        "  '13 07 2014',\n",
        "  '18 09 2014',\n",
        "  'Sep 03 2014',\n",
        "  '15 08 2014',\n",
        "  '22-Sep-2014',\n",
        "  '06-Jul-2014',\n",
        "  '2014-07-26',\n",
        "  '01 08 2014',\n",
        "  ...],\n",
        " 'linspace': <function numpy.core.function_base.linspace>,\n",
        " 'little_endian': True,\n",
        " 'lo': 0,\n",
        " 'load': <function numpy.lib.npyio.load>,\n",
        " 'loads': <function cPickle.loads>,\n",
        " 'loadtxt': <function numpy.lib.npyio.loadtxt>,\n",
        " 'locator_params': <function matplotlib.pyplot.locator_params>,\n",
        " 'log': <ufunc 'log'>,\n",
        " 'log10': <ufunc 'log10'>,\n",
        " 'log1p': <ufunc 'log1p'>,\n",
        " 'log2': <ufunc 'log2'>,\n",
        " 'logaddexp': <ufunc 'logaddexp'>,\n",
        " 'logaddexp2': <ufunc 'logaddexp2'>,\n",
        " 'logical_and': <ufunc 'logical_and'>,\n",
        " 'logical_not': <ufunc 'logical_not'>,\n",
        " 'logical_or': <ufunc 'logical_or'>,\n",
        " 'logical_xor': <ufunc 'logical_xor'>,\n",
        " 'logistic': <function logistic>,\n",
        " 'loglog': <function matplotlib.pyplot.loglog>,\n",
        " 'lognormal': <function lognormal>,\n",
        " 'logseries': <function logseries>,\n",
        " 'logspace': <function numpy.core.function_base.logspace>,\n",
        " 'longcomplex': numpy.complex128,\n",
        " 'longdouble': numpy.float64,\n",
        " 'longest_contiguous_ones': <function matplotlib.mlab.longest_contiguous_ones>,\n",
        " 'longest_ones': <function matplotlib.mlab.longest_ones>,\n",
        " 'longfloat': numpy.float64,\n",
        " 'longlong': numpy.int64,\n",
        " 'lookfor': <function numpy.lib.utils.lookfor>,\n",
        " 'lookup': <function __main__.lookup>,\n",
        " 'lprun': <function __main__.lprun>,\n",
        " 'lstsq': <function numpy.linalg.linalg.lstsq>,\n",
        " 'ma': <module 'numpy.ma' from 'D:\\Anaconda\\64\\lib\\site-packages\\numpy\\ma\\__init__.pyc'>,\n",
        " 'mafromtxt': <function numpy.lib.npyio.mafromtxt>,\n",
        " 'margins': <function matplotlib.pyplot.margins>,\n",
        " 'mask_indices': <function numpy.lib.twodim_base.mask_indices>,\n",
        " 'mat': <function numpy.matrixlib.defmatrix.asmatrix>,\n",
        " 'math': <module 'math' (built-in)>,\n",
        " 'matplotlib': <module 'matplotlib' from 'D:\\Anaconda\\64\\lib\\site-packages\\matplotlib\\__init__.pyc'>,\n",
        " 'matrix': numpy.matrixlib.defmatrix.matrix,\n",
        " 'matrix_power': <function numpy.matrixlib.defmatrix.matrix_power>,\n",
        " 'matrix_rank': <function numpy.linalg.linalg.matrix_rank>,\n",
        " 'matshow': <function matplotlib.pyplot.matshow>,\n",
        " 'maximum': <ufunc 'maximum'>,\n",
        " 'maximum_sctype': <function numpy.core.numerictypes.maximum_sctype>,\n",
        " 'may_share_memory': <function numpy.core.multiarray.may_share_memory>,\n",
        " 'mean': <function numpy.core.fromnumeric.mean>,\n",
        " 'median': <function numpy.lib.function_base.median>,\n",
        " 'memmap': numpy.core.memmap.memmap,\n",
        " 'meshgrid': <function numpy.lib.function_base.meshgrid>,\n",
        " 'mgrid': <numpy.lib.index_tricks.nd_grid at 0x2483e48>,\n",
        " 'min_scalar_type': <function numpy.core.multiarray.min_scalar_type>,\n",
        " 'minimum': <ufunc 'minimum'>,\n",
        " 'minorticks_off': <function matplotlib.pyplot.minorticks_off>,\n",
        " 'minorticks_on': <function matplotlib.pyplot.minorticks_on>,\n",
        " 'mintypecode': <function numpy.lib.type_check.mintypecode>,\n",
        " 'mirr': <function numpy.lib.financial.mirr>,\n",
        " 'mlab': <module 'matplotlib.mlab' from 'D:\\Anaconda\\64\\lib\\site-packages\\matplotlib\\mlab.pyc'>,\n",
        " 'mod': <ufunc 'remainder'>,\n",
        " 'modf': <ufunc 'modf'>,\n",
        " 'most_votes': <function __main__.most_votes>,\n",
        " 'most_votes_check_first': <function __main__.most_votes_check_first>,\n",
        " 'most_votes_pandas': <function __main__.most_votes_pandas>,\n",
        " 'most_votes_skip_first': <function __main__.most_votes_skip_first>,\n",
        " 'most_votes_using_in': <function __main__.most_votes_using_in>,\n",
        " 'movavg': <function matplotlib.mlab.movavg>,\n",
        " 'mpl': <module 'matplotlib' from 'D:\\Anaconda\\64\\lib\\site-packages\\matplotlib\\__init__.pyc'>,\n",
        " 'ms': <function __main__.<lambda>>,\n",
        " 'msort': <function numpy.lib.function_base.msort>,\n",
        " 'multinomial': <function multinomial>,\n",
        " 'multiply': <ufunc 'multiply'>,\n",
        " 'multivariate_normal': <function multivariate_normal>,\n",
        " 'mx2num': <function matplotlib.dates.mx2num>,\n",
        " 'name': 'SUNDARAPPA',\n",
        " 'nan': nan,\n",
        " 'nan_to_num': <function numpy.lib.type_check.nan_to_num>,\n",
        " 'nanargmax': <function numpy.lib.nanfunctions.nanargmax>,\n",
        " 'nanargmin': <function numpy.lib.nanfunctions.nanargmin>,\n",
        " 'nanmax': <function numpy.lib.nanfunctions.nanmax>,\n",
        " 'nanmean': <function numpy.lib.nanfunctions.nanmean>,\n",
        " 'nanmin': <function numpy.lib.nanfunctions.nanmin>,\n",
        " 'nanstd': <function numpy.lib.nanfunctions.nanstd>,\n",
        " 'nansum': <function numpy.lib.nanfunctions.nansum>,\n",
        " 'nanvar': <function numpy.lib.nanfunctions.nanvar>,\n",
        " 'nbytes': {numpy.bool_: 1,\n",
        "  numpy.object_: 8,\n",
        "  numpy.string_: 0,\n",
        "  numpy.unicode_: 0,\n",
        "  numpy.void: 0,\n",
        "  numpy.int8: 1,\n",
        "  numpy.int16: 2,\n",
        "  numpy.int32: 4,\n",
        "  numpy.int32: 4,\n",
        "  numpy.int64: 8,\n",
        "  numpy.uint8: 1,\n",
        "  numpy.uint16: 2,\n",
        "  numpy.uint32: 4,\n",
        "  numpy.uint32: 4,\n",
        "  numpy.uint64: 8,\n",
        "  numpy.float16: 2,\n",
        "  numpy.float32: 4,\n",
        "  numpy.float64: 8,\n",
        "  numpy.float64: 8,\n",
        "  numpy.datetime64: 8,\n",
        "  numpy.timedelta64: 8,\n",
        "  numpy.complex64: 8,\n",
        "  numpy.complex128: 16,\n",
        "  numpy.complex128: 16},\n",
        " 'ndarray': numpy.ndarray,\n",
        " 'ndenumerate': numpy.lib.index_tricks.ndenumerate,\n",
        " 'ndfromtxt': <function numpy.lib.npyio.ndfromtxt>,\n",
        " 'ndim': <function numpy.core.fromnumeric.ndim>,\n",
        " 'ndindex': numpy.lib.index_tricks.ndindex,\n",
        " 'nditer': numpy.nditer,\n",
        " 'negative': <ufunc 'negative'>,\n",
        " 'negative_binomial': <function negative_binomial>,\n",
        " 'nested_iters': <function numpy.core.multiarray.nested_iters>,\n",
        " 'new_figure_manager': <function matplotlib.backends.backend_agg.new_figure_manager>,\n",
        " 'newaxis': None,\n",
        " 'newbuffer': <function numpy.core.multiarray.newbuffer>,\n",
        " 'nextafter': <ufunc 'nextafter'>,\n",
        " 'noncentral_chisquare': <function noncentral_chisquare>,\n",
        " 'noncentral_f': <function noncentral_f>,\n",
        " 'nonzero': <function numpy.core.fromnumeric.nonzero>,\n",
        " 'norm': <function numpy.linalg.linalg.norm>,\n",
        " 'norm_flat': <function matplotlib.mlab.norm_flat>,\n",
        " 'normal': <function normal>,\n",
        " 'normalize': <function matplotlib.colors.Normalize>,\n",
        " 'normpdf': <function matplotlib.mlab.normpdf>,\n",
        " 'not_equal': <ufunc 'not_equal'>,\n",
        " 'np': <module 'numpy' from 'D:\\Anaconda\\64\\lib\\site-packages\\numpy\\__init__.pyc'>,\n",
        " 'nper': <function numpy.lib.financial.nper>,\n",
        " 'npv': <function numpy.lib.financial.npv>,\n",
        " 'num2date': <function matplotlib.dates.num2date>,\n",
        " 'num2epoch': <function matplotlib.dates.num2epoch>,\n",
        " 'number': numpy.number,\n",
        " 'numpy': <module 'numpy' from 'D:\\Anaconda\\64\\lib\\site-packages\\numpy\\__init__.pyc'>,\n",
        " 'obj2sctype': <function numpy.core.numerictypes.obj2sctype>,\n",
        " 'object0': numpy.object_,\n",
        " 'object_': numpy.object_,\n",
        " 'ogrid': <numpy.lib.index_tricks.nd_grid at 0x2483eb8>,\n",
        " 'ones': <function numpy.core.numeric.ones>,\n",
        " 'ones_like': <function numpy.core.numeric.ones_like>,\n",
        " 'operator': <module 'operator' (built-in)>,\n",
        " 'os': <module 'os' from 'D:\\Anaconda\\64\\lib\\os.pyc'>,\n",
        " 'out': <closed file 'sample.dates.csv', mode 'w' at 0x00000000144C4810>,\n",
        " 'outer': <function numpy.core.numeric.outer>,\n",
        " 'over': <function matplotlib.pyplot.over>,\n",
        " 'packbits': <function numpy.lib._compiled_base.packbits>,\n",
        " 'pad': <function numpy.lib.arraypad.pad>,\n",
        " 'pareto': <function pareto>,\n",
        " 'parse': <function dateutil.parser.parse>,\n",
        " 'partition': <function numpy.core.fromnumeric.partition>,\n",
        " 'path_length': <function matplotlib.mlab.path_length>,\n",
        " 'pause': <function matplotlib.pyplot.pause>,\n",
        " 'pcolor': <function matplotlib.pyplot.pcolor>,\n",
        " 'pcolormesh': <function matplotlib.pyplot.pcolormesh>,\n",
        " 'pd': <module 'pandas' from 'D:\\Anaconda\\64\\lib\\site-packages\\pandas\\__init__.pyc'>,\n",
        " 'percentile': <function numpy.lib.function_base.percentile>,\n",
        " 'permutation': <function permutation>,\n",
        " 'pi': 3.141592653589793,\n",
        " 'pickle': <module 'cPickle' (built-in)>,\n",
        " 'pie': <function matplotlib.pyplot.pie>,\n",
        " 'piecewise': <function numpy.lib.function_base.piecewise>,\n",
        " 'pink': <function matplotlib.pyplot.pink>,\n",
        " 'pinv': <function numpy.linalg.linalg.pinv>,\n",
        " 'pkgload': <function numpy.pkgload>,\n",
        " 'place': <function numpy.lib.function_base.place>,\n",
        " 'plot': <function matplotlib.pyplot.plot>,\n",
        " 'plot_date': <function matplotlib.pyplot.plot_date>,\n",
        " 'plotfile': <function matplotlib.pyplot.plotfile>,\n",
        " 'plotting': <function matplotlib.pyplot.plotting>,\n",
        " 'plt': <module 'matplotlib.pyplot' from 'D:\\Anaconda\\64\\lib\\site-packages\\matplotlib\\pyplot.pyc'>,\n",
        " 'pmt': <function numpy.lib.financial.pmt>,\n",
        " 'poisson': <function poisson>,\n",
        " 'polar': <function matplotlib.pyplot.polar>,\n",
        " 'poly': <function numpy.lib.polynomial.poly>,\n",
        " 'poly1d': numpy.lib.polynomial.poly1d,\n",
        " 'poly_below': <function matplotlib.mlab.poly_below>,\n",
        " 'poly_between': <function matplotlib.mlab.poly_between>,\n",
        " 'polyadd': <function numpy.lib.polynomial.polyadd>,\n",
        " 'polyder': <function numpy.lib.polynomial.polyder>,\n",
        " 'polydiv': <function numpy.lib.polynomial.polydiv>,\n",
        " 'polyfit': <function numpy.lib.polynomial.polyfit>,\n",
        " 'polyint': <function numpy.lib.polynomial.polyint>,\n",
        " 'polymul': <function numpy.lib.polynomial.polymul>,\n",
        " 'polysub': <function numpy.lib.polynomial.polysub>,\n",
        " 'polyval': <function numpy.lib.polynomial.polyval>,\n",
        " 'power': <ufunc 'power'>,\n",
        " 'ppmt': <function numpy.lib.financial.ppmt>,\n",
        " 'prctile': <function matplotlib.mlab.prctile>,\n",
        " 'prctile_rank': <function matplotlib.mlab.prctile_rank>,\n",
        " 'prepca': <function matplotlib.mlab.prepca>,\n",
        " 'print_function': _Feature((2, 6, 0, 'alpha', 2), (3, 0, 0, 'alpha', 0), 65536),\n",
        " 'prism': <function matplotlib.pyplot.prism>,\n",
        " 'prod': <function numpy.core.fromnumeric.prod>,\n",
        " 'product': <function numpy.core.fromnumeric.product>,\n",
        " 'promote_types': <function numpy.core.multiarray.promote_types>,\n",
        " 'psd': <function matplotlib.pyplot.psd>,\n",
        " 'ptp': <function numpy.core.fromnumeric.ptp>,\n",
        " 'put': <function numpy.core.fromnumeric.put>,\n",
        " 'putmask': <function numpy.core.multiarray.putmask>,\n",
        " 'pv': <function numpy.lib.financial.pv>,\n",
        " 'pylab': <module 'matplotlib.pylab' from 'D:\\Anaconda\\64\\lib\\site-packages\\matplotlib\\pylab.pyc'>,\n",
        " 'pylab_setup': <function matplotlib.backends.pylab_setup>,\n",
        " 'pyplot': <module 'matplotlib.pyplot' from 'D:\\Anaconda\\64\\lib\\site-packages\\matplotlib\\pyplot.pyc'>,\n",
        " 'qr': <function numpy.linalg.linalg.qr>,\n",
        " 'quit': <IPython.core.autocall.ZMQExitAutocall at 0x3683668>,\n",
        " 'quiver': <function matplotlib.pyplot.quiver>,\n",
        " 'quiverkey': <function matplotlib.pyplot.quiverkey>,\n",
        " 'r_': <numpy.lib.index_tricks.RClass at 0x2483f28>,\n",
        " 'rad2deg': <ufunc 'rad2deg'>,\n",
        " 'radians': <ufunc 'radians'>,\n",
        " 'rand': <function rand>,\n",
        " 'randint': <function randint>,\n",
        " 'randn': <function randn>,\n",
        " 'random': <module 'random' from 'D:\\Anaconda\\64\\lib\\random.pyc'>,\n",
        " 'random_integers': <function random_integers>,\n",
        " 'random_sample': <function random_sample>,\n",
        " 'ranf': <function random_sample>,\n",
        " 'rank': <function numpy.core.fromnumeric.rank>,\n",
        " 'rate': <function numpy.lib.financial.rate>,\n",
        " 'ravel': <function numpy.core.fromnumeric.ravel>,\n",
        " 'ravel_multi_index': <function numpy.lib._compiled_base.ravel_multi_index>,\n",
        " 'rayleigh': <function rayleigh>,\n",
        " 'rc': <function matplotlib.pyplot.rc>,\n",
        " 'rcParams': RcParams({'agg.path.chunksize': 0,\n",
        "          'animation.avconv_args': '',\n",
        "          'animation.avconv_path': 'avconv',\n",
        "          'animation.bitrate': -1,\n",
        "          'animation.codec': 'mpeg4',\n",
        "          'animation.convert_args': '',\n",
        "          'animation.convert_path': 'convert',\n",
        "          'animation.ffmpeg_args': '',\n",
        "          'animation.ffmpeg_path': 'ffmpeg',\n",
        "          'animation.frame_format': 'png',\n",
        "          'animation.mencoder_args': '',\n",
        "          'animation.mencoder_path': 'mencoder',\n",
        "          'animation.writer': 'ffmpeg',\n",
        "          'axes.axisbelow': False,\n",
        "          'axes.color_cycle': ['b', 'g', 'r', 'c', 'm', 'y', 'k'],\n",
        "          'axes.edgecolor': 'k',\n",
        "          'axes.facecolor': 'w',\n",
        "          'axes.formatter.limits': [-7, 7],\n",
        "          'axes.formatter.use_locale': False,\n",
        "          'axes.formatter.use_mathtext': False,\n",
        "          'axes.grid': False,\n",
        "          'axes.hold': True,\n",
        "          'axes.labelcolor': 'k',\n",
        "          'axes.labelsize': 'medium',\n",
        "          'axes.labelweight': 'normal',\n",
        "          'axes.linewidth': 1.0,\n",
        "          'axes.titlesize': 'large',\n",
        "          'axes.unicode_minus': True,\n",
        "          'axes.xmargin': 0,\n",
        "          'axes.ymargin': 0,\n",
        "          'axes3d.grid': True,\n",
        "          'backend': 'module://IPython.kernel.zmq.pylab.backend_inline',\n",
        "          'backend.qt4': 'PyQt4',\n",
        "          'backend_fallback': True,\n",
        "          'contour.negative_linestyle': 'dashed',\n",
        "          'datapath': 'D:\\\\Anaconda\\\\64\\\\lib\\\\site-packages\\\\matplotlib\\\\mpl-data',\n",
        "          'docstring.hardcopy': False,\n",
        "          'examples.directory': '',\n",
        "          'figure.autolayout': False,\n",
        "          'figure.dpi': 80,\n",
        "          'figure.edgecolor': (1, 1, 1, 0),\n",
        "          'figure.facecolor': (1, 1, 1, 0),\n",
        "          'figure.figsize': (6.0, 4.0),\n",
        "          'figure.frameon': True,\n",
        "          'figure.max_open_warning': 20,\n",
        "          'figure.subplot.bottom': 0.125,\n",
        "          'figure.subplot.hspace': 0.2,\n",
        "          'figure.subplot.left': 0.125,\n",
        "          'figure.subplot.right': 0.9,\n",
        "          'figure.subplot.top': 0.9,\n",
        "          'figure.subplot.wspace': 0.2,\n",
        "          'font.cursive': ['Apple Chancery',\n",
        "                           'Textile',\n",
        "                           'Zapf Chancery',\n",
        "                           'Sand',\n",
        "                           'cursive'],\n",
        "          'font.family': 'sans-serif',\n",
        "          'font.fantasy': ['Comic Sans MS',\n",
        "                           'Chicago',\n",
        "                           'Charcoal',\n",
        "                           'ImpactWestern',\n",
        "                           'fantasy'],\n",
        "          'font.monospace': ['Bitstream Vera Sans Mono',\n",
        "                             'DejaVu Sans Mono',\n",
        "                             'Andale Mono',\n",
        "                             'Nimbus Mono L',\n",
        "                             'Courier New',\n",
        "                             'Courier',\n",
        "                             'Fixed',\n",
        "                             'Terminal',\n",
        "                             'monospace'],\n",
        "          'font.sans-serif': ['Bitstream Vera Sans',\n",
        "                              'DejaVu Sans',\n",
        "                              'Lucida Grande',\n",
        "                              'Verdana',\n",
        "                              'Geneva',\n",
        "                              'Lucid',\n",
        "                              'Arial',\n",
        "                              'Helvetica',\n",
        "                              'Avant Garde',\n",
        "                              'sans-serif'],\n",
        "          'font.serif': ['Bitstream Vera Serif',\n",
        "                         'DejaVu Serif',\n",
        "                         'New Century Schoolbook',\n",
        "                         'Century Schoolbook L',\n",
        "                         'Utopia',\n",
        "                         'ITC Bookman',\n",
        "                         'Bookman',\n",
        "                         'Nimbus Roman No9 L',\n",
        "                         'Times New Roman',\n",
        "                         'Times',\n",
        "                         'Palatino',\n",
        "                         'Charter',\n",
        "                         'serif'],\n",
        "          'font.size': 10,\n",
        "          'font.stretch': 'normal',\n",
        "          'font.style': 'normal',\n",
        "          'font.variant': 'normal',\n",
        "          'font.weight': 'normal',\n",
        "          'grid.alpha': 1.0,\n",
        "          'grid.color': 'k',\n",
        "          'grid.linestyle': ':',\n",
        "          'grid.linewidth': 0.5,\n",
        "          'image.aspect': 'equal',\n",
        "          'image.cmap': 'jet',\n",
        "          'image.interpolation': 'bilinear',\n",
        "          'image.lut': 256,\n",
        "          'image.origin': 'upper',\n",
        "          'image.resample': False,\n",
        "          'interactive': True,\n",
        "          'keymap.all_axes': 'a',\n",
        "          'keymap.back': ['left', 'c', 'backspace'],\n",
        "          'keymap.forward': ['right', 'v'],\n",
        "          'keymap.fullscreen': ('f', 'ctrl+f'),\n",
        "          'keymap.grid': 'g',\n",
        "          'keymap.home': ['h', 'r', 'home'],\n",
        "          'keymap.pan': 'p',\n",
        "          'keymap.quit': ('ctrl+w', 'cmd+w'),\n",
        "          'keymap.save': ('s', 'ctrl+s'),\n",
        "          'keymap.xscale': ['k', 'L'],\n",
        "          'keymap.yscale': 'l',\n",
        "          'keymap.zoom': 'o',\n",
        "          'legend.borderaxespad': 0.5,\n",
        "          'legend.borderpad': 0.4,\n",
        "          'legend.columnspacing': 2.0,\n",
        "          'legend.fancybox': False,\n",
        "          'legend.fontsize': 'large',\n",
        "          'legend.frameon': True,\n",
        "          'legend.handleheight': 0.7,\n",
        "          'legend.handlelength': 2.0,\n",
        "          'legend.handletextpad': 0.8,\n",
        "          'legend.isaxes': True,\n",
        "          'legend.labelspacing': 0.5,\n",
        "          'legend.loc': 'upper right',\n",
        "          'legend.markerscale': 1.0,\n",
        "          'legend.numpoints': 2,\n",
        "          'legend.scatterpoints': 3,\n",
        "          'legend.shadow': False,\n",
        "          'lines.antialiased': True,\n",
        "          'lines.color': 'b',\n",
        "          'lines.dash_capstyle': 'butt',\n",
        "          'lines.dash_joinstyle': 'round',\n",
        "          'lines.linestyle': '-',\n",
        "          'lines.linewidth': 1.0,\n",
        "          'lines.marker': 'None',\n",
        "          'lines.markeredgewidth': 0.5,\n",
        "          'lines.markersize': 6,\n",
        "          'lines.solid_capstyle': 'projecting',\n",
        "          'lines.solid_joinstyle': 'round',\n",
        "          'mathtext.bf': 'serif:bold',\n",
        "          'mathtext.cal': 'cursive',\n",
        "          'mathtext.default': 'it',\n",
        "          'mathtext.fallback_to_cm': True,\n",
        "          'mathtext.fontset': 'cm',\n",
        "          'mathtext.it': 'serif:italic',\n",
        "          'mathtext.rm': 'serif',\n",
        "          'mathtext.sf': 'sans\\\\-serif',\n",
        "          'mathtext.tt': 'monospace',\n",
        "          'patch.antialiased': True,\n",
        "          'patch.edgecolor': 'k',\n",
        "          'patch.facecolor': 'b',\n",
        "          'patch.linewidth': 1.0,\n",
        "          'path.effects': [],\n",
        "          'path.simplify': True,\n",
        "          'path.simplify_threshold': 0.1111111111111111,\n",
        "          'path.sketch': None,\n",
        "          'path.snap': True,\n",
        "          'pdf.compression': 6,\n",
        "          'pdf.fonttype': 3,\n",
        "          'pdf.inheritcolor': False,\n",
        "          'pdf.use14corefonts': False,\n",
        "          'pgf.debug': False,\n",
        "          'pgf.preamble': [''],\n",
        "          'pgf.rcfonts': True,\n",
        "          'pgf.texsystem': 'xelatex',\n",
        "          'plugins.directory': '.matplotlib_plugins',\n",
        "          'polaraxes.grid': True,\n",
        "          'ps.distiller.res': 6000,\n",
        "          'ps.fonttype': 3,\n",
        "          'ps.papersize': 'letter',\n",
        "          'ps.useafm': False,\n",
        "          'ps.usedistiller': False,\n",
        "          'savefig.bbox': None,\n",
        "          'savefig.directory': '~',\n",
        "          'savefig.dpi': 72,\n",
        "          'savefig.edgecolor': 'w',\n",
        "          'savefig.extension': 'png',\n",
        "          'savefig.facecolor': 'w',\n",
        "          'savefig.format': 'png',\n",
        "          'savefig.frameon': True,\n",
        "          'savefig.jpeg_quality': 95,\n",
        "          'savefig.orientation': 'portrait',\n",
        "          'savefig.pad_inches': 0.1,\n",
        "          'svg.embed_char_paths': True,\n",
        "          'svg.fonttype': 'path',\n",
        "          'svg.image_inline': True,\n",
        "          'svg.image_noscale': False,\n",
        "          'text.antialiased': True,\n",
        "          'text.color': 'k',\n",
        "          'text.dvipnghack': None,\n",
        "          'text.hinting': True,\n",
        "          'text.hinting_factor': 8,\n",
        "          'text.latex.preamble': [''],\n",
        "          'text.latex.preview': False,\n",
        "          'text.latex.unicode': False,\n",
        "          'text.usetex': False,\n",
        "          'timezone': 'UTC',\n",
        "          'tk.pythoninspect': False,\n",
        "          'tk.window_focus': False,\n",
        "          'toolbar': 'toolbar2',\n",
        "          'verbose.fileo': 'sys.stdout',\n",
        "          'verbose.level': 'silent',\n",
        "          'webagg.open_in_browser': True,\n",
        "          'webagg.port': 8988,\n",
        "          'webagg.port_retries': 50,\n",
        "          'xtick.color': 'k',\n",
        "          'xtick.direction': 'in',\n",
        "          'xtick.labelsize': 'medium',\n",
        "          'xtick.major.pad': 4,\n",
        "          'xtick.major.size': 4,\n",
        "          'xtick.major.width': 0.5,\n",
        "          'xtick.minor.pad': 4,\n",
        "          'xtick.minor.size': 2,\n",
        "          'xtick.minor.width': 0.5,\n",
        "          'ytick.color': 'k',\n",
        "          'ytick.direction': 'in',\n",
        "          'ytick.labelsize': 'medium',\n",
        "          'ytick.major.pad': 4,\n",
        "          'ytick.major.size': 4,\n",
        "          'ytick.major.width': 0.5,\n",
        "          'ytick.minor.pad': 4,\n",
        "          'ytick.minor.size': 2,\n",
        "          'ytick.minor.width': 0.5}),\n",
        " 'rcParamsDefault': RcParams({'agg.path.chunksize': 0,\n",
        "          'animation.avconv_args': '',\n",
        "          'animation.avconv_path': 'avconv',\n",
        "          'animation.bitrate': -1,\n",
        "          'animation.codec': 'mpeg4',\n",
        "          'animation.convert_args': '',\n",
        "          'animation.convert_path': 'convert',\n",
        "          'animation.ffmpeg_args': '',\n",
        "          'animation.ffmpeg_path': 'ffmpeg',\n",
        "          'animation.frame_format': 'png',\n",
        "          'animation.mencoder_args': '',\n",
        "          'animation.mencoder_path': 'mencoder',\n",
        "          'animation.writer': 'ffmpeg',\n",
        "          'axes.axisbelow': False,\n",
        "          'axes.color_cycle': ['b', 'g', 'r', 'c', 'm', 'y', 'k'],\n",
        "          'axes.edgecolor': 'k',\n",
        "          'axes.facecolor': 'w',\n",
        "          'axes.formatter.limits': [-7, 7],\n",
        "          'axes.formatter.use_locale': False,\n",
        "          'axes.formatter.use_mathtext': False,\n",
        "          'axes.grid': False,\n",
        "          'axes.hold': True,\n",
        "          'axes.labelcolor': 'k',\n",
        "          'axes.labelsize': 'medium',\n",
        "          'axes.labelweight': 'normal',\n",
        "          'axes.linewidth': 1.0,\n",
        "          'axes.titlesize': 'large',\n",
        "          'axes.unicode_minus': True,\n",
        "          'axes.xmargin': 0,\n",
        "          'axes.ymargin': 0,\n",
        "          'axes3d.grid': True,\n",
        "          'backend': 'Agg',\n",
        "          'backend.qt4': 'PyQt4',\n",
        "          'backend_fallback': True,\n",
        "          'contour.negative_linestyle': 'dashed',\n",
        "          'datapath': 'D:\\\\Anaconda\\\\64\\\\lib\\\\site-packages\\\\matplotlib\\\\mpl-data',\n",
        "          'docstring.hardcopy': False,\n",
        "          'examples.directory': '',\n",
        "          'figure.autolayout': False,\n",
        "          'figure.dpi': 80,\n",
        "          'figure.edgecolor': 'w',\n",
        "          'figure.facecolor': '0.75',\n",
        "          'figure.figsize': [8.0, 6.0],\n",
        "          'figure.frameon': True,\n",
        "          'figure.max_open_warning': 20,\n",
        "          'figure.subplot.bottom': 0.1,\n",
        "          'figure.subplot.hspace': 0.2,\n",
        "          'figure.subplot.left': 0.125,\n",
        "          'figure.subplot.right': 0.9,\n",
        "          'figure.subplot.top': 0.9,\n",
        "          'figure.subplot.wspace': 0.2,\n",
        "          'font.cursive': ['Apple Chancery',\n",
        "                           'Textile',\n",
        "                           'Zapf Chancery',\n",
        "                           'Sand',\n",
        "                           'cursive'],\n",
        "          'font.family': 'sans-serif',\n",
        "          'font.fantasy': ['Comic Sans MS',\n",
        "                           'Chicago',\n",
        "                           'Charcoal',\n",
        "                           'ImpactWestern',\n",
        "                           'fantasy'],\n",
        "          'font.monospace': ['Bitstream Vera Sans Mono',\n",
        "                             'DejaVu Sans Mono',\n",
        "                             'Andale Mono',\n",
        "                             'Nimbus Mono L',\n",
        "                             'Courier New',\n",
        "                             'Courier',\n",
        "                             'Fixed',\n",
        "                             'Terminal',\n",
        "                             'monospace'],\n",
        "          'font.sans-serif': ['Bitstream Vera Sans',\n",
        "                              'DejaVu Sans',\n",
        "                              'Lucida Grande',\n",
        "                              'Verdana',\n",
        "                              'Geneva',\n",
        "                              'Lucid',\n",
        "                              'Arial',\n",
        "                              'Helvetica',\n",
        "                              'Avant Garde',\n",
        "                              'sans-serif'],\n",
        "          'font.serif': ['Bitstream Vera Serif',\n",
        "                         'DejaVu Serif',\n",
        "                         'New Century Schoolbook',\n",
        "                         'Century Schoolbook L',\n",
        "                         'Utopia',\n",
        "                         'ITC Bookman',\n",
        "                         'Bookman',\n",
        "                         'Nimbus Roman No9 L',\n",
        "                         'Times New Roman',\n",
        "                         'Times',\n",
        "                         'Palatino',\n",
        "                         'Charter',\n",
        "                         'serif'],\n",
        "          'font.size': 12,\n",
        "          'font.stretch': 'normal',\n",
        "          'font.style': 'normal',\n",
        "          'font.variant': 'normal',\n",
        "          'font.weight': 'normal',\n",
        "          'grid.alpha': 1.0,\n",
        "          'grid.color': 'k',\n",
        "          'grid.linestyle': ':',\n",
        "          'grid.linewidth': 0.5,\n",
        "          'image.aspect': 'equal',\n",
        "          'image.cmap': 'jet',\n",
        "          'image.interpolation': 'bilinear',\n",
        "          'image.lut': 256,\n",
        "          'image.origin': 'upper',\n",
        "          'image.resample': False,\n",
        "          'interactive': False,\n",
        "          'keymap.all_axes': 'a',\n",
        "          'keymap.back': ['left', 'c', 'backspace'],\n",
        "          'keymap.forward': ['right', 'v'],\n",
        "          'keymap.fullscreen': ('f', 'ctrl+f'),\n",
        "          'keymap.grid': 'g',\n",
        "          'keymap.home': ['h', 'r', 'home'],\n",
        "          'keymap.pan': 'p',\n",
        "          'keymap.quit': ('ctrl+w', 'cmd+w'),\n",
        "          'keymap.save': ('s', 'ctrl+s'),\n",
        "          'keymap.xscale': ['k', 'L'],\n",
        "          'keymap.yscale': 'l',\n",
        "          'keymap.zoom': 'o',\n",
        "          'legend.borderaxespad': 0.5,\n",
        "          'legend.borderpad': 0.4,\n",
        "          'legend.columnspacing': 2.0,\n",
        "          'legend.fancybox': False,\n",
        "          'legend.fontsize': 'large',\n",
        "          'legend.frameon': True,\n",
        "          'legend.handleheight': 0.7,\n",
        "          'legend.handlelength': 2.0,\n",
        "          'legend.handletextpad': 0.8,\n",
        "          'legend.isaxes': True,\n",
        "          'legend.labelspacing': 0.5,\n",
        "          'legend.loc': 'upper right',\n",
        "          'legend.markerscale': 1.0,\n",
        "          'legend.numpoints': 2,\n",
        "          'legend.scatterpoints': 3,\n",
        "          'legend.shadow': False,\n",
        "          'lines.antialiased': True,\n",
        "          'lines.color': 'b',\n",
        "          'lines.dash_capstyle': 'butt',\n",
        "          'lines.dash_joinstyle': 'round',\n",
        "          'lines.linestyle': '-',\n",
        "          'lines.linewidth': 1.0,\n",
        "          'lines.marker': 'None',\n",
        "          'lines.markeredgewidth': 0.5,\n",
        "          'lines.markersize': 6,\n",
        "          'lines.solid_capstyle': 'projecting',\n",
        "          'lines.solid_joinstyle': 'round',\n",
        "          'mathtext.bf': 'serif:bold',\n",
        "          'mathtext.cal': 'cursive',\n",
        "          'mathtext.default': 'it',\n",
        "          'mathtext.fallback_to_cm': True,\n",
        "          'mathtext.fontset': 'cm',\n",
        "          'mathtext.it': 'serif:italic',\n",
        "          'mathtext.rm': 'serif',\n",
        "          'mathtext.sf': 'sans\\\\-serif',\n",
        "          'mathtext.tt': 'monospace',\n",
        "          'patch.antialiased': True,\n",
        "          'patch.edgecolor': 'k',\n",
        "          'patch.facecolor': 'b',\n",
        "          'patch.linewidth': 1.0,\n",
        "          'path.effects': [],\n",
        "          'path.simplify': True,\n",
        "          'path.simplify_threshold': 0.1111111111111111,\n",
        "          'path.sketch': None,\n",
        "          'path.snap': True,\n",
        "          'pdf.compression': 6,\n",
        "          'pdf.fonttype': 3,\n",
        "          'pdf.inheritcolor': False,\n",
        "          'pdf.use14corefonts': False,\n",
        "          'pgf.debug': False,\n",
        "          'pgf.preamble': [''],\n",
        "          'pgf.rcfonts': True,\n",
        "          'pgf.texsystem': 'xelatex',\n",
        "          'plugins.directory': '.matplotlib_plugins',\n",
        "          'polaraxes.grid': True,\n",
        "          'ps.distiller.res': 6000,\n",
        "          'ps.fonttype': 3,\n",
        "          'ps.papersize': 'letter',\n",
        "          'ps.useafm': False,\n",
        "          'ps.usedistiller': False,\n",
        "          'savefig.bbox': None,\n",
        "          'savefig.directory': '~',\n",
        "          'savefig.dpi': 100,\n",
        "          'savefig.edgecolor': 'w',\n",
        "          'savefig.extension': 'png',\n",
        "          'savefig.facecolor': 'w',\n",
        "          'savefig.format': 'png',\n",
        "          'savefig.frameon': True,\n",
        "          'savefig.jpeg_quality': 95,\n",
        "          'savefig.orientation': 'portrait',\n",
        "          'savefig.pad_inches': 0.1,\n",
        "          'svg.embed_char_paths': True,\n",
        "          'svg.fonttype': 'path',\n",
        "          'svg.image_inline': True,\n",
        "          'svg.image_noscale': False,\n",
        "          'text.antialiased': True,\n",
        "          'text.color': 'k',\n",
        "          'text.dvipnghack': None,\n",
        "          'text.hinting': True,\n",
        "          'text.hinting_factor': 8,\n",
        "          'text.latex.preamble': [''],\n",
        "          'text.latex.preview': False,\n",
        "          'text.latex.unicode': False,\n",
        "          'text.usetex': False,\n",
        "          'timezone': 'UTC',\n",
        "          'tk.pythoninspect': False,\n",
        "          'tk.window_focus': False,\n",
        "          'toolbar': 'toolbar2',\n",
        "          'verbose.fileo': 'sys.stdout',\n",
        "          'verbose.level': 'silent',\n",
        "          'webagg.open_in_browser': True,\n",
        "          'webagg.port': 8988,\n",
        "          'webagg.port_retries': 50,\n",
        "          'xtick.color': 'k',\n",
        "          'xtick.direction': 'in',\n",
        "          'xtick.labelsize': 'medium',\n",
        "          'xtick.major.pad': 4,\n",
        "          'xtick.major.size': 4,\n",
        "          'xtick.major.width': 0.5,\n",
        "          'xtick.minor.pad': 4,\n",
        "          'xtick.minor.size': 2,\n",
        "          'xtick.minor.width': 0.5,\n",
        "          'ytick.color': 'k',\n",
        "          'ytick.direction': 'in',\n",
        "          'ytick.labelsize': 'medium',\n",
        "          'ytick.major.pad': 4,\n",
        "          'ytick.major.size': 4,\n",
        "          'ytick.major.width': 0.5,\n",
        "          'ytick.minor.pad': 4,\n",
        "          'ytick.minor.size': 2,\n",
        "          'ytick.minor.width': 0.5}),\n",
        " 'rc_context': <function matplotlib.pyplot.rc_context>,\n",
        " 'rcdefaults': <function matplotlib.pyplot.rcdefaults>,\n",
        " 'real': <function numpy.lib.type_check.real>,\n",
        " 'real_if_close': <function numpy.lib.type_check.real_if_close>,\n",
        " 'rec': <module 'numpy.core.records' from 'D:\\Anaconda\\64\\lib\\site-packages\\numpy\\core\\records.pyc'>,\n",
        " 'rec2csv': <function matplotlib.mlab.rec2csv>,\n",
        " 'rec_append_fields': <function matplotlib.mlab.rec_append_fields>,\n",
        " 'rec_drop_fields': <function matplotlib.mlab.rec_drop_fields>,\n",
        " 'rec_join': <function matplotlib.mlab.rec_join>,\n",
        " 'recarray': numpy.core.records.recarray,\n",
        " 'recfromcsv': <function numpy.lib.npyio.recfromcsv>,\n",
        " 'recfromtxt': <function numpy.lib.npyio.recfromtxt>,\n",
        " 'reciprocal': <ufunc 'reciprocal'>,\n",
        " 'record': numpy.core.records.record,\n",
        " 'register_cmap': <function matplotlib.cm.register_cmap>,\n",
        " 'relativedelta': dateutil.relativedelta.relativedelta,\n",
        " 'remainder': <ufunc 'remainder'>,\n",
        " 'repeat': <function numpy.core.fromnumeric.repeat>,\n",
        " 'require': <function numpy.core.numeric.require>,\n",
        " 'reshape': <function numpy.core.fromnumeric.reshape>,\n",
        " 'resize': <function numpy.core.fromnumeric.resize>,\n",
        " 'restoredot': <function numpy.core._dotblas.restoredot>,\n",
        " 'result_type': <function numpy.core.multiarray.result_type>,\n",
        " 'rfft': <function numpy.fft.fftpack.rfft>,\n",
        " 'rfft2': <function numpy.fft.fftpack.rfft2>,\n",
        " 'rfftfreq': <function numpy.fft.helper.rfftfreq>,\n",
        " 'rfftn': <function numpy.fft.fftpack.rfftn>,\n",
        " 'rgrids': <function matplotlib.pyplot.rgrids>,\n",
        " 'right_shift': <ufunc 'right_shift'>,\n",
        " 'rint': <ufunc 'rint'>,\n",
        " 'rk4': <function matplotlib.mlab.rk4>,\n",
        " 'rms_flat': <function matplotlib.mlab.rms_flat>,\n",
        " 'roll': <function numpy.core.numeric.roll>,\n",
        " 'rollaxis': <function numpy.core.numeric.rollaxis>,\n",
        " 'roots': <function numpy.lib.polynomial.roots>,\n",
        " 'rot90': <function numpy.lib.twodim_base.rot90>,\n",
        " 'round_': <function numpy.core.fromnumeric.round_>,\n",
        " 'row': 999999,\n",
        " 'row_stack': <function numpy.core.shape_base.vstack>,\n",
        " 'rrule': dateutil.rrule.rrule,\n",
        " 's': 0     01-31-2012\n",
        " 1     01-31-2012\n",
        " 2     01-31-2012\n",
        " 3     01-31-2012\n",
        " 4     01-31-2012\n",
        " 5     01-31-2012\n",
        " 6     01-31-2012\n",
        " 7     01-31-2012\n",
        " 8     01-31-2012\n",
        " 9     01-31-2012\n",
        " 10    01-31-2012\n",
        " 11    01-31-2012\n",
        " 12    01-31-2012\n",
        " 13    01-31-2012\n",
        " 14    01-31-2012\n",
        " ...\n",
        " 99985    01-31-2012\n",
        " 99986    01-31-2012\n",
        " 99987    01-31-2012\n",
        " 99988    01-31-2012\n",
        " 99989    01-31-2012\n",
        " 99990    01-31-2012\n",
        " 99991    01-31-2012\n",
        " 99992    01-31-2012\n",
        " 99993    01-31-2012\n",
        " 99994    01-31-2012\n",
        " 99995    01-31-2012\n",
        " 99996    01-31-2012\n",
        " 99997    01-31-2012\n",
        " 99998    01-31-2012\n",
        " 99999    01-31-2012\n",
        " Length: 100000, dtype: object,\n",
        " 's_': <numpy.lib.index_tricks.IndexExpression at 0x248f128>,\n",
        " 'safe_eval': <function numpy.lib.utils.safe_eval>,\n",
        " 'sample': <function random_sample>,\n",
        " 'save': <function numpy.lib.npyio.save>,\n",
        " 'savefig': <function matplotlib.pyplot.savefig>,\n",
        " 'savetxt': <function numpy.lib.npyio.savetxt>,\n",
        " 'savez': <function numpy.lib.npyio.savez>,\n",
        " 'savez_compressed': <function numpy.lib.npyio.savez_compressed>,\n",
        " 'sca': <function matplotlib.pyplot.sca>,\n",
        " 'scatter': <function matplotlib.pyplot.scatter>,\n",
        " 'sci': <function matplotlib.pyplot.sci>,\n",
        " 'sctype2char': <function numpy.core.numerictypes.sctype2char>,\n",
        " 'sctypeDict': {0: numpy.bool_,\n",
        "  1: numpy.int8,\n",
        "  2: numpy.uint8,\n",
        "  3: numpy.int16,\n",
        "  4: numpy.uint16,\n",
        "  5: numpy.int32,\n",
        "  6: numpy.uint32,\n",
        "  7: numpy.int32,\n",
        "  8: numpy.uint32,\n",
        "  9: numpy.int64,\n",
        "  10: numpy.uint64,\n",
        "  11: numpy.float32,\n",
        "  12: numpy.float64,\n",
        "  13: numpy.float64,\n",
        "  14: numpy.complex64,\n",
        "  15: numpy.complex128,\n",
        "  16: numpy.complex128,\n",
        "  17: numpy.object_,\n",
        "  18: numpy.string_,\n",
        "  19: numpy.unicode_,\n",
        "  20: numpy.void,\n",
        "  21: numpy.datetime64,\n",
        "  22: numpy.timedelta64,\n",
        "  23: numpy.float16,\n",
        "  '?': numpy.bool_,\n",
        "  'B': numpy.uint8,\n",
        "  'Bool': numpy.bool_,\n",
        "  'Complex32': numpy.complex64,\n",
        "  'Complex64': numpy.complex128,\n",
        "  'D': numpy.complex128,\n",
        "  'Datetime64': numpy.datetime64,\n",
        "  'F': numpy.complex64,\n",
        "  'Float16': numpy.float16,\n",
        "  'Float32': numpy.float32,\n",
        "  'Float64': numpy.float64,\n",
        "  'G': numpy.complex128,\n",
        "  'H': numpy.uint16,\n",
        "  'I': numpy.uint32,\n",
        "  'Int16': numpy.int16,\n",
        "  'Int32': numpy.int32,\n",
        "  'Int64': numpy.int64,\n",
        "  'Int8': numpy.int8,\n",
        "  'L': numpy.uint32,\n",
        "  'M': numpy.datetime64,\n",
        "  'M8': numpy.datetime64,\n",
        "  'O': numpy.object_,\n",
        "  'O8': numpy.object_,\n",
        "  'Object0': numpy.object_,\n",
        "  'P': numpy.uint64,\n",
        "  'Q': numpy.uint64,\n",
        "  'S': numpy.string_,\n",
        "  'String0': numpy.string_,\n",
        "  'Timedelta64': numpy.timedelta64,\n",
        "  'U': numpy.unicode_,\n",
        "  'UInt16': numpy.uint16,\n",
        "  'UInt32': numpy.uint32,\n",
        "  'UInt64': numpy.uint64,\n",
        "  'UInt8': numpy.uint8,\n",
        "  'Unicode0': numpy.unicode_,\n",
        "  'V': numpy.void,\n",
        "  'Void0': numpy.void,\n",
        "  'a': numpy.string_,\n",
        "  'b': numpy.int8,\n",
        "  'b1': numpy.bool_,\n",
        "  'bool': numpy.bool_,\n",
        "  'bool8': numpy.bool_,\n",
        "  'bool_': numpy.bool_,\n",
        "  'byte': numpy.int8,\n",
        "  'bytes_': numpy.string_,\n",
        "  'c16': numpy.complex128,\n",
        "  'c8': numpy.complex64,\n",
        "  'cdouble': numpy.complex128,\n",
        "  'cfloat': numpy.complex128,\n",
        "  'clongdouble': numpy.complex128,\n",
        "  'clongfloat': numpy.complex128,\n",
        "  'complex': numpy.complex128,\n",
        "  'complex128': numpy.complex128,\n",
        "  'complex64': numpy.complex64,\n",
        "  'complex_': numpy.complex128,\n",
        "  'csingle': numpy.complex64,\n",
        "  'd': numpy.float64,\n",
        "  'datetime64': numpy.datetime64,\n",
        "  'double': numpy.float64,\n",
        "  'e': numpy.float16,\n",
        "  'f': numpy.float32,\n",
        "  'f2': numpy.float16,\n",
        "  'f4': numpy.float32,\n",
        "  'f8': numpy.float64,\n",
        "  'float': numpy.float64,\n",
        "  'float16': numpy.float16,\n",
        "  'float32': numpy.float32,\n",
        "  'float64': numpy.float64,\n",
        "  'float_': numpy.float64,\n",
        "  'g': numpy.float64,\n",
        "  'h': numpy.int16,\n",
        "  'half': numpy.float16,\n",
        "  'i': numpy.int32,\n",
        "  'i1': numpy.int8,\n",
        "  'i2': numpy.int16,\n",
        "  'i4': numpy.int32,\n",
        "  'i8': numpy.int64,\n",
        "  'int': numpy.int32,\n",
        "  'int0': numpy.int64,\n",
        "  'int16': numpy.int16,\n",
        "  'int32': numpy.int32,\n",
        "  'int64': numpy.int64,\n",
        "  'int8': numpy.int8,\n",
        "  'int_': numpy.int32,\n",
        "  'intc': numpy.int32,\n",
        "  'intp': numpy.int64,\n",
        "  'l': numpy.int32,\n",
        "  'longcomplex': numpy.complex128,\n",
        "  'longdouble': numpy.float64,\n",
        "  'longfloat': numpy.float64,\n",
        "  'longlong': numpy.int64,\n",
        "  'm': numpy.timedelta64,\n",
        "  'm8': numpy.timedelta64,\n",
        "  'object': numpy.object_,\n",
        "  'object0': numpy.object_,\n",
        "  'object_': numpy.object_,\n",
        "  'p': numpy.int64,\n",
        "  'q': numpy.int64,\n",
        "  'short': numpy.int16,\n",
        "  'single': numpy.float32,\n",
        "  'singlecomplex': numpy.complex64,\n",
        "  'str': numpy.string_,\n",
        "  'str_': numpy.string_,\n",
        "  'string': numpy.string_,\n",
        "  'string0': numpy.string_,\n",
        "  'string_': numpy.string_,\n",
        "  'timedelta64': numpy.timedelta64,\n",
        "  'u1': numpy.uint8,\n",
        "  'u2': numpy.uint16,\n",
        "  'u4': numpy.uint32,\n",
        "  'u8': numpy.uint64,\n",
        "  'ubyte': numpy.uint8,\n",
        "  'uint': numpy.uint32,\n",
        "  'uint0': numpy.uint64,\n",
        "  'uint16': numpy.uint16,\n",
        "  'uint32': numpy.uint32,\n",
        "  'uint64': numpy.uint64,\n",
        "  'uint8': numpy.uint8,\n",
        "  'uintc': numpy.uint32,\n",
        "  'uintp': numpy.uint64,\n",
        "  'ulonglong': numpy.uint64,\n",
        "  'unicode': numpy.unicode_,\n",
        "  'unicode0': numpy.unicode_,\n",
        "  'unicode_': numpy.unicode_,\n",
        "  'ushort': numpy.uint16,\n",
        "  'void': numpy.void,\n",
        "  'void0': numpy.void},\n",
        " 'sctypeNA': {'?': 'Bool',\n",
        "  'B': 'UInt8',\n",
        "  'Bool': numpy.bool_,\n",
        "  'Complex32': numpy.complex64,\n",
        "  'Complex64': numpy.complex128,\n",
        "  'D': 'Complex64',\n",
        "  'Datetime64': numpy.datetime64,\n",
        "  'F': 'Complex32',\n",
        "  'Float16': numpy.float16,\n",
        "  'Float32': numpy.float32,\n",
        "  'Float64': numpy.float64,\n",
        "  'H': 'UInt16',\n",
        "  'I': 'UInt32',\n",
        "  'Int16': numpy.int16,\n",
        "  'Int32': numpy.int32,\n",
        "  'Int64': numpy.int64,\n",
        "  'Int8': numpy.int8,\n",
        "  'L': 'UInt32',\n",
        "  'M': 'Datetime64',\n",
        "  'M8': 'Datetime64',\n",
        "  'O': 'Object0',\n",
        "  'Object0': numpy.object_,\n",
        "  'Q': 'UInt64',\n",
        "  'S': 'String0',\n",
        "  'String0': numpy.string_,\n",
        "  'Timedelta64': numpy.timedelta64,\n",
        "  'U': 'Unicode0',\n",
        "  'UInt16': numpy.uint16,\n",
        "  'UInt32': numpy.uint32,\n",
        "  'UInt64': numpy.uint64,\n",
        "  'UInt8': numpy.uint8,\n",
        "  'Unicode0': numpy.unicode_,\n",
        "  'V': 'Void0',\n",
        "  'Void0': numpy.void,\n",
        "  'b': 'Int8',\n",
        "  'b1': 'Bool',\n",
        "  'c16': 'Bool',\n",
        "  'c8': 'Complex32',\n",
        "  'd': 'Float64',\n",
        "  'e': 'Float16',\n",
        "  'f': 'Float32',\n",
        "  'f2': 'Float16',\n",
        "  'f4': 'Float32',\n",
        "  'f8': 'Float64',\n",
        "  'g': 'Float64',\n",
        "  'h': 'Int16',\n",
        "  'i': 'Int32',\n",
        "  'i1': numpy.int8,\n",
        "  'i2': numpy.int16,\n",
        "  'i4': numpy.int32,\n",
        "  'i8': numpy.int64,\n",
        "  'l': 'Int32',\n",
        "  'm': 'Timedelta64',\n",
        "  'm8': 'Timedelta64',\n",
        "  'q': 'Int64',\n",
        "  'u1': numpy.uint8,\n",
        "  'u2': numpy.uint16,\n",
        "  'u4': numpy.uint32,\n",
        "  'u8': numpy.uint64,\n",
        "  numpy.bool_: 'Bool',\n",
        "  numpy.object_: 'Object0',\n",
        "  numpy.string_: 'String0',\n",
        "  numpy.unicode_: 'Unicode0',\n",
        "  numpy.void: 'Void0',\n",
        "  numpy.int8: 'Int8',\n",
        "  numpy.int16: 'Int16',\n",
        "  numpy.int32: 'Int32',\n",
        "  numpy.int32: 'Int32',\n",
        "  numpy.int64: 'Int64',\n",
        "  numpy.uint8: 'UInt8',\n",
        "  numpy.uint16: 'UInt16',\n",
        "  numpy.uint32: 'UInt32',\n",
        "  numpy.uint32: 'UInt32',\n",
        "  numpy.uint64: 'UInt64',\n",
        "  numpy.float16: 'Float16',\n",
        "  numpy.float32: 'Float32',\n",
        "  numpy.float64: 'Float64',\n",
        "  numpy.float64: 'Float64',\n",
        "  numpy.datetime64: 'Datetime64',\n",
        "  numpy.timedelta64: 'Timedelta64',\n",
        "  numpy.complex64: 'Complex32',\n",
        "  numpy.complex128: 'Complex64'},\n",
        " 'sctypes': {'complex': [numpy.complex64, numpy.complex128],\n",
        "  'float': [numpy.float16, numpy.float32, numpy.float64],\n",
        "  'int': [numpy.int8, numpy.int16, numpy.int32, numpy.int64],\n",
        "  'others': [bool, object, str, unicode, numpy.void],\n",
        "  'uint': [numpy.uint8, numpy.uint16, numpy.uint32, numpy.uint64]},\n",
        " 'searchsorted': <function numpy.core.fromnumeric.searchsorted>,\n",
        " 'seed': <function seed>,\n",
        " 'segments_intersect': <function matplotlib.mlab.segments_intersect>,\n",
        " 'select': <function numpy.lib.function_base.select>,\n",
        " 'semilogx': <function matplotlib.pyplot.semilogx>,\n",
        " 'semilogy': <function matplotlib.pyplot.semilogy>,\n",
        " 'set_cmap': <function matplotlib.pyplot.set_cmap>,\n",
        " 'set_numeric_ops': <function numpy.core.multiarray.set_numeric_ops>,\n",
        " 'set_printoptions': <function numpy.core.arrayprint.set_printoptions>,\n",
        " 'set_state': <function set_state>,\n",
        " 'set_string_function': <function numpy.core.numeric.set_string_function>,\n",
        " 'setbufsize': <function numpy.core.numeric.setbufsize>,\n",
        " 'setdiff1d': <function numpy.lib.arraysetops.setdiff1d>,\n",
        " 'seterr': <function numpy.core.numeric.seterr>,\n",
        " 'seterrcall': <function numpy.core.numeric.seterrcall>,\n",
        " 'seterrobj': <function numpy.core.umath.seterrobj>,\n",
        " 'setp': <function matplotlib.pyplot.setp>,\n",
        " 'setxor1d': <function numpy.lib.arraysetops.setxor1d>,\n",
        " 'shape': <function numpy.core.fromnumeric.shape>,\n",
        " 'short': numpy.int16,\n",
        " 'show': <function matplotlib.pyplot.show>,\n",
        " 'show_config': <function numpy.__config__.show>,\n",
        " 'shuffle': <function shuffle>,\n",
        " 'sign': <ufunc 'sign'>,\n",
        " 'signbit': <ufunc 'signbit'>,\n",
        " 'signedinteger': numpy.signedinteger,\n",
        " 'silent_list': matplotlib.cbook.silent_list,\n",
        " 'sin': <ufunc 'sin'>,\n",
        " 'sinc': <function numpy.lib.function_base.sinc>,\n",
        " 'single': numpy.float32,\n",
        " 'singlecomplex': numpy.complex64,\n",
        " 'sinh': <ufunc 'sinh'>,\n",
        " 'size': <function numpy.core.fromnumeric.size>,\n",
        " 'slogdet': <function numpy.linalg.linalg.slogdet>,\n",
        " 'slopes': <function matplotlib.mlab.slopes>,\n",
        " 'solve': <function numpy.linalg.linalg.solve>,\n",
        " 'sometrue': <function numpy.core.fromnumeric.sometrue>,\n",
        " 'sort': <function numpy.core.fromnumeric.sort>,\n",
        " 'sort_complex': <function numpy.lib.function_base.sort_complex>,\n",
        " 'source': <function numpy.lib.utils.source>,\n",
        " 'spacing': <ufunc 'spacing'>,\n",
        " 'specgram': <function matplotlib.pyplot.specgram>,\n",
        " 'spectral': <function matplotlib.pyplot.spectral>,\n",
        " 'split': <function numpy.lib.shape_base.split>,\n",
        " 'spring': <function matplotlib.pyplot.spring>,\n",
        " 'spy': <function matplotlib.pyplot.spy>,\n",
        " 'sqrt': <ufunc 'sqrt'>,\n",
        " 'square': <function __main__.square>,\n",
        " 'square_all': <function __main__.square_all>,\n",
        " 'square_all_2': <function __main__.square_all_2>,\n",
        " 'square_all_3': <function __main__.square_all_3>,\n",
        " 'square_all_4': <function __main__.square_all_4>,\n",
        " 'squeeze': <function numpy.core.fromnumeric.squeeze>,\n",
        " 'stackplot': <function matplotlib.pyplot.stackplot>,\n",
        " 'standard_cauchy': <function standard_cauchy>,\n",
        " 'standard_exponential': <function standard_exponential>,\n",
        " 'standard_gamma': <function standard_gamma>,\n",
        " 'standard_normal': <function standard_normal>,\n",
        " 'standard_t': <function standard_t>,\n",
        " 'std': <function numpy.core.fromnumeric.std>,\n",
        " 'stem': <function matplotlib.pyplot.stem>,\n",
        " 'step': <function matplotlib.pyplot.step>,\n",
        " 'stineman_interp': <function matplotlib.mlab.stineman_interp>,\n",
        " 'str_': numpy.string_,\n",
        " 'streamplot': <function matplotlib.pyplot.streamplot>,\n",
        " 'string0': numpy.string_,\n",
        " 'string_': numpy.string_,\n",
        " 'strpdate2num': matplotlib.dates.strpdate2num,\n",
        " 'subplot': <function matplotlib.pyplot.subplot>,\n",
        " 'subplot2grid': <function matplotlib.pyplot.subplot2grid>,\n",
        " 'subplot_tool': <function matplotlib.pyplot.subplot_tool>,\n",
        " 'subplots': <function matplotlib.pyplot.subplots>,\n",
        " 'subplots_adjust': <function matplotlib.pyplot.subplots_adjust>,\n",
        " 'subtract': <ufunc 'subtract'>,\n",
        " 'sum': <function numpy.core.fromnumeric.sum>,\n",
        " 'summer': <function matplotlib.pyplot.summer>,\n",
        " 'suptitle': <function matplotlib.pyplot.suptitle>,\n",
        " 'svd': <function numpy.linalg.linalg.svd>,\n",
        " 'swapaxes': <function numpy.core.fromnumeric.swapaxes>,\n",
        " 'switch_backend': <function matplotlib.pyplot.switch_backend>,\n",
        " 'sys': <module 'sys' (built-in)>,\n",
        " 'table': <function matplotlib.pyplot.table>,\n",
        " 'take': <function numpy.core.fromnumeric.take>,\n",
        " 'tan': <ufunc 'tan'>,\n",
        " 'tanh': <ufunc 'tanh'>,\n",
        " 'tensordot': <function numpy.core.numeric.tensordot>,\n",
        " 'tensorinv': <function numpy.linalg.linalg.tensorinv>,\n",
        " 'tensorsolve': <function numpy.linalg.linalg.tensorsolve>,\n",
        " 'test': <bound method NoseTester.test of <numpy.testing.nosetester.NoseTester object at 0x0000000003C1F128>>,\n",
        " 'text': <function matplotlib.pyplot.text>,\n",
        " 'thetagrids': <function matplotlib.pyplot.thetagrids>,\n",
        " 'tick_params': <function matplotlib.pyplot.tick_params>,\n",
        " 'ticklabel_format': <function matplotlib.pyplot.ticklabel_format>,\n",
        " 'tight_layout': <function matplotlib.pyplot.tight_layout>,\n",
        " 'tile': <function numpy.lib.shape_base.tile>,\n",
        " 'time1': <TimeitResult : 1 loops, best of 3: 284 ms per loop>,\n",
        " 'time2': <TimeitResult : 100 loops, best of 3: 3.67 ms per loop>,\n",
        " 'time3': <TimeitResult : 100000 loops, best of 3: 5.01 \u00b5s per loop>,\n",
        " 'time4': <TimeitResult : 100 loops, best of 3: 7.37 ms per loop>,\n",
        " 'time5': <TimeitResult : 1000 loops, best of 3: 420 \u00b5s per loop>,\n",
        " 'timedelta64': numpy.timedelta64,\n",
        " 'timeit': <function timeit.timeit>,\n",
        " ...}"
       ]
      }
     ],
     "prompt_number": 55
    },
    {
     "cell_type": "code",
     "collapsed": false,
     "input": [
      "lprun(most_votes_check_first)"
     ],
     "language": "python",
     "metadata": {
      "slideshow": {
       "slide_type": "-"
      }
     },
     "outputs": [
      {
       "output_type": "stream",
       "stream": "stdout",
       "text": [
        "Timer unit: 4.66511e-07 s\n",
        "\n",
        "Total time: 0.861387 s\n",
        "File: <ipython-input-11-6ceaa1572cb1>\n",
        "Function: most_votes_check_first at line 1\n",
        "\n",
        "Line #      Hits         Time  Per Hit   % Time  Line Contents\n",
        "==============================================================\n",
        "     1                                           def most_votes_check_first(ac_name='BANGALORE SOUTH'):\n",
        "     2         1            5      5.0      0.0      data = []\n",
        "     3         1          261    261.0      0.0      handle = open(assembly_results)\n",
        "     4         1          135    135.0      0.0      handle.next()\n",
        "     5    398703       863582      2.2     46.8      for line in handle:\n",
        "     6                                                   # Check for a match first, before split\n",
        "     7    398702       981836      2.5     53.2          if line.find(ac_name) >= 0:\n",
        "     8        36          173      4.8      0.0              csv_row = line.split(',')\n",
        "     9        36           72      2.0      0.0              name = csv_row[6]\n",
        "    10        36          198      5.5      0.0              votes = int(csv_row[11].strip())\n",
        "    11        36          120      3.3      0.0              data.append([name, votes])\n",
        "    12                                           \n",
        "    13         1           64     64.0      0.0      return sorted(data, key=operator.itemgetter(1), reverse=True)\n",
        "\n"
       ]
      }
     ],
     "prompt_number": 12
    },
    {
     "cell_type": "markdown",
     "metadata": {
      "slideshow": {
       "slide_type": "slide"
      }
     },
     "source": [
      "## Reduce the time per hit\n",
      "\n",
      "So how exactly can we make something as simple as `line.find(ac_name) >= 0` faster?\n",
      "\n",
      "Let's loop at the op code."
     ]
    },
    {
     "cell_type": "code",
     "collapsed": false,
     "input": [
      "def check(line, ac_name):\n",
      "    return line.find(ac_name) >= 0\n",
      "\n",
      "import dis\n",
      "dis.disassemble(check.func_code)"
     ],
     "language": "python",
     "metadata": {
      "slideshow": {
       "slide_type": "-"
      }
     },
     "outputs": [
      {
       "output_type": "stream",
       "stream": "stdout",
       "text": [
        "  2           0 LOAD_FAST                0 (line)\n",
        "              3 LOAD_ATTR                0 (find)\n",
        "              6 LOAD_FAST                1 (ac_name)\n",
        "              9 CALL_FUNCTION            1\n",
        "             12 LOAD_CONST               1 (0)\n",
        "             15 COMPARE_OP               5 (>=)\n",
        "             18 RETURN_VALUE        \n"
       ]
      }
     ],
     "prompt_number": 13
    },
    {
     "cell_type": "markdown",
     "metadata": {
      "slideshow": {
       "slide_type": "-"
      }
     },
     "source": [
      "There are a number of steps involved here:\n",
      "\n",
      "1. Load `line`\n",
      "2. Load `find`\n",
      "3. Load `ac_name`\n",
      "4. Then call the `line.find` function with `ac_name` as a parameter\n",
      "5. Load the constant `0`\n",
      "6. Compare the result with that constant"
     ]
    },
    {
     "cell_type": "markdown",
     "metadata": {
      "slideshow": {
       "slide_type": "slide"
      }
     },
     "source": [
      "It's generally recognised that functions in Python are slow. Let's replace this with an operator and see how well that works."
     ]
    },
    {
     "cell_type": "code",
     "collapsed": false,
     "input": [
      "def check(line, ac_name):\n",
      "    return ac_name in line\n",
      "\n",
      "dis.disassemble(check.func_code)"
     ],
     "language": "python",
     "metadata": {
      "slideshow": {
       "slide_type": "-"
      }
     },
     "outputs": [
      {
       "output_type": "stream",
       "stream": "stdout",
       "text": [
        "  2           0 LOAD_FAST                1 (ac_name)\n",
        "              3 LOAD_FAST                0 (line)\n",
        "              6 COMPARE_OP               6 (in)\n",
        "              9 RETURN_VALUE        \n"
       ]
      }
     ],
     "prompt_number": 14
    },
    {
     "cell_type": "markdown",
     "metadata": {
      "slideshow": {
       "slide_type": "-"
      }
     },
     "source": [
      "This appears to be doing a *lot less* than before. Let's try this out."
     ]
    },
    {
     "cell_type": "code",
     "collapsed": false,
     "input": [
      "def most_votes_using_in(ac_name='BANGALORE SOUTH'):\n",
      "    data = []\n",
      "    handle = open(assembly_results)\n",
      "    handle.next()\n",
      "    for line in handle:\n",
      "        # Use `in` instead of `.find()`\n",
      "        if ac_name in line:\n",
      "            csv_row = line.split(',')\n",
      "            name = csv_row[6]\n",
      "            votes = int(csv_row[11].strip())\n",
      "            data.append([name, votes])\n",
      "\n",
      "    return sorted(data, key=operator.itemgetter(1), reverse=True)\n",
      "\n",
      "time4 = %timeit -o most_votes_using_in()\n",
      "print '{:.1%} faster'.format(ms(time3) / ms(time4) - 1)"
     ],
     "language": "python",
     "metadata": {
      "slideshow": {
       "slide_type": "slide"
      }
     },
     "outputs": [
      {
       "output_type": "stream",
       "stream": "stdout",
       "text": [
        "10 loops, best of 3: 146 ms per loop\n",
        "61.7% faster\n"
       ]
      }
     ],
     "prompt_number": 15
    },
    {
     "cell_type": "markdown",
     "metadata": {
      "slideshow": {
       "slide_type": "slide"
      }
     },
     "source": [
      "So, overall, here's our overall improvement:"
     ]
    },
    {
     "cell_type": "code",
     "collapsed": false,
     "input": [
      "print '{:,.0f} ms: original version'.format(ms(time1))\n",
      "print '{:,.0f} ms: remove redundant if row > 0'.format(ms(time2))\n",
      "print '{:,.0f} ms: reduce # times .split() is called'.format(ms(time3))\n",
      "print '{:,.0f} ms: use operator instead of function'.format(ms(time4))\n",
      "print '{:,.1f}x improvement'.format(ms(time1) / ms(time4))"
     ],
     "language": "python",
     "metadata": {
      "slideshow": {
       "slide_type": "-"
      }
     },
     "outputs": [
      {
       "output_type": "stream",
       "stream": "stdout",
       "text": [
        "476 ms: original version\n",
        "435 ms: remove redundant if row > 0\n",
        "237 ms: reduce # times .split() is called\n",
        "147 ms: use operator instead of function\n",
        "3.2x improvement\n"
       ]
      }
     ],
     "prompt_number": 16
    },
    {
     "cell_type": "markdown",
     "metadata": {
      "slideshow": {
       "slide_type": "slide"
      }
     },
     "source": [
      "## Reject dogmas\n",
      "\n",
      "By now, you'd wonder, \"Why not use NumPy? Pandas? That's got to be faster.\" And it often is.\n",
      "\n",
      "So let's try it. We'll use Pandas to achieve the same result:"
     ]
    },
    {
     "cell_type": "code",
     "collapsed": false,
     "input": [
      "import pandas as pd\n",
      "\n",
      "def most_votes_pandas(ac_name='BANGALORE SOUTH'):\n",
      "    data = pd.read_csv(assembly_results, low_memory=False)\n",
      "    return data[data.AC_NAME.str.contains(ac_name)].sort('VOTES', ascending=False)\n",
      "\n",
      "time5 = %timeit -o most_votes_pandas()\n",
      "print '{:.1%} faster'.format(ms(time4) / ms(time5) - 1)"
     ],
     "language": "python",
     "metadata": {
      "slideshow": {
       "slide_type": "-"
      }
     },
     "outputs": [
      {
       "output_type": "stream",
       "stream": "stdout",
       "text": [
        "1 loops, best of 3: 1.11 s per loop\n",
        "-86.9% faster\n"
       ]
      }
     ],
     "prompt_number": 17
    },
    {
     "cell_type": "markdown",
     "metadata": {
      "slideshow": {
       "slide_type": "-"
      }
     },
     "source": [
      "Shocking as it is, using Pandas is slower in this particular scenario.\n",
      "\n",
      "In fact, we can evaluate how fast long it takes for various storage methods. Below, we create a set of dummy data files in a variety of formats (CSV, JSON, pickle, HDF5) and load them to see how long each takes."
     ]
    },
    {
     "cell_type": "markdown",
     "metadata": {
      "slideshow": {
       "slide_type": "slide"
      }
     },
     "source": [
      "# Which is the fastest data format?"
     ]
    },
    {
     "cell_type": "code",
     "collapsed": false,
     "input": [
      "%run sample.data.py"
     ],
     "language": "python",
     "metadata": {
      "slideshow": {
       "slide_type": "skip"
      }
     },
     "outputs": [],
     "prompt_number": 18
    },
    {
     "cell_type": "code",
     "collapsed": false,
     "input": [
      "from timeit import timeit\n",
      "print '{:,.3f}s: csv.DictReader'.format(timeit(\"list(csv.DictReader(open('sample.data.csv')))\", setup=\"import csv\", number=1))\n",
      "print '{:,.3f}s: pickle.load'.format(timeit(\"pickle.load(open('sample.data.pickle', 'rb'))\", setup=\"import cPickle as pickle\", number=1))\n",
      "print '{:,.3f}s: json.load (array of dict)'.format(timeit(\"json.load(open('sample.data.json'))\", setup=\"import json\", number=1))\n",
      "print '{:,.3f}s: json.load (array of arrays)'.format(timeit(\"json.load(open('sample.data-array.json'))\", setup=\"import json\", number=1))\n",
      "print '{:,.3f}s: csv.reader'.format(timeit(\"list(csv.reader(open('sample.data.csv')))\", setup=\"import csv\", number=1))\n",
      "print '{:,.3f}s: pandas.read_csv'.format(timeit(\"pd.read_csv('sample.data.csv')\", setup=\"import pandas as pd\", number=1))\n",
      "print '{:,.3f}s: pandas.read_pickle'.format(timeit(\"pd.read_pickle('sample.data.pandas')\", setup=\"import pandas as pd\", number=1))\n",
      "print '{:,.3f}s: HDF5 table'.format(timeit(\"pd.read_hdf('sample.data.h5', 'table')\", setup=\"import pandas as pd\", number=1))\n",
      "print '{:,.3f}s: HDF5 stored'.format(timeit(\"pd.read_hdf('sample.data.h5', 'stored')\", setup=\"import pandas as pd\", number=1))"
     ],
     "language": "python",
     "metadata": {
      "slideshow": {
       "slide_type": "-"
      }
     },
     "outputs": [
      {
       "output_type": "stream",
       "stream": "stdout",
       "text": [
        "7.923s: csv.DictReader\n",
        "5.999s: pickle.load"
       ]
      },
      {
       "output_type": "stream",
       "stream": "stdout",
       "text": [
        "\n",
        "7.473s: json.load (array of dict)"
       ]
      },
      {
       "output_type": "stream",
       "stream": "stdout",
       "text": [
        "\n",
        "2.149s: json.load (array of arrays)"
       ]
      },
      {
       "output_type": "stream",
       "stream": "stdout",
       "text": [
        "\n",
        "1.373s: csv.reader"
       ]
      },
      {
       "output_type": "stream",
       "stream": "stdout",
       "text": [
        "\n",
        "0.804s: pandas.read_csv"
       ]
      },
      {
       "output_type": "stream",
       "stream": "stdout",
       "text": [
        "\n",
        "0.712s: pandas.read_pickle"
       ]
      },
      {
       "output_type": "stream",
       "stream": "stdout",
       "text": [
        "\n",
        "0.397s: HDF5 table"
       ]
      },
      {
       "output_type": "stream",
       "stream": "stdout",
       "text": [
        "\n",
        "0.295s: HDF5 stored"
       ]
      },
      {
       "output_type": "stream",
       "stream": "stdout",
       "text": [
        "\n"
       ]
      }
     ],
     "prompt_number": 20
    },
    {
     "cell_type": "markdown",
     "metadata": {
      "slideshow": {
       "slide_type": "-"
      }
     },
     "source": [
      "Only the HDF5 format comes close to the speed at which our custom algorithm performed, and even then, does not quite meet it.\n",
      "\n",
      "So remember: **the best optimiser is your head**. But all else being equal, prefer HDF5 as a format."
     ]
    },
    {
     "cell_type": "markdown",
     "metadata": {},
     "source": [
      "# Next topic: optimising scraping\n",
      "\n",
      "In order to get the assembly results, we had to scrape the results from the [ECI results](http://eci.nic.in/eci_main1/ElectionStatistics.aspx) page.\n",
      "\n",
      "Here, the problem is not that the computations are slow.\n",
      "\n",
      "It's not even that the network is slow.\n",
      "\n",
      "It's that the *network is unreliable* at this scale."
     ]
    },
    {
     "cell_type": "markdown",
     "metadata": {
      "slideshow": {
       "slide_type": "slide"
      }
     },
     "source": [
      "# Make your programs restartable\n",
      "\n",
      "If you're running a large computation, two things become critical:\n",
      "\n",
      "1. Break it into pieces and process them separately (effectively, map-reduce-ability)\n",
      "2. Cache the results so that re-computations are avoided\n",
      "\n",
      "The latter, caching, is the key to the \"restartability\" of a program -- where it can pick up an run fom where it stopped the last time. Here's a fairly typical scraping sequence:\n",
      "\n",
      "    for url in list_of_urls:\n",
      "        tree = parse(url)\n",
      "        # ... do more with the tree\n",
      "\n",
      "The slowest step in this is not the computation, but fetching the URL. Can we cache it?"
     ]
    },
    {
     "cell_type": "markdown",
     "metadata": {
      "slideshow": {
       "slide_type": "slide"
      }
     },
     "source": [
      "# Cache slow operations transparently\n",
      "\n",
      "One way is to define a method that loads the URL only if it has not already been created. Here's one simple possibility:"
     ]
    },
    {
     "cell_type": "code",
     "collapsed": false,
     "input": [
      "import os\n",
      "from urllib import urlretrieve\n",
      "\n",
      "def get(url):\n",
      "    '''Like open(url), but cached'''\n",
      "    filename = 'sample.file.name'         # We need a unique filename per URL\n",
      "    if not os.path.exists(filename):\n",
      "        urlretrieve(url, filename)\n",
      "    return open(filename)\n",
      "\n",
      "!rm -f sample.file.name\n",
      "eci_url = 'http://eci.nic.in/eci_main1/ElectionStatistics.aspx'\n",
      "%timeit -n1 -r1 get(eci_url)\n",
      "%timeit -n1 -r1 get(eci_url)"
     ],
     "language": "python",
     "metadata": {},
     "outputs": [
      {
       "output_type": "stream",
       "stream": "stdout",
       "text": [
        "1 loops, best of 1: 4.65 s per loop\n",
        "1 loops, best of 1: 339 \u00b5s per loop\n"
       ]
      }
     ],
     "prompt_number": 21
    },
    {
     "cell_type": "markdown",
     "metadata": {},
     "source": [
      "The file gets saved the first time. The second time, it's loaded from the disk, which is *thousands of times* faster."
     ]
    },
    {
     "cell_type": "markdown",
     "metadata": {
      "slideshow": {
       "slide_type": "slide"
      }
     },
     "source": [
      "# Cache each URL as a unique key\n",
      "\n",
      "But in our last example, the filename was not unique. We need a way of getting a unique filename for each URL. There are several options for this."
     ]
    },
    {
     "cell_type": "markdown",
     "metadata": {
      "slideshow": {
       "slide_type": "fragment"
      }
     },
     "source": [
      "**1. Use the URL as the filename.** But not all URL characters are valid for files."
     ]
    },
    {
     "cell_type": "markdown",
     "metadata": {
      "slideshow": {
       "slide_type": "fragment"
      }
     },
     "source": [
      "**2. Remove special characters from the URL.** But some special characters have meaning. `?x=1` is different from `/x/1`"
     ]
    },
    {
     "cell_type": "markdown",
     "metadata": {
      "slideshow": {
       "slide_type": "fragment"
      }
     },
     "source": [
      "**3. Use a hashing function**. Which begs the question, which one? And since this is a session on speed, let's time them."
     ]
    },
    {
     "cell_type": "markdown",
     "metadata": {
      "slideshow": {
       "slide_type": "slide"
      }
     },
     "source": [
      "# Hashing efficiently\n",
      "\n",
      "My first impulse is to use the `hashlib` built-in library. Here's how the various algorithms perform."
     ]
    },
    {
     "cell_type": "code",
     "collapsed": false,
     "input": [
      "import hashlib\n",
      "for algo in hashlib.algorithms:\n",
      "    duration = timeit('hashlib.%s(\"%s\").hexdigest()' % (algo, eci_url), setup='import hashlib')\n",
      "    print '{:,.3f}s: {:s}'.format(duration, algo)"
     ],
     "language": "python",
     "metadata": {},
     "outputs": [
      {
       "output_type": "stream",
       "stream": "stdout",
       "text": [
        "1.921s: md5\n",
        "1.772s: sha1"
       ]
      },
      {
       "output_type": "stream",
       "stream": "stdout",
       "text": [
        "\n",
        "2.156s: sha224"
       ]
      },
      {
       "output_type": "stream",
       "stream": "stdout",
       "text": [
        "\n",
        "2.104s: sha256"
       ]
      },
      {
       "output_type": "stream",
       "stream": "stdout",
       "text": [
        "\n",
        "2.818s: sha384"
       ]
      },
      {
       "output_type": "stream",
       "stream": "stdout",
       "text": [
        "\n",
        "2.831s: sha512"
       ]
      },
      {
       "output_type": "stream",
       "stream": "stdout",
       "text": [
        "\n"
       ]
      }
     ],
     "prompt_number": 22
    },
    {
     "cell_type": "markdown",
     "metadata": {},
     "source": [
      "These are the results for 1 million operations, so the time taken per hash is a few microseconds. So we really *should not* be optimising this, and should just randomly pick an algorithm."
     ]
    },
    {
     "cell_type": "markdown",
     "metadata": {
      "slideshow": {
       "slide_type": "slide"
      }
     },
     "source": [
      "# The built-in `hash` function\n",
      "\n",
      "However, let me just remind you of the built-in `hash()` function."
     ]
    },
    {
     "cell_type": "code",
     "collapsed": false,
     "input": [
      "hash(eci_url)"
     ],
     "language": "python",
     "metadata": {},
     "outputs": [
      {
       "metadata": {},
       "output_type": "pyout",
       "prompt_number": 23,
       "text": [
        "1159908681"
       ]
      }
     ],
     "prompt_number": 23
    },
    {
     "cell_type": "markdown",
     "metadata": {},
     "source": [
      "It converts any hashable object into a signed long. We can just add `2 ** 32` to convert this into an unsigned long, which is a perfectly valid filename in almost every OS. This is what Python internally uses for dictionary keys. So it's likely to be fast. In fact, let's measure it:"
     ]
    },
    {
     "cell_type": "code",
     "collapsed": false,
     "input": [
      "duration = timeit('hash(\"%s\") + 2**32')\n",
      "print '{:,.3f}s: hash'.format(duration)"
     ],
     "language": "python",
     "metadata": {},
     "outputs": [
      {
       "output_type": "stream",
       "stream": "stdout",
       "text": [
        "0.163s: hash\n"
       ]
      }
     ],
     "prompt_number": 24
    },
    {
     "cell_type": "markdown",
     "metadata": {
      "slideshow": {
       "slide_type": "slide"
      }
     },
     "source": [
      "# Next topic: Parsing dates\n",
      "\n",
      "We were exploring views to show [every assembly election in India](https://gramener.com/election/assembly). Since we have the dates of every election, and the people that were Chief Ministers after each election, we decided to put these together as a set of visualisations.\n",
      "\n",
      "The slowest step when processing this data was parsing the dates. For example, let's create a dummy data file that saves dates. To make it realistic, we'll use multiple formats."
     ]
    },
    {
     "cell_type": "code",
     "collapsed": false,
     "input": [
      "import random\n",
      "import datetime\n",
      "\n",
      "formats = ['%d-%b-%Y', '%d %m %Y', '%b %d %Y', '%Y-%m-%d']\n",
      "today = datetime.date.today()\n",
      "with open('sample.dates.csv', 'w') as out:\n",
      "    for x in range(100000):\n",
      "        date = today - datetime.timedelta(random.randint(0, 100))\n",
      "        out.write(date.strftime(random.choice(formats)) + '\\n')\n",
      "\n",
      "!head sample.dates.csv"
     ],
     "language": "python",
     "metadata": {
      "slideshow": {
       "slide_type": "-"
      }
     },
     "outputs": [
      {
       "output_type": "stream",
       "stream": "stdout",
       "text": [
        "2014-06-23\n",
        "2014-09-26\n",
        "13-Sep-2014\n",
        "27-Aug-2014\n",
        "27-Aug-2014\n",
        "25-Sep-2014\n",
        "23-Sep-2014\n",
        "2014-08-22\n",
        "22 09 2014\n",
        "08 08 2014\n"
       ]
      }
     ],
     "prompt_number": 25
    },
    {
     "cell_type": "markdown",
     "metadata": {
      "slideshow": {
       "slide_type": "slide"
      }
     },
     "source": [
      "Since the dates are in multiple formats, we need a good library to parse it. [dateutil](https://labix.org/python-dateutil) is the most popular flexible date processor. Let's see how long that takes."
     ]
    },
    {
     "cell_type": "code",
     "collapsed": false,
     "input": [
      "from dateutil.parser import parse\n",
      "\n",
      "# Read the data first into a list\n",
      "lines = [line.strip() for line in open('sample.dates.csv')]\n",
      "\n",
      "# Convert it into dates\n",
      "def convert(lines):\n",
      "    result = []\n",
      "    for line in lines:\n",
      "        date = parse(line, dayfirst=True)\n",
      "        result.append(date)\n",
      "\n",
      "%timeit convert(lines)"
     ],
     "language": "python",
     "metadata": {
      "slideshow": {
       "slide_type": "-"
      }
     },
     "outputs": [
      {
       "output_type": "stream",
       "stream": "stdout",
       "text": [
        "1 loops, best of 3: 5.96 s per loop\n"
       ]
      }
     ],
     "prompt_number": 26
    },
    {
     "cell_type": "markdown",
     "metadata": {
      "slideshow": {
       "slide_type": "-"
      }
     },
     "source": [
      "# Where do *you* think the problem is?"
     ]
    },
    {
     "cell_type": "markdown",
     "metadata": {
      "slideshow": {
       "slide_type": "slide"
      }
     },
     "source": [
      "The entire problem is in the date parsing function."
     ]
    },
    {
     "cell_type": "code",
     "collapsed": false,
     "input": [
      "lprun(convert, lines)"
     ],
     "language": "python",
     "metadata": {
      "slideshow": {
       "slide_type": "-"
      }
     },
     "outputs": [
      {
       "output_type": "stream",
       "stream": "stdout",
       "text": [
        "Timer unit: 4.66511e-07 s\n",
        "\n",
        "Total time: 24.7942 s\n",
        "File: <ipython-input-26-10962859084c>\n",
        "Function: convert at line 7\n",
        "\n",
        "Line #      Hits         Time  Per Hit   % Time  Line Contents\n",
        "==============================================================\n",
        "     7                                           def convert(lines):\n",
        "     8         1            6      6.0      0.0      result = []\n",
        "     9    100001       111877      1.1      0.2      for line in lines:\n",
        "    10    100000     52797097    528.0     99.3          date = parse(line, dayfirst=True)\n",
        "    11    100000       239210      2.4      0.5          result.append(date)\n",
        "\n"
       ]
      }
     ],
     "prompt_number": 27
    },
    {
     "cell_type": "markdown",
     "metadata": {
      "slideshow": {
       "slide_type": "slide"
      }
     },
     "source": [
      "# Evaluate alternatives\n",
      "\n",
      "Let's see whether we have options to make date parsing faster. Suppose we take a single date, and see how long that takes to parse.\n",
      "\n",
      "Let's start with Pandas' `to_datetime` method (which internally uses `dateutil.parser.parse`)."
     ]
    },
    {
     "cell_type": "code",
     "collapsed": false,
     "input": [
      "s = pd.Series(['01-31-2012']*100000)\n",
      "\n",
      "%timeit pd.to_datetime(s)"
     ],
     "language": "python",
     "metadata": {
      "slideshow": {
       "slide_type": "-"
      }
     },
     "outputs": [
      {
       "output_type": "stream",
       "stream": "stdout",
       "text": [
        "1 loops, best of 3: 6.09 s per loop\n"
       ]
      }
     ],
     "prompt_number": 28
    },
    {
     "cell_type": "markdown",
     "metadata": {
      "slideshow": {
       "slide_type": "-"
      }
     },
     "source": [
      "That wasn't fast. Let's see if the native `dateutil.parser.parse` is any faster."
     ]
    },
    {
     "cell_type": "code",
     "collapsed": false,
     "input": [
      "%timeit [parse(v) for v in s]"
     ],
     "language": "python",
     "metadata": {
      "slideshow": {
       "slide_type": "-"
      }
     },
     "outputs": [
      {
       "output_type": "stream",
       "stream": "stdout",
       "text": [
        "1 loops, best of 3: 5.25 s per loop\n"
       ]
      }
     ],
     "prompt_number": 29
    },
    {
     "cell_type": "markdown",
     "metadata": {
      "slideshow": {
       "slide_type": "slide"
      }
     },
     "source": [
      "But wait... in this case, we *already know the string format*. Can't we just use `datetime.strptime()`?"
     ]
    },
    {
     "cell_type": "code",
     "collapsed": false,
     "input": [
      "%timeit [datetime.datetime.strptime(v, '%m-%d-%Y') for v in s]"
     ],
     "language": "python",
     "metadata": {
      "slideshow": {
       "slide_type": "-"
      }
     },
     "outputs": [
      {
       "output_type": "stream",
       "stream": "stdout",
       "text": [
        "1 loops, best of 3: 1.78 s per loop\n"
       ]
      }
     ],
     "prompt_number": 30
    },
    {
     "cell_type": "markdown",
     "metadata": {
      "slideshow": {
       "slide_type": "-"
      }
     },
     "source": [
      "Looking much better. But what if the overhead of `datetime.strptime()` is high. Let's try parsing it raw."
     ]
    },
    {
     "cell_type": "code",
     "collapsed": false,
     "input": [
      "%timeit [datetime.datetime(int(v[6:10]), int(v[0:2]), int(v[3:5])) for v in s]"
     ],
     "language": "python",
     "metadata": {
      "slideshow": {
       "slide_type": "-"
      }
     },
     "outputs": [
      {
       "output_type": "stream",
       "stream": "stdout",
       "text": [
        "1 loops, best of 3: 236 ms per loop\n"
       ]
      }
     ],
     "prompt_number": 31
    },
    {
     "cell_type": "markdown",
     "metadata": {
      "slideshow": {
       "slide_type": "-"
      }
     },
     "source": [
      "So we've gotten it to be over *20 times faster*, but this is at the expense of flexibility. We can only parse one date format, and that too only if it has integers."
     ]
    },
    {
     "cell_type": "markdown",
     "metadata": {
      "slideshow": {
       "slide_type": "slide"
      }
     },
     "source": [
      "# Cache anything that's slow\n",
      "\n",
      "But let's take a different approach. So far, we were trying to make the function faster. But what if we tried to call it fewer times? Often, the number of dates to be parsed are few. There's no reason not to cache it."
     ]
    },
    {
     "cell_type": "code",
     "collapsed": false,
     "input": [
      "def lookup(s):\n",
      "    # Parse only the unique dates\n",
      "    dates = {date: parse(date, dayfirst=True) for date in unique(s)}\n",
      "    # Look up the parsed dates\n",
      "    return [dates[v] for v in s]\n",
      "\n",
      "%timeit lookup(s)"
     ],
     "language": "python",
     "metadata": {
      "slideshow": {
       "slide_type": "-"
      }
     },
     "outputs": [
      {
       "output_type": "stream",
       "stream": "stdout",
       "text": [
        "10 loops, best of 3: 13.9 ms per loop\n"
       ]
      }
     ],
     "prompt_number": 32
    },
    {
     "cell_type": "markdown",
     "metadata": {
      "slideshow": {
       "slide_type": "-"
      }
     },
     "source": [
      "Now, this is a substantial improvement, and comes without any loss of flexibility."
     ]
    },
    {
     "cell_type": "markdown",
     "metadata": {
      "slideshow": {
       "slide_type": "slide"
      }
     },
     "source": [
      "# Next topic: Loops and functions\n",
      "\n",
      "You'll notice that I've switched over to using list comprehensions in favour of loops. That's because loops and functions both have an overhead in Python -- so where possible, it's best to avoid them. Let me show you how this works."
     ]
    },
    {
     "cell_type": "code",
     "collapsed": false,
     "input": [
      "data = [random.randint(0, 100) for x in range(100000)]\n",
      "\n",
      "def square(value):\n",
      "    return value * value\n",
      "\n",
      "def square_all(data):\n",
      "    result = []\n",
      "    for value in data:\n",
      "        squared = square(value)\n",
      "        result.append(squared)\n",
      "    return result\n",
      "\n",
      "time1 = %timeit -o square_all(data)"
     ],
     "language": "python",
     "metadata": {
      "slideshow": {
       "slide_type": "-"
      }
     },
     "outputs": [
      {
       "output_type": "stream",
       "stream": "stdout",
       "text": [
        "10 loops, best of 3: 28.1 ms per loop\n"
       ]
      }
     ],
     "prompt_number": 33
    },
    {
     "cell_type": "markdown",
     "metadata": {
      "slideshow": {
       "slide_type": "slide"
      }
     },
     "source": [
      "# Inline functions are faster\n",
      "\n",
      "Now, let's take the same function, but avoid the overhead of calling a function. We'll inline the `square` function."
     ]
    },
    {
     "cell_type": "code",
     "collapsed": false,
     "input": [
      "def square_all_2(data):\n",
      "    result = []\n",
      "    for value in data:\n",
      "        squared = value * value\n",
      "        result.append(squared)\n",
      "    return result\n",
      "\n",
      "time2 = %timeit -o square_all_2(data)\n",
      "print '{:.1%} faster'.format(ms(time1) / ms(time2) - 1)"
     ],
     "language": "python",
     "metadata": {
      "slideshow": {
       "slide_type": "-"
      }
     },
     "outputs": [
      {
       "output_type": "stream",
       "stream": "stdout",
       "text": [
        "10 loops, best of 3: 16.5 ms per loop\n",
        "70.2% faster\n"
       ]
      }
     ],
     "prompt_number": 34
    },
    {
     "cell_type": "markdown",
     "metadata": {
      "slideshow": {
       "slide_type": "slide"
      }
     },
     "source": [
      "We're storing the squared value in a temporary variable that's not being re-used. Let's see if removing that makes a difference."
     ]
    },
    {
     "cell_type": "code",
     "collapsed": false,
     "input": [
      "def square_all_3(data):\n",
      "    result = []\n",
      "    for value in data:\n",
      "        result.append(value * value)\n",
      "    return result\n",
      "\n",
      "time3 = %timeit -o square_all_3(data)\n",
      "print '{:.1%} faster'.format(ms(time2) / ms(time3) - 1)"
     ],
     "language": "python",
     "metadata": {
      "slideshow": {
       "slide_type": "-"
      }
     },
     "outputs": [
      {
       "output_type": "stream",
       "stream": "stdout",
       "text": [
        "10 loops, best of 3: 14 ms per loop\n",
        "17.8% faster\n"
       ]
      }
     ],
     "prompt_number": 35
    },
    {
     "cell_type": "markdown",
     "metadata": {
      "slideshow": {
       "slide_type": "slide"
      }
     },
     "source": [
      "# List comprehensions are faster than loops\n",
      "\n",
      "Now, let's remove the for loop and replace it with a list comprehension."
     ]
    },
    {
     "cell_type": "code",
     "collapsed": false,
     "input": [
      "def square_all_4(data):\n",
      "    return [value * value for value in data]\n",
      "\n",
      "time4 = %timeit -o square_all_4(data)\n",
      "print '{:.1%} faster'.format(ms(time3) / ms(time4) - 1)"
     ],
     "language": "python",
     "metadata": {
      "slideshow": {
       "slide_type": "-"
      }
     },
     "outputs": [
      {
       "output_type": "stream",
       "stream": "stdout",
       "text": [
        "100 loops, best of 3: 7.37 ms per loop\n",
        "90.0% faster\n"
       ]
      }
     ],
     "prompt_number": 36
    },
    {
     "cell_type": "markdown",
     "metadata": {
      "slideshow": {
       "slide_type": "-"
      }
     },
     "source": [
      "In other words, where possible\n",
      "\n",
      "1. Use list comprehensions instead of loops\n",
      "2. Inline the function calls"
     ]
    },
    {
     "cell_type": "markdown",
     "metadata": {
      "slideshow": {
       "slide_type": "slide"
      }
     },
     "source": [
      "# Think in vectors\n",
      "\n",
      "Let's try another approach to squaring these random numbers. Let's use `pandas`, which converts these into an array with a fixed datatype, and executes loops in C."
     ]
    },
    {
     "cell_type": "code",
     "collapsed": false,
     "input": [
      "data = pd.Series(data)\n",
      "\n",
      "time5 = %timeit -o data * data\n",
      "print '{:.1%} faster'.format(ms(time4) / ms(time5) - 1)"
     ],
     "language": "python",
     "metadata": {
      "slideshow": {
       "slide_type": "-"
      }
     },
     "outputs": [
      {
       "output_type": "stream",
       "stream": "stdout",
       "text": [
        "1000 loops, best of 3: 420 \u00b5s per loop\n",
        "1610.2% faster\n"
       ]
      }
     ],
     "prompt_number": 37
    },
    {
     "cell_type": "markdown",
     "metadata": {
      "slideshow": {
       "slide_type": "-"
      }
     },
     "source": [
      "That might be termed *blazing fast*. Most vector computations have the dual advantages of:\n",
      "\n",
      "- static typing (so no type checking or conversions are required)\n",
      "- C loops (so no overhead of handling exceptions, etc)"
     ]
    },
    {
     "cell_type": "markdown",
     "metadata": {
      "slideshow": {
       "slide_type": "slide"
      }
     },
     "source": [
      "Here's another example where you could have a much faster result with vector computations. If you want to scale a dataset into the range [0 - 1], this piece of code is quite fast:"
     ]
    },
    {
     "cell_type": "code",
     "collapsed": false,
     "input": [
      "lo, hi = data.min(), data.max()\n",
      "%timeit (data - lo) / (hi - lo)"
     ],
     "language": "python",
     "metadata": {
      "slideshow": {
       "slide_type": "-"
      }
     },
     "outputs": [
      {
       "output_type": "stream",
       "stream": "stdout",
       "text": [
        "1000 loops, best of 3: 1.44 ms per loop\n"
       ]
      }
     ],
     "prompt_number": 38
    },
    {
     "cell_type": "markdown",
     "metadata": {
      "slideshow": {
       "slide_type": "slide"
      }
     },
     "source": [
      "Having read [this post](http://blog.clifreeder.com/blog/2013/04/21/ruby-is-too-slow-for-programming-competitions/) on Ruby being slow, I thought I'd check the same with Python. I got it running fairly fast, but there was one piece that was taking a fair bit of time: *counting numbers in a range*. Here's the slow version:"
     ]
    },
    {
     "cell_type": "code",
     "collapsed": false,
     "input": [
      "values = numpy.random.rand(1000000)\n",
      "def count(values, a, b):\n",
      "    count = 0\n",
      "    for x in values:\n",
      "        if a <= x <= b:\n",
      "            count += 1\n",
      "    return count\n",
      "\n",
      "time1 = %timeit -o count(values, .25, .75)"
     ],
     "language": "python",
     "metadata": {
      "slideshow": {
       "slide_type": "-"
      }
     },
     "outputs": [
      {
       "output_type": "stream",
       "stream": "stdout",
       "text": [
        "1 loops, best of 3: 284 ms per loop\n"
       ]
      }
     ],
     "prompt_number": 39
    },
    {
     "cell_type": "markdown",
     "metadata": {
      "slideshow": {
       "slide_type": "slide"
      }
     },
     "source": [
      "# Vector calculations are *much* faster than looping\n",
      "\n",
      "Let's apply vector computations to this. "
     ]
    },
    {
     "cell_type": "code",
     "collapsed": false,
     "input": [
      "time2 = %timeit -o ((.25 <= values) & (values <= .75)).sum()\n",
      "print '{:.1%} faster'.format(ms(time1) / ms(time2) - 1)"
     ],
     "language": "python",
     "metadata": {
      "slideshow": {
       "slide_type": "-"
      }
     },
     "outputs": [
      {
       "output_type": "stream",
       "stream": "stdout",
       "text": [
        "100 loops, best of 3: 3.67 ms per loop\n",
        "7629.4% faster\n"
       ]
      }
     ],
     "prompt_number": 40
    },
    {
     "cell_type": "markdown",
     "metadata": {
      "slideshow": {
       "slide_type": "slide"
      }
     },
     "source": [
      "# But you can make it even faster\n",
      "\n",
      "That was pretty fast, but we can go even faster when we realise that the search would be much quicker if the values are sorted. Rather than check each value, we can apply binary search on it.\n",
      "\n",
      "Fortunately, `numpy.searchsorted` provides a built-in and fast binary search. When you apply that..."
     ]
    },
    {
     "cell_type": "code",
     "collapsed": false,
     "input": [
      "values.sort()\n",
      "time3 = %timeit -o numpy.searchsorted(values, .75) - numpy.searchsorted(values, .25)\n",
      "print '{:.1%} faster'.format(ms(time2) / ms(time3) - 1)"
     ],
     "language": "python",
     "metadata": {
      "slideshow": {
       "slide_type": "-"
      }
     },
     "outputs": [
      {
       "output_type": "stream",
       "stream": "stdout",
       "text": [
        "100000 loops, best of 3: 5.01 \u00b5s per loop\n",
        "73332.2% faster\n"
       ]
      }
     ],
     "prompt_number": 41
    },
    {
     "cell_type": "markdown",
     "metadata": {
      "slideshow": {
       "slide_type": "-"
      }
     },
     "source": [
      "So remember, again: **the best optimiser is your head**."
     ]
    },
    {
     "cell_type": "markdown",
     "metadata": {
      "slideshow": {
       "slide_type": "slide"
      }
     },
     "source": [
      "# Next topic: writing C in Python &mdash; Cython\n",
      "\n",
      "[Cython](http://docs.cython.org/) is a project that lets you write C extensions to Python using Python -- that is, you don't need to know much C. There are many ways to [install it](http://docs.cython.org/src/quickstart/install.html) but a distribution like [Anaconda](http://docs.continuum.io/anaconda/) makes it much easier to install.\n",
      "\n",
      "Once installed, you can use it in IPython like this:"
     ]
    },
    {
     "cell_type": "code",
     "collapsed": false,
     "input": [
      "%load_ext cythonmagic"
     ],
     "language": "python",
     "metadata": {
      "slideshow": {
       "slide_type": "-"
      }
     },
     "outputs": [],
     "prompt_number": 42
    },
    {
     "cell_type": "markdown",
     "metadata": {
      "slideshow": {
       "slide_type": "-"
      }
     },
     "source": [
      "From this point, any cell beginning with `%%cython` will be interpreted using Cython, not Python."
     ]
    },
    {
     "cell_type": "markdown",
     "metadata": {
      "slideshow": {
       "slide_type": "slide"
      }
     },
     "source": [
      "# Cython code is just like Python\n",
      "\n",
      "Here's the code to add up numbers up to n, written in Cython and Python."
     ]
    },
    {
     "cell_type": "code",
     "collapsed": false,
     "input": [
      "%%cython\n",
      "def total_cython(n):\n",
      "    '''Calculate the sum of all numbers up to n'''\n",
      "    cdef int a = 0        # Declare the type of a as integer\n",
      "    cdef int i            # Declare the type of i as integer\n",
      "    for i in xrange(n):   # Now loop through all the numbers\n",
      "        a += i            # ... and add them\n",
      "    return a"
     ],
     "language": "python",
     "metadata": {
      "slideshow": {
       "slide_type": "-"
      }
     },
     "outputs": [],
     "prompt_number": 43
    },
    {
     "cell_type": "code",
     "collapsed": false,
     "input": [
      "def total_python(n):\n",
      "    a = 0\n",
      "    for i in xrange(n):\n",
      "        a += i\n",
      "    return a"
     ],
     "language": "python",
     "metadata": {
      "slideshow": {
       "slide_type": "-"
      }
     },
     "outputs": [],
     "prompt_number": 44
    },
    {
     "cell_type": "markdown",
     "metadata": {
      "slideshow": {
       "slide_type": "slide"
      }
     },
     "source": [
      "# Cython can be much faster than Python"
     ]
    },
    {
     "cell_type": "code",
     "collapsed": false,
     "input": [
      "%timeit total_python(100000)\n",
      "%timeit total_cython(100000)"
     ],
     "language": "python",
     "metadata": {
      "slideshow": {
       "slide_type": "-"
      }
     },
     "outputs": [
      {
       "output_type": "stream",
       "stream": "stdout",
       "text": [
        "10 loops, best of 3: 6.66 ms per loop\n",
        "10000 loops, best of 3: 68.4 \u00b5s per loop"
       ]
      },
      {
       "output_type": "stream",
       "stream": "stdout",
       "text": [
        "\n"
       ]
      }
     ],
     "prompt_number": 45
    },
    {
     "cell_type": "markdown",
     "metadata": {
      "slideshow": {
       "slide_type": "-"
      }
     },
     "source": [
      "In this case, Cython is almost 100 times faster than Python. A fair bit of Python's overhead lies in the flexible type system and loops."
     ]
    },
    {
     "cell_type": "markdown",
     "metadata": {
      "slideshow": {
       "slide_type": "slide"
      }
     },
     "source": [
      "# But Cython is not always blazing fast\n",
      "\n",
      "Let's count the number of values between `a` and `b` like before."
     ]
    },
    {
     "cell_type": "code",
     "collapsed": false,
     "input": [
      "%%cython\n",
      "\n",
      "def count_cython(values, a, b):\n",
      "    cdef int count = 0\n",
      "    cdef float val\n",
      "    for val in values:\n",
      "        if a <= val <= b:\n",
      "            count += 1\n",
      "    return count"
     ],
     "language": "python",
     "metadata": {
      "slideshow": {
       "slide_type": "-"
      }
     },
     "outputs": [],
     "prompt_number": 46
    },
    {
     "cell_type": "code",
     "collapsed": false,
     "input": [
      "%timeit count(values, .25, .75)\n",
      "%timeit count_cython(values, .25, .75)"
     ],
     "language": "python",
     "metadata": {
      "slideshow": {
       "slide_type": "-"
      }
     },
     "outputs": [
      {
       "output_type": "stream",
       "stream": "stdout",
       "text": [
        "1 loops, best of 3: 279 ms per loop\n",
        "10 loops, best of 3: 147 ms per loop"
       ]
      },
      {
       "output_type": "stream",
       "stream": "stdout",
       "text": [
        "\n"
       ]
      }
     ],
     "prompt_number": 47
    },
    {
     "cell_type": "markdown",
     "metadata": {
      "slideshow": {
       "slide_type": "-"
      }
     },
     "source": [
      "The speed difference between Python and Cython is still considerable, but much smaller than the almost 100x improvement we got earlier."
     ]
    },
    {
     "cell_type": "markdown",
     "metadata": {
      "slideshow": {
       "slide_type": "slide"
      }
     },
     "source": [
      "# Numba is simpler than Cython\n",
      "\n",
      "[Numba](http://numba.pydata.org/) dynamically compiles Python code and makes it faster. Its speed rivals Cython's, and it's a lot easier to use. For example, to compile the `total` function, use this:"
     ]
    },
    {
     "cell_type": "code",
     "collapsed": false,
     "input": [
      "from numba.decorators import jit\n",
      "\n",
      "@jit\n",
      "def total_numba(n):\n",
      "    a = 0\n",
      "    for i in range(n):\n",
      "        a += i\n",
      "    return a"
     ],
     "language": "python",
     "metadata": {
      "slideshow": {
       "slide_type": "-"
      }
     },
     "outputs": [],
     "prompt_number": 48
    },
    {
     "cell_type": "code",
     "collapsed": false,
     "input": [
      "%timeit total_python(100000)\n",
      "%timeit total_cython(100000)\n",
      "%timeit total_numba(100000)"
     ],
     "language": "python",
     "metadata": {
      "slideshow": {
       "slide_type": "-"
      }
     },
     "outputs": [
      {
       "output_type": "stream",
       "stream": "stdout",
       "text": [
        "10 loops, best of 3: 6.43 ms per loop\n",
        "10000 loops, best of 3: 68.4 \u00b5s per loop"
       ]
      },
      {
       "output_type": "stream",
       "stream": "stdout",
       "text": [
        "\n",
        "1000000 loops, best of 3: 277 ns per loop"
       ]
      },
      {
       "output_type": "stream",
       "stream": "stdout",
       "text": [
        "\n"
       ]
      }
     ],
     "prompt_number": 51
    },
    {
     "cell_type": "markdown",
     "metadata": {},
     "source": [
      "Notice the units. Milliseconds, microseconds, *nano*seconds."
     ]
    },
    {
     "cell_type": "markdown",
     "metadata": {
      "slideshow": {
       "slide_type": "slide"
      }
     },
     "source": [
      "# Numba is often faster than Cython"
     ]
    },
    {
     "cell_type": "code",
     "collapsed": false,
     "input": [
      "@jit\n",
      "def count_numba(values, a, b):\n",
      "    count = 0\n",
      "    for i in range(len(values)):\n",
      "        if a <= values[i] and values[i] <= b:\n",
      "            count += 1\n",
      "    return count\n",
      "\n",
      "%timeit count(values, .25, .75)\n",
      "%timeit count_cython(values, .25, .75)\n",
      "%timeit count_numba(values, .25, .75)"
     ],
     "language": "python",
     "metadata": {
      "slideshow": {
       "slide_type": "-"
      }
     },
     "outputs": [
      {
       "output_type": "stream",
       "stream": "stdout",
       "text": [
        "1 loops, best of 3: 283 ms per loop\n",
        "10 loops, best of 3: 149 ms per loop"
       ]
      },
      {
       "output_type": "stream",
       "stream": "stdout",
       "text": [
        "\n",
        "100 loops, best of 3: 2.91 ms per loop"
       ]
      },
      {
       "output_type": "stream",
       "stream": "stdout",
       "text": [
        "\n"
       ]
      }
     ],
     "prompt_number": 52
    },
    {
     "cell_type": "markdown",
     "metadata": {
      "slideshow": {
       "slide_type": "slide"
      }
     },
     "source": [
      "# Summary\n",
      "\n",
      "1. If it's fast enough, don't optimise it.\n",
      "2. Find the slowest step first.\n",
      "3. Reduce the number of hits. Perform each operation as rarely as possible.\n",
      "    - Cache the result if speed is more important than memory\n",
      "    - Move slower operations inside `if` conditions\n",
      "4. Make the slowest operation faster\n",
      "    - Python functions have an overhead. Inline if possible\n",
      "    - List comprehensions are faster than `for` or `if`\n",
      "    - Use Numba or Cython if static typing, etc can help\n",
      "5. Change the algorithm. This has the second-biggest impact on speed\n",
      "6. The largest impact comes from eliminating code.\n",
      "\n",
      "> Functionality is an asset. Code is a liability."
     ]
    },
    {
     "cell_type": "markdown",
     "metadata": {
      "slideshow": {
       "slide_type": "slide"
      }
     },
     "source": [
      "# Appendix\n",
      "\n",
      "I'm sometimes asked what I use for parallel processing. My answer is [xargs](http://en.wikipedia.org/wiki/Xargs). It is devilishly powerful.\n",
      "\n",
      "**Why `xargs`?** Because\n",
      "\n",
      "1. It's ridiculously simple to use.\n",
      "2. It lets me distribute load across CPUs / cores in a machine, *as well as* across machines\n",
      "\n",
      "**Why not `threading`?** Threads are lightweight, but when processing data, you're not processing lightweight stuff. Threading helps share data. But you *don't want to share data* -- you want to process each chunk of data exactly once, and get rid of it. Threads do not have a big benefit over processes in the data world.\n",
      "\n",
      "**Why not `multiprocessing`?** The key benefit here (when compared to xargs) is that I can pass Python objects. But the disadvantage is that I cannot run the same code across multiple servers.\n",
      "\n",
      "This is not to say that these modules are not useful. Just that it's not too relevant when processing large-scale data."
     ]
    }
   ],
   "metadata": {}
  }
 ]
}